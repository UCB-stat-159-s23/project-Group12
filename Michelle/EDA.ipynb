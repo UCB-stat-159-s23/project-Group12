{
 "cells": [
  {
   "cell_type": "code",
   "execution_count": 1,
   "id": "ca93b872-7864-4dc6-a571-fedd9790b480",
   "metadata": {},
   "outputs": [],
   "source": [
    "import numpy as np\n",
    "import pandas as pd\n",
    "import matplotlib.pyplot as plt"
   ]
  },
  {
   "cell_type": "code",
   "execution_count": 2,
   "id": "5314c31d-63ea-450b-b097-c226868dc1f5",
   "metadata": {},
   "outputs": [
    {
     "data": {
      "text/plain": [
       "(25008, 24)"
      ]
     },
     "execution_count": 2,
     "metadata": {},
     "output_type": "execute_result"
    }
   ],
   "source": [
    "shelter_data = pd.read_csv('../Animal_Shelter_Data.csv')\n",
    "shelter_data.shape"
   ]
  },
  {
   "cell_type": "code",
   "execution_count": 5,
   "id": "d21613b4-f49c-4e02-b99a-1b158002b7b0",
   "metadata": {},
   "outputs": [
    {
     "data": {
      "text/html": [
       "<div>\n",
       "<style scoped>\n",
       "    .dataframe tbody tr th:only-of-type {\n",
       "        vertical-align: middle;\n",
       "    }\n",
       "\n",
       "    .dataframe tbody tr th {\n",
       "        vertical-align: top;\n",
       "    }\n",
       "\n",
       "    .dataframe thead th {\n",
       "        text-align: right;\n",
       "    }\n",
       "</style>\n",
       "<table border=\"1\" class=\"dataframe\">\n",
       "  <thead>\n",
       "    <tr style=\"text-align: right;\">\n",
       "      <th></th>\n",
       "      <th>Name</th>\n",
       "      <th>Type</th>\n",
       "      <th>Breed</th>\n",
       "      <th>Color</th>\n",
       "      <th>Sex</th>\n",
       "      <th>Size</th>\n",
       "      <th>Date Of Birth</th>\n",
       "      <th>Impound Number</th>\n",
       "      <th>Kennel Number</th>\n",
       "      <th>Animal ID</th>\n",
       "      <th>...</th>\n",
       "      <th>Intake Subtype</th>\n",
       "      <th>Outcome Type</th>\n",
       "      <th>Outcome Subtype</th>\n",
       "      <th>Intake Condition</th>\n",
       "      <th>Outcome Condition</th>\n",
       "      <th>Intake Jurisdiction</th>\n",
       "      <th>Outcome Jurisdiction</th>\n",
       "      <th>Outcome Zip Code</th>\n",
       "      <th>Location</th>\n",
       "      <th>Count</th>\n",
       "    </tr>\n",
       "  </thead>\n",
       "  <tbody>\n",
       "    <tr>\n",
       "      <th>0</th>\n",
       "      <td>RAZOR</td>\n",
       "      <td>DOG</td>\n",
       "      <td>BOSTON TERRIER</td>\n",
       "      <td>BLACK/WHITE</td>\n",
       "      <td>Neutered</td>\n",
       "      <td>SMALL</td>\n",
       "      <td>10/29/2009</td>\n",
       "      <td>K22-043412</td>\n",
       "      <td>TRUCK</td>\n",
       "      <td>A396382</td>\n",
       "      <td>...</td>\n",
       "      <td>FIELD</td>\n",
       "      <td>RETURN TO OWNER</td>\n",
       "      <td>FLD_IDTAG</td>\n",
       "      <td>UNKNOWN</td>\n",
       "      <td>HEALTHY</td>\n",
       "      <td>SANTA ROSA</td>\n",
       "      <td>SANTA ROSA</td>\n",
       "      <td>95404.0</td>\n",
       "      <td>95404(38.43807, -122.71247)</td>\n",
       "      <td>1</td>\n",
       "    </tr>\n",
       "    <tr>\n",
       "      <th>1</th>\n",
       "      <td>NaN</td>\n",
       "      <td>OTHER</td>\n",
       "      <td>PIGEON</td>\n",
       "      <td>GRAY/WHITE</td>\n",
       "      <td>Unknown</td>\n",
       "      <td>SMALL</td>\n",
       "      <td>NaN</td>\n",
       "      <td>K23-044095</td>\n",
       "      <td>TRUCK</td>\n",
       "      <td>A416206</td>\n",
       "      <td>...</td>\n",
       "      <td>FIELD</td>\n",
       "      <td>EUTHANIZE</td>\n",
       "      <td>INJ SEVERE</td>\n",
       "      <td>UNKNOWN</td>\n",
       "      <td>HEALTHY</td>\n",
       "      <td>SANTA ROSA</td>\n",
       "      <td>NaN</td>\n",
       "      <td>NaN</td>\n",
       "      <td>NaN</td>\n",
       "      <td>1</td>\n",
       "    </tr>\n",
       "    <tr>\n",
       "      <th>2</th>\n",
       "      <td>MAX</td>\n",
       "      <td>DOG</td>\n",
       "      <td>BORDER COLLIE</td>\n",
       "      <td>BLACK/TRICOLOR</td>\n",
       "      <td>Neutered</td>\n",
       "      <td>MED</td>\n",
       "      <td>03/10/2020</td>\n",
       "      <td>K23-044090</td>\n",
       "      <td>DS80</td>\n",
       "      <td>A399488</td>\n",
       "      <td>...</td>\n",
       "      <td>FIELD</td>\n",
       "      <td>RETURN TO OWNER</td>\n",
       "      <td>OVER THE COUNTER_CALL</td>\n",
       "      <td>UNKNOWN</td>\n",
       "      <td>PENDING</td>\n",
       "      <td>COUNTY</td>\n",
       "      <td>COUNTY</td>\n",
       "      <td>95472.0</td>\n",
       "      <td>95472(38.40179, -122.82512)</td>\n",
       "      <td>1</td>\n",
       "    </tr>\n",
       "    <tr>\n",
       "      <th>3</th>\n",
       "      <td>NaN</td>\n",
       "      <td>CAT</td>\n",
       "      <td>DOMESTIC LH</td>\n",
       "      <td>GRAY/WHITE</td>\n",
       "      <td>Spayed</td>\n",
       "      <td>SMALL</td>\n",
       "      <td>06/26/2011</td>\n",
       "      <td>K22-043405</td>\n",
       "      <td>VET</td>\n",
       "      <td>A414520</td>\n",
       "      <td>...</td>\n",
       "      <td>FIELD</td>\n",
       "      <td>DISPOSAL</td>\n",
       "      <td>DOA</td>\n",
       "      <td>UNKNOWN</td>\n",
       "      <td>DEAD</td>\n",
       "      <td>COUNTY</td>\n",
       "      <td>SANTA ROSA</td>\n",
       "      <td>95403.0</td>\n",
       "      <td>95403(38.51311, -122.75502)</td>\n",
       "      <td>1</td>\n",
       "    </tr>\n",
       "    <tr>\n",
       "      <th>4</th>\n",
       "      <td>PUDGY</td>\n",
       "      <td>DOG</td>\n",
       "      <td>CHIHUAHUA SH/SCHIPPERKE</td>\n",
       "      <td>TAN</td>\n",
       "      <td>Neutered</td>\n",
       "      <td>MED</td>\n",
       "      <td>07/20/2013</td>\n",
       "      <td>K23-043813</td>\n",
       "      <td>DA27</td>\n",
       "      <td>A415428</td>\n",
       "      <td>...</td>\n",
       "      <td>OVER THE COUNTER</td>\n",
       "      <td>TRANSFER</td>\n",
       "      <td>MUTTVILLE</td>\n",
       "      <td>UNKNOWN</td>\n",
       "      <td>HEALTHY</td>\n",
       "      <td>SANTA ROSA</td>\n",
       "      <td>OUT OF COUNTY</td>\n",
       "      <td>94103.0</td>\n",
       "      <td>94103(37.77672, -122.40779)</td>\n",
       "      <td>1</td>\n",
       "    </tr>\n",
       "  </tbody>\n",
       "</table>\n",
       "<p>5 rows × 24 columns</p>\n",
       "</div>"
      ],
      "text/plain": [
       "    Name   Type                    Breed           Color       Sex   Size  \\\n",
       "0  RAZOR    DOG           BOSTON TERRIER     BLACK/WHITE  Neutered  SMALL   \n",
       "1    NaN  OTHER                   PIGEON      GRAY/WHITE   Unknown  SMALL   \n",
       "2    MAX    DOG            BORDER COLLIE  BLACK/TRICOLOR  Neutered    MED   \n",
       "3    NaN    CAT              DOMESTIC LH      GRAY/WHITE    Spayed  SMALL   \n",
       "4  PUDGY    DOG  CHIHUAHUA SH/SCHIPPERKE             TAN  Neutered    MED   \n",
       "\n",
       "  Date Of Birth Impound Number Kennel Number Animal ID  ...    Intake Subtype  \\\n",
       "0    10/29/2009     K22-043412         TRUCK   A396382  ...             FIELD   \n",
       "1           NaN     K23-044095         TRUCK   A416206  ...             FIELD   \n",
       "2    03/10/2020     K23-044090          DS80   A399488  ...             FIELD   \n",
       "3    06/26/2011     K22-043405           VET   A414520  ...             FIELD   \n",
       "4    07/20/2013     K23-043813          DA27   A415428  ...  OVER THE COUNTER   \n",
       "\n",
       "      Outcome Type        Outcome Subtype Intake Condition Outcome Condition  \\\n",
       "0  RETURN TO OWNER              FLD_IDTAG          UNKNOWN           HEALTHY   \n",
       "1        EUTHANIZE             INJ SEVERE          UNKNOWN           HEALTHY   \n",
       "2  RETURN TO OWNER  OVER THE COUNTER_CALL          UNKNOWN           PENDING   \n",
       "3         DISPOSAL                    DOA          UNKNOWN              DEAD   \n",
       "4         TRANSFER              MUTTVILLE          UNKNOWN           HEALTHY   \n",
       "\n",
       "  Intake Jurisdiction Outcome Jurisdiction Outcome Zip Code  \\\n",
       "0          SANTA ROSA           SANTA ROSA          95404.0   \n",
       "1          SANTA ROSA                  NaN              NaN   \n",
       "2              COUNTY               COUNTY          95472.0   \n",
       "3              COUNTY           SANTA ROSA          95403.0   \n",
       "4          SANTA ROSA        OUT OF COUNTY          94103.0   \n",
       "\n",
       "                      Location Count  \n",
       "0  95404(38.43807, -122.71247)     1  \n",
       "1                          NaN     1  \n",
       "2  95472(38.40179, -122.82512)     1  \n",
       "3  95403(38.51311, -122.75502)     1  \n",
       "4  94103(37.77672, -122.40779)     1  \n",
       "\n",
       "[5 rows x 24 columns]"
      ]
     },
     "execution_count": 5,
     "metadata": {},
     "output_type": "execute_result"
    }
   ],
   "source": [
    "shelter_data.head()"
   ]
  },
  {
   "cell_type": "code",
   "execution_count": 96,
   "id": "0911f5f1-ace4-4f9f-8af5-4f7d5c33227f",
   "metadata": {},
   "outputs": [
    {
     "data": {
      "text/plain": [
       "Index(['Name', 'Type', 'Breed', 'Color', 'Sex', 'Size', 'Date Of Birth',\n",
       "       'Impound Number', 'Kennel Number', 'Animal ID', 'Intake Date',\n",
       "       'Outcome Date', 'Days in Shelter', 'Intake Type', 'Intake Subtype',\n",
       "       'Outcome Type', 'Outcome Subtype', 'Intake Condition',\n",
       "       'Outcome Condition', 'Intake Jurisdiction', 'Outcome Jurisdiction',\n",
       "       'Outcome Zip Code', 'Location', 'Count', 'Intake Year', 'Adopted'],\n",
       "      dtype='object')"
      ]
     },
     "execution_count": 96,
     "metadata": {},
     "output_type": "execute_result"
    }
   ],
   "source": [
    "shelter_data.columns"
   ]
  },
  {
   "cell_type": "code",
   "execution_count": 122,
   "id": "60205332-6525-4d5a-a634-ab8d5f8bdce1",
   "metadata": {},
   "outputs": [
    {
     "data": {
      "text/plain": [
       "Name                    6567\n",
       "Type                       0\n",
       "Breed                      0\n",
       "Color                      0\n",
       "Sex                        0\n",
       "Size                       0\n",
       "Date Of Birth           6206\n",
       "Impound Number             0\n",
       "Kennel Number             12\n",
       "Animal ID                  0\n",
       "Intake Date                0\n",
       "Outcome Date             159\n",
       "Days in Shelter            0\n",
       "Intake Type                0\n",
       "Intake Subtype             0\n",
       "Outcome Type             165\n",
       "Outcome Subtype          482\n",
       "Intake Condition           0\n",
       "Outcome Condition        508\n",
       "Intake Jurisdiction        0\n",
       "Outcome Jurisdiction    3508\n",
       "Outcome Zip Code        3565\n",
       "Location                3565\n",
       "Count                      0\n",
       "dtype: int64"
      ]
     },
     "execution_count": 122,
     "metadata": {},
     "output_type": "execute_result"
    }
   ],
   "source": [
    "shelter_data.dropna(subset=['Size'], inplace=True)\n",
    "shelter_data.isnull().sum()"
   ]
  },
  {
   "cell_type": "code",
   "execution_count": 126,
   "id": "0b7c007a-eae6-4bfb-9926-3ea99baf7b79",
   "metadata": {},
   "outputs": [],
   "source": [
    "shelter_data.rename(columns={'Intake Subtype': 'Intake_Subtype',\n",
    "                            'Intake Type': 'Intake_Type',\n",
    "                            'Intake Condition': 'Intake_Condition'}, inplace=True)"
   ]
  },
  {
   "cell_type": "markdown",
   "id": "d94c0dd0-a62a-4c54-a47a-713da9b0b6cb",
   "metadata": {
    "user_expressions": []
   },
   "source": [
    "### Explore the Number of Animals in the Shelter by Type"
   ]
  },
  {
   "cell_type": "code",
   "execution_count": 102,
   "id": "826b792c-bbe2-435e-8848-23c7260f1b61",
   "metadata": {},
   "outputs": [
    {
     "data": {
      "text/plain": [
       "Index(['Name', 'Type', 'Breed', 'Color', 'Sex', 'Size', 'Date Of Birth',\n",
       "       'Impound Number', 'Kennel Number', 'Animal ID', 'Intake Date',\n",
       "       'Outcome Date', 'Days in Shelter', 'Intake_Type', 'Intake_Subtype',\n",
       "       'Outcome Type', 'Outcome Subtype', 'Intake_Condition',\n",
       "       'Outcome Condition', 'Intake Jurisdiction', 'Outcome Jurisdiction',\n",
       "       'Outcome Zip Code', 'Location', 'Count', 'Intake Year', 'Adopted'],\n",
       "      dtype='object')"
      ]
     },
     "execution_count": 102,
     "metadata": {},
     "output_type": "execute_result"
    }
   ],
   "source": [
    "shelter_data.columns"
   ]
  },
  {
   "cell_type": "code",
   "execution_count": 103,
   "id": "0f22295b-5622-4bb3-8e8f-b74b0462e0ba",
   "metadata": {},
   "outputs": [
    {
     "data": {
      "text/plain": [
       "Intake_Type      Type \n",
       "ADOPTION RETURN  DOG        289\n",
       "                 CAT        116\n",
       "                 OTHER        4\n",
       "BORN HERE        CAT         16\n",
       "                 OTHER        1\n",
       "CONFISCATE       DOG       1460\n",
       "                 CAT        245\n",
       "                 OTHER      197\n",
       "OS APPT          DOG          1\n",
       "OWNER SURRENDER  CAT       1583\n",
       "                 DOG       1399\n",
       "                 OTHER      143\n",
       "QUARANTINE       DOG        422\n",
       "                 OTHER      277\n",
       "                 CAT        117\n",
       "STRAY            DOG      10196\n",
       "                 CAT       6598\n",
       "                 OTHER     1409\n",
       "TRANSFER         DOG        244\n",
       "                 CAT        159\n",
       "                 OTHER       12\n",
       "Name: Type, dtype: int64"
      ]
     },
     "execution_count": 103,
     "metadata": {},
     "output_type": "execute_result"
    }
   ],
   "source": [
    "shelter_data.groupby('Intake_Type')['Type'].value_counts()"
   ]
  },
  {
   "cell_type": "markdown",
   "id": "83ff9283-b657-4076-a6da-95817254415b",
   "metadata": {
    "user_expressions": []
   },
   "source": [
    "### EDA: What are the Top Cat Breeds in the Shelter?"
   ]
  },
  {
   "cell_type": "code",
   "execution_count": 104,
   "id": "40797812-d3e2-41d4-850e-35f9b9385ad5",
   "metadata": {},
   "outputs": [
    {
     "data": {
      "image/png": "[encoded data removed]",
      "text/plain": [
       "<Figure size 640x480 with 1 Axes>"
      ]
     },
     "metadata": {},
     "output_type": "display_data"
    }
   ],
   "source": [
    "cat_data = shelter_data[shelter_data['Type'] == 'CAT']\n",
    "cat_breed_counts = cat_data['Breed'].value_counts(ascending=True).tail(5)\n",
    "plt.barh(cat_breed_counts.index, cat_breed_counts)\n",
    "plt.title('Top Cat Breeds in the Shelter', size=15)\n",
    "plt.xlabel('Count', size=15)\n",
    "plt.ylabel('Breed', size=15)\n",
    "plt.show()"
   ]
  },
  {
   "cell_type": "markdown",
   "id": "69c93feb-e792-4a4a-b305-ab010cde4a81",
   "metadata": {
    "tags": [],
    "user_expressions": []
   },
   "source": [
    "### EDA: What are the Top Dog Breeds in the Shelter?"
   ]
  },
  {
   "cell_type": "code",
   "execution_count": 105,
   "id": "20a5fd09-7012-4b00-9b1e-b77cab94c29c",
   "metadata": {},
   "outputs": [
    {
     "data": {
      "image/png": "[encoded data removed]",
      "text/plain": [
       "<Figure size 640x480 with 1 Axes>"
      ]
     },
     "metadata": {},
     "output_type": "display_data"
    }
   ],
   "source": [
    "dog_data = shelter_data[shelter_data['Type'] == 'DOG']\n",
    "dog_breed_counts = dog_data['Breed'].value_counts(ascending=True).tail(5)\n",
    "plt.barh(dog_breed_counts.index, dog_breed_counts)\n",
    "plt.title('Top Dog Breeds in the Shelter', size=15)\n",
    "plt.xlabel('Count', size=15)\n",
    "plt.ylabel('Breed', size=15)\n",
    "plt.show()"
   ]
  },
  {
   "cell_type": "code",
   "execution_count": 106,
   "id": "197babea-ab37-4926-9903-269c2d785d50",
   "metadata": {},
   "outputs": [
    {
     "data": {
      "text/plain": [
       "Index(['Name', 'Type', 'Breed', 'Color', 'Sex', 'Size', 'Date Of Birth',\n",
       "       'Impound Number', 'Kennel Number', 'Animal ID', 'Intake Date',\n",
       "       'Outcome Date', 'Days in Shelter', 'Intake_Type', 'Intake_Subtype',\n",
       "       'Outcome Type', 'Outcome Subtype', 'Intake_Condition',\n",
       "       'Outcome Condition', 'Intake Jurisdiction', 'Outcome Jurisdiction',\n",
       "       'Outcome Zip Code', 'Location', 'Count', 'Intake Year', 'Adopted'],\n",
       "      dtype='object')"
      ]
     },
     "execution_count": 106,
     "metadata": {},
     "output_type": "execute_result"
    }
   ],
   "source": [
    "shelter_data.columns"
   ]
  },
  {
   "cell_type": "markdown",
   "id": "8e4f5dbc-22b4-4191-a013-dec9146a7ef8",
   "metadata": {
    "tags": [],
    "user_expressions": []
   },
   "source": [
    "### Trend line: which year has the most number of animal intakes?"
   ]
  },
  {
   "cell_type": "code",
   "execution_count": 107,
   "id": "ddacd5f9-e45d-428d-a71a-979d67077cd0",
   "metadata": {},
   "outputs": [
    {
     "data": {
      "image/png": "[encoded data removed]",
      "text/plain": [
       "<Figure size 640x480 with 1 Axes>"
      ]
     },
     "metadata": {},
     "output_type": "display_data"
    }
   ],
   "source": [
    "shelter_data['Intake Year'] = shelter_data['Intake Date'].apply(lambda x: x[-4:])\n",
    "\n",
    "# Filter the data to only include records from the year 2014 and later.\n",
    "shelter_data = shelter_data[shelter_data['Intake Year'] != '2013']\n",
    "intake_counts = shelter_data.groupby('Intake Year').size()\n",
    "intake_counts.plot(kind='line', title='Animal Intakes by Year')\n",
    "plt.scatter(x=intake_counts.index, y=intake_counts)\n",
    "plt.xticks(np.arange(len(intake_counts)), intake_counts.index)\n",
    "plt.xlabel('Intake Year', size=15)\n",
    "plt.ylabel('Count', size=15)\n",
    "plt.title('Trend Line of Animal Intakes by Year', size=15)\n",
    "plt.show()"
   ]
  },
  {
   "cell_type": "markdown",
   "id": "c28511d3-24fb-4019-a0fb-c7f7fd9b0849",
   "metadata": {
    "tags": [],
    "user_expressions": []
   },
   "source": [
    "# Predict whether an Animal is adopted eventually"
   ]
  },
  {
   "cell_type": "code",
   "execution_count": 127,
   "id": "42d7cd7d-56fd-4652-a191-87cfd39f1fb1",
   "metadata": {},
   "outputs": [
    {
     "data": {
      "text/plain": [
       "((17481, 25), (7492, 25))"
      ]
     },
     "execution_count": 127,
     "metadata": {},
     "output_type": "execute_result"
    }
   ],
   "source": [
    "# Create a new column named Adopted, and assign a value of 0 or 1 \n",
    "# to indicate whether each animal has been adopted or not.\n",
    "shelter_data['Adopted'] = (shelter_data['Outcome Type'] == 'ADOPTION').astype(int)\n",
    "\n",
    "from sklearn.model_selection import train_test_split\n",
    "#Split the data into test and train\n",
    "shelter_train, shelter_test = train_test_split(shelter_data, test_size=0.3, random_state=159)\n",
    "shelter_train.shape, shelter_test.shape"
   ]
  },
  {
   "cell_type": "code",
   "execution_count": 128,
   "id": "8d5af6ca-16c5-4b78-8842-3631e444ea15",
   "metadata": {},
   "outputs": [
    {
     "data": {
      "text/plain": [
       "Index(['Name', 'Type', 'Breed', 'Color', 'Sex', 'Size', 'Date Of Birth',\n",
       "       'Impound Number', 'Kennel Number', 'Animal ID', 'Intake Date',\n",
       "       'Outcome Date', 'Days in Shelter', 'Intake_Type', 'Intake_Subtype',\n",
       "       'Outcome Type', 'Outcome Subtype', 'Intake_Condition',\n",
       "       'Outcome Condition', 'Intake Jurisdiction', 'Outcome Jurisdiction',\n",
       "       'Outcome Zip Code', 'Location', 'Count', 'Adopted'],\n",
       "      dtype='object')"
      ]
     },
     "execution_count": 128,
     "metadata": {},
     "output_type": "execute_result"
    }
   ],
   "source": [
    "shelter_train.columns"
   ]
  },
  {
   "cell_type": "code",
   "execution_count": 134,
   "id": "f4e834ac-da3e-48f6-9a98-d83ae858f34f",
   "metadata": {},
   "outputs": [
    {
     "data": {
      "text/html": [
       "<div>\n",
       "<style scoped>\n",
       "    .dataframe tbody tr th:only-of-type {\n",
       "        vertical-align: middle;\n",
       "    }\n",
       "\n",
       "    .dataframe tbody tr th {\n",
       "        vertical-align: top;\n",
       "    }\n",
       "\n",
       "    .dataframe thead th {\n",
       "        text-align: right;\n",
       "    }\n",
       "</style>\n",
       "<table border=\"1\" class=\"dataframe\">\n",
       "  <thead>\n",
       "    <tr style=\"text-align: right;\">\n",
       "      <th></th>\n",
       "      <th>Type</th>\n",
       "      <th>Sex</th>\n",
       "      <th>Size</th>\n",
       "      <th>Intake_Type</th>\n",
       "      <th>Intake_Condition</th>\n",
       "    </tr>\n",
       "  </thead>\n",
       "  <tbody>\n",
       "    <tr>\n",
       "      <th>19589</th>\n",
       "      <td>DOG</td>\n",
       "      <td>Neutered</td>\n",
       "      <td>LARGE</td>\n",
       "      <td>STRAY</td>\n",
       "      <td>UNKNOWN</td>\n",
       "    </tr>\n",
       "    <tr>\n",
       "      <th>15621</th>\n",
       "      <td>CAT</td>\n",
       "      <td>Unknown</td>\n",
       "      <td>KITTN</td>\n",
       "      <td>STRAY</td>\n",
       "      <td>UNTREATABLE</td>\n",
       "    </tr>\n",
       "    <tr>\n",
       "      <th>17950</th>\n",
       "      <td>CAT</td>\n",
       "      <td>Spayed</td>\n",
       "      <td>SMALL</td>\n",
       "      <td>QUARANTINE</td>\n",
       "      <td>UNTREATABLE</td>\n",
       "    </tr>\n",
       "    <tr>\n",
       "      <th>19344</th>\n",
       "      <td>DOG</td>\n",
       "      <td>Neutered</td>\n",
       "      <td>MED</td>\n",
       "      <td>STRAY</td>\n",
       "      <td>UNKNOWN</td>\n",
       "    </tr>\n",
       "    <tr>\n",
       "      <th>22262</th>\n",
       "      <td>OTHER</td>\n",
       "      <td>Unknown</td>\n",
       "      <td>SMALL</td>\n",
       "      <td>QUARANTINE</td>\n",
       "      <td>UNTREATABLE</td>\n",
       "    </tr>\n",
       "    <tr>\n",
       "      <th>...</th>\n",
       "      <td>...</td>\n",
       "      <td>...</td>\n",
       "      <td>...</td>\n",
       "      <td>...</td>\n",
       "      <td>...</td>\n",
       "    </tr>\n",
       "    <tr>\n",
       "      <th>9882</th>\n",
       "      <td>DOG</td>\n",
       "      <td>Male</td>\n",
       "      <td>MED</td>\n",
       "      <td>STRAY</td>\n",
       "      <td>UNKNOWN</td>\n",
       "    </tr>\n",
       "    <tr>\n",
       "      <th>13222</th>\n",
       "      <td>DOG</td>\n",
       "      <td>Neutered</td>\n",
       "      <td>LARGE</td>\n",
       "      <td>STRAY</td>\n",
       "      <td>HEALTHY</td>\n",
       "    </tr>\n",
       "    <tr>\n",
       "      <th>16642</th>\n",
       "      <td>DOG</td>\n",
       "      <td>Neutered</td>\n",
       "      <td>LARGE</td>\n",
       "      <td>STRAY</td>\n",
       "      <td>TREATABLE/MANAGEABLE</td>\n",
       "    </tr>\n",
       "    <tr>\n",
       "      <th>22397</th>\n",
       "      <td>CAT</td>\n",
       "      <td>Male</td>\n",
       "      <td>SMALL</td>\n",
       "      <td>OWNER SURRENDER</td>\n",
       "      <td>UNKNOWN</td>\n",
       "    </tr>\n",
       "    <tr>\n",
       "      <th>22056</th>\n",
       "      <td>DOG</td>\n",
       "      <td>Male</td>\n",
       "      <td>LARGE</td>\n",
       "      <td>STRAY</td>\n",
       "      <td>UNKNOWN</td>\n",
       "    </tr>\n",
       "  </tbody>\n",
       "</table>\n",
       "<p>17481 rows × 5 columns</p>\n",
       "</div>"
      ],
      "text/plain": [
       "        Type       Sex   Size      Intake_Type      Intake_Condition\n",
       "19589    DOG  Neutered  LARGE            STRAY               UNKNOWN\n",
       "15621    CAT   Unknown  KITTN            STRAY           UNTREATABLE\n",
       "17950    CAT    Spayed  SMALL       QUARANTINE           UNTREATABLE\n",
       "19344    DOG  Neutered    MED            STRAY               UNKNOWN\n",
       "22262  OTHER   Unknown  SMALL       QUARANTINE           UNTREATABLE\n",
       "...      ...       ...    ...              ...                   ...\n",
       "9882     DOG      Male    MED            STRAY               UNKNOWN\n",
       "13222    DOG  Neutered  LARGE            STRAY               HEALTHY\n",
       "16642    DOG  Neutered  LARGE            STRAY  TREATABLE/MANAGEABLE\n",
       "22397    CAT      Male  SMALL  OWNER SURRENDER               UNKNOWN\n",
       "22056    DOG      Male  LARGE            STRAY               UNKNOWN\n",
       "\n",
       "[17481 rows x 5 columns]"
      ]
     },
     "execution_count": 134,
     "metadata": {},
     "output_type": "execute_result"
    }
   ],
   "source": [
    "shelter_train[['Type', 'Sex', 'Size', 'Intake_Type', 'Intake_Condition']]"
   ]
  },
  {
   "cell_type": "code",
   "execution_count": 135,
   "id": "489eea1c-45c8-4df4-af29-b87053add0d9",
   "metadata": {
    "tags": [],
    "user_expressions": []
   },
   "outputs": [
    {
     "name": "stdout",
     "output_type": "stream",
     "text": [
      "Warning: Maximum number of iterations has been exceeded.\n",
      "         Current function value: 0.357273\n",
      "         Iterations: 35\n",
      "                           Logit Regression Results                           \n",
      "==============================================================================\n",
      "Dep. Variable:                Adopted   No. Observations:                17481\n",
      "Model:                          Logit   Df Residuals:                    17457\n",
      "Method:                           MLE   Df Model:                           23\n",
      "Date:                Mon, 01 May 2023   Pseudo R-squ.:                  0.4094\n",
      "Time:                        23:26:46   Log-Likelihood:                -6245.5\n",
      "converged:                      False   LL-Null:                       -10575.\n",
      "Covariance Type:            nonrobust   LLR p-value:                     0.000\n",
      "============================================================================================================\n",
      "                                               coef    std err          z      P>|z|      [0.025      0.975]\n",
      "------------------------------------------------------------------------------------------------------------\n",
      "Intercept                                   -0.2155      0.201     -1.072      0.284      -0.610       0.179\n",
      "Type[T.DOG]                                 -0.2597      0.069     -3.740      0.000      -0.396      -0.124\n",
      "Type[T.OTHER]                                2.1649      0.132     16.347      0.000       1.905       2.424\n",
      "Sex[T.Male]                                 -0.3421      0.166     -2.064      0.039      -0.667      -0.017\n",
      "Sex[T.Neutered]                              3.4818      0.131     26.629      0.000       3.225       3.738\n",
      "Sex[T.Spayed]                                3.6436      0.132     27.655      0.000       3.385       3.902\n",
      "Sex[T.Unknown]                              -0.8231      0.192     -4.298      0.000      -1.198      -0.448\n",
      "Size[T.LARGE]                               -2.3318      0.111    -21.093      0.000      -2.549      -2.115\n",
      "Size[T.MED]                                 -1.9292      0.107    -17.972      0.000      -2.140      -1.719\n",
      "Size[T.PUPPY]                                0.0186      0.154      0.121      0.904      -0.284       0.321\n",
      "Size[T.SMALL]                               -1.5469      0.081    -19.133      0.000      -1.705      -1.388\n",
      "Size[T.TOY]                                 -1.3876      0.129    -10.746      0.000      -1.641      -1.134\n",
      "Size[T.X-LRG]                               -2.8595      0.287     -9.963      0.000      -3.422      -2.297\n",
      "Intake_Type[T.BORN HERE]                   -18.5356   8192.129     -0.002      0.998   -1.61e+04     1.6e+04\n",
      "Intake_Type[T.CONFISCATE]                   -2.4406      0.175    -13.907      0.000      -2.785      -2.097\n",
      "Intake_Type[T.OS APPT]                     -15.0138   3346.556     -0.004      0.996   -6574.143    6544.115\n",
      "Intake_Type[T.OWNER SURRENDER]              -0.8415      0.157     -5.360      0.000      -1.149      -0.534\n",
      "Intake_Type[T.QUARANTINE]                   -3.2438      0.300    -10.818      0.000      -3.832      -2.656\n",
      "Intake_Type[T.STRAY]                        -1.6970      0.148    -11.465      0.000      -1.987      -1.407\n",
      "Intake_Type[T.TRANSFER]                     -1.0886      0.205     -5.298      0.000      -1.491      -0.686\n",
      "Intake_Condition[T.TREATABLE/MANAGEABLE]    -0.5956      0.091     -6.543      0.000      -0.774      -0.417\n",
      "Intake_Condition[T.TREATABLE/REHAB]          0.3818      0.077      4.954      0.000       0.231       0.533\n",
      "Intake_Condition[T.UNKNOWN]                 -1.3646      0.063    -21.801      0.000      -1.487      -1.242\n",
      "Intake_Condition[T.UNTREATABLE]             -4.3279      0.360    -12.012      0.000      -5.034      -3.622\n",
      "============================================================================================================\n"
     ]
    },
    {
     "name": "stderr",
     "output_type": "stream",
     "text": [
      "/srv/conda/envs/notebook/lib/python3.10/site-packages/statsmodels/base/model.py:604: ConvergenceWarning: Maximum Likelihood optimization failed to converge. Check mle_retvals\n",
      "  warnings.warn(\"Maximum Likelihood optimization failed to \"\n"
     ]
    }
   ],
   "source": [
    "import statsmodels.formula.api as smf\n",
    "logreg = smf.logit(formula = 'Adopted ~ Type + Sex + Size + Intake_Type + Intake_Condition',\n",
    "                       data = shelter_train).fit()\n",
    "print(logreg.summary())"
   ]
  },
  {
   "cell_type": "code",
   "execution_count": 141,
   "id": "7ad1ea5b-31ea-48ef-b5a7-0c51ee671bdf",
   "metadata": {},
   "outputs": [
    {
     "name": "stdout",
     "output_type": "stream",
     "text": [
      "Confusion Matrix : \n",
      " [[4820  460]\n",
      " [ 809 1403]]\n"
     ]
    }
   ],
   "source": [
    "# Predicting the probability of adopted\n",
    "y_prob = logreg.predict(shelter_test)\n",
    "\n",
    "# Predicting the label: 0 or 1?\n",
    "y_pred = pd.Series([1 if x > 1/2 else 0 for x in y_prob], index=y_prob.index)\n",
    "\n",
    "from sklearn.metrics import confusion_matrix\n",
    "y_test = shelter_test['Adopted']\n",
    "cm = confusion_matrix(y_test, y_pred)\n",
    "print (\"Confusion Matrix : \\n\", cm) "
   ]
  },
  {
   "cell_type": "code",
   "execution_count": 143,
   "id": "1171879c-4fa7-423d-9b8d-5b75908f04d0",
   "metadata": {},
   "outputs": [
    {
     "name": "stdout",
     "output_type": "stream",
     "text": [
      "Accuracy is: 0.8306\n",
      "TPR is: 0.6343\n",
      "FPR is: 0.0871\n"
     ]
    }
   ],
   "source": [
    "TN, FP, FN, TP = cm.ravel()\n",
    "\n",
    "# What is the Accuracy?\n",
    "acc= (TN + TP) / sum(cm.ravel())\n",
    "print('Accuracy is: %.4f' %acc)\n",
    "\n",
    "\n",
    "# What is the True Positive Rate ?\n",
    "TPR_logit = TP/(TP+FN)\n",
    "print('TPR is: %.4f' % TPR_logit)\n",
    "\n",
    "# What is the False Positive rate ?\n",
    "FPR_logit = FP/(FP+TN)\n",
    "print('FPR is: %.4f' % FPR_logit)"
   ]
  },
  {
   "cell_type": "code",
   "execution_count": null,
   "id": "44505833-92b4-4328-86da-0a3564181d6b",
   "metadata": {},
   "outputs": [],
   "source": []
  }
 ],
 "metadata": {
  "kernelspec": {
   "display_name": "Python 3 (ipykernel)",
   "language": "python",
   "name": "python3"
  },
  "language_info": {
   "codemirror_mode": {
    "name": "ipython",
    "version": 3
   },
   "file_extension": ".py",
   "mimetype": "text/x-python",
   "name": "python",
   "nbconvert_exporter": "python",
   "pygments_lexer": "ipython3",
   "version": "3.10.8"
  }
 },
 "nbformat": 4,
 "nbformat_minor": 5
}
