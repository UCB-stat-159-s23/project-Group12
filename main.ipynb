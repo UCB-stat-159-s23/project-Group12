{
 "cells": [
  {
   "cell_type": "markdown",
   "id": "d72ee2d9-82aa-4237-bd0d-96b0c3236f13",
   "metadata": {
    "user_expressions": []
   },
   "source": [
    "# Analysis of Animal Shelter Data in Sonoma County, CA"
   ]
  },
  {
   "cell_type": "markdown",
   "id": "fcdfca93-a389-4bf5-ada9-75a988a2b0dc",
   "metadata": {
    "user_expressions": []
   },
   "source": [
    "## Goal of Analysis"
   ]
  },
  {
   "cell_type": "markdown",
   "id": "0f4a272a-f344-4c0a-a5bc-7aea1082b4a5",
   "metadata": {
    "user_expressions": []
   },
   "source": [
    "Our main goal is to shed insight on the outcomes of animals surrendered to Sonoma County Animal Services."
   ]
  },
  {
   "cell_type": "markdown",
   "id": "4b8dd5bb-a8ee-46de-a831-bfd324d52419",
   "metadata": {
    "user_expressions": []
   },
   "source": [
    "## About the Data"
   ]
  },
  {
   "cell_type": "code",
   "execution_count": 37,
   "id": "0a89bdb2-5257-450f-8e01-c681f23df296",
   "metadata": {},
   "outputs": [],
   "source": [
    "import numpy as np\n",
    "import pandas as pd\n",
    "import matplotlib.pyplot as plt\n",
    "from sklearn.model_selection import train_test_split\n",
    "import statsmodels.api as sm\n",
    "import statsmodels.formula.api as smf\n",
    "from sklearn.metrics import confusion_matrix\n",
    "from statsmodels.stats.outliers_influence import variance_inflation_factor\n",
    "import random\n",
    "random.seed(159)"
   ]
  },
  {
   "cell_type": "code",
   "execution_count": 18,
   "id": "1c7f4362-ba8e-4195-875b-832802e979aa",
   "metadata": {},
   "outputs": [
    {
     "data": {
      "text/plain": [
       "(25008, 24)"
      ]
     },
     "execution_count": 18,
     "metadata": {},
     "output_type": "execute_result"
    }
   ],
   "source": [
    "shelter_data = pd.read_csv('./Animal_Shelter_Data.csv')\n",
    "shelter_data.shape"
   ]
  },
  {
   "cell_type": "code",
   "execution_count": 19,
   "id": "e5febec8-874c-44e3-9237-dfcb2592771b",
   "metadata": {},
   "outputs": [
    {
     "data": {
      "text/html": [
       "<div>\n",
       "<style scoped>\n",
       "    .dataframe tbody tr th:only-of-type {\n",
       "        vertical-align: middle;\n",
       "    }\n",
       "\n",
       "    .dataframe tbody tr th {\n",
       "        vertical-align: top;\n",
       "    }\n",
       "\n",
       "    .dataframe thead th {\n",
       "        text-align: right;\n",
       "    }\n",
       "</style>\n",
       "<table border=\"1\" class=\"dataframe\">\n",
       "  <thead>\n",
       "    <tr style=\"text-align: right;\">\n",
       "      <th></th>\n",
       "      <th>Name</th>\n",
       "      <th>Type</th>\n",
       "      <th>Breed</th>\n",
       "      <th>Color</th>\n",
       "      <th>Sex</th>\n",
       "      <th>Size</th>\n",
       "      <th>Date Of Birth</th>\n",
       "      <th>Impound Number</th>\n",
       "      <th>Kennel Number</th>\n",
       "      <th>Animal ID</th>\n",
       "      <th>...</th>\n",
       "      <th>Intake Subtype</th>\n",
       "      <th>Outcome Type</th>\n",
       "      <th>Outcome Subtype</th>\n",
       "      <th>Intake Condition</th>\n",
       "      <th>Outcome Condition</th>\n",
       "      <th>Intake Jurisdiction</th>\n",
       "      <th>Outcome Jurisdiction</th>\n",
       "      <th>Outcome Zip Code</th>\n",
       "      <th>Location</th>\n",
       "      <th>Count</th>\n",
       "    </tr>\n",
       "  </thead>\n",
       "  <tbody>\n",
       "    <tr>\n",
       "      <th>0</th>\n",
       "      <td>RAZOR</td>\n",
       "      <td>DOG</td>\n",
       "      <td>BOSTON TERRIER</td>\n",
       "      <td>BLACK/WHITE</td>\n",
       "      <td>Neutered</td>\n",
       "      <td>SMALL</td>\n",
       "      <td>10/29/2009</td>\n",
       "      <td>K22-043412</td>\n",
       "      <td>TRUCK</td>\n",
       "      <td>A396382</td>\n",
       "      <td>...</td>\n",
       "      <td>FIELD</td>\n",
       "      <td>RETURN TO OWNER</td>\n",
       "      <td>FLD_IDTAG</td>\n",
       "      <td>UNKNOWN</td>\n",
       "      <td>HEALTHY</td>\n",
       "      <td>SANTA ROSA</td>\n",
       "      <td>SANTA ROSA</td>\n",
       "      <td>95404.0</td>\n",
       "      <td>95404(38.43807, -122.71247)</td>\n",
       "      <td>1</td>\n",
       "    </tr>\n",
       "    <tr>\n",
       "      <th>1</th>\n",
       "      <td>NaN</td>\n",
       "      <td>OTHER</td>\n",
       "      <td>PIGEON</td>\n",
       "      <td>GRAY/WHITE</td>\n",
       "      <td>Unknown</td>\n",
       "      <td>SMALL</td>\n",
       "      <td>NaN</td>\n",
       "      <td>K23-044095</td>\n",
       "      <td>TRUCK</td>\n",
       "      <td>A416206</td>\n",
       "      <td>...</td>\n",
       "      <td>FIELD</td>\n",
       "      <td>EUTHANIZE</td>\n",
       "      <td>INJ SEVERE</td>\n",
       "      <td>UNKNOWN</td>\n",
       "      <td>HEALTHY</td>\n",
       "      <td>SANTA ROSA</td>\n",
       "      <td>NaN</td>\n",
       "      <td>NaN</td>\n",
       "      <td>NaN</td>\n",
       "      <td>1</td>\n",
       "    </tr>\n",
       "    <tr>\n",
       "      <th>2</th>\n",
       "      <td>MAX</td>\n",
       "      <td>DOG</td>\n",
       "      <td>BORDER COLLIE</td>\n",
       "      <td>BLACK/TRICOLOR</td>\n",
       "      <td>Neutered</td>\n",
       "      <td>MED</td>\n",
       "      <td>03/10/2020</td>\n",
       "      <td>K23-044090</td>\n",
       "      <td>DS80</td>\n",
       "      <td>A399488</td>\n",
       "      <td>...</td>\n",
       "      <td>FIELD</td>\n",
       "      <td>RETURN TO OWNER</td>\n",
       "      <td>OVER THE COUNTER_CALL</td>\n",
       "      <td>UNKNOWN</td>\n",
       "      <td>PENDING</td>\n",
       "      <td>COUNTY</td>\n",
       "      <td>COUNTY</td>\n",
       "      <td>95472.0</td>\n",
       "      <td>95472(38.40179, -122.82512)</td>\n",
       "      <td>1</td>\n",
       "    </tr>\n",
       "    <tr>\n",
       "      <th>3</th>\n",
       "      <td>NaN</td>\n",
       "      <td>CAT</td>\n",
       "      <td>DOMESTIC LH</td>\n",
       "      <td>GRAY/WHITE</td>\n",
       "      <td>Spayed</td>\n",
       "      <td>SMALL</td>\n",
       "      <td>06/26/2011</td>\n",
       "      <td>K22-043405</td>\n",
       "      <td>VET</td>\n",
       "      <td>A414520</td>\n",
       "      <td>...</td>\n",
       "      <td>FIELD</td>\n",
       "      <td>DISPOSAL</td>\n",
       "      <td>DOA</td>\n",
       "      <td>UNKNOWN</td>\n",
       "      <td>DEAD</td>\n",
       "      <td>COUNTY</td>\n",
       "      <td>SANTA ROSA</td>\n",
       "      <td>95403.0</td>\n",
       "      <td>95403(38.51311, -122.75502)</td>\n",
       "      <td>1</td>\n",
       "    </tr>\n",
       "    <tr>\n",
       "      <th>4</th>\n",
       "      <td>PUDGY</td>\n",
       "      <td>DOG</td>\n",
       "      <td>CHIHUAHUA SH/SCHIPPERKE</td>\n",
       "      <td>TAN</td>\n",
       "      <td>Neutered</td>\n",
       "      <td>MED</td>\n",
       "      <td>07/20/2013</td>\n",
       "      <td>K23-043813</td>\n",
       "      <td>DA27</td>\n",
       "      <td>A415428</td>\n",
       "      <td>...</td>\n",
       "      <td>OVER THE COUNTER</td>\n",
       "      <td>TRANSFER</td>\n",
       "      <td>MUTTVILLE</td>\n",
       "      <td>UNKNOWN</td>\n",
       "      <td>HEALTHY</td>\n",
       "      <td>SANTA ROSA</td>\n",
       "      <td>OUT OF COUNTY</td>\n",
       "      <td>94103.0</td>\n",
       "      <td>94103(37.77672, -122.40779)</td>\n",
       "      <td>1</td>\n",
       "    </tr>\n",
       "  </tbody>\n",
       "</table>\n",
       "<p>5 rows × 24 columns</p>\n",
       "</div>"
      ],
      "text/plain": [
       "    Name   Type                    Breed           Color       Sex   Size  \\\n",
       "0  RAZOR    DOG           BOSTON TERRIER     BLACK/WHITE  Neutered  SMALL   \n",
       "1    NaN  OTHER                   PIGEON      GRAY/WHITE   Unknown  SMALL   \n",
       "2    MAX    DOG            BORDER COLLIE  BLACK/TRICOLOR  Neutered    MED   \n",
       "3    NaN    CAT              DOMESTIC LH      GRAY/WHITE    Spayed  SMALL   \n",
       "4  PUDGY    DOG  CHIHUAHUA SH/SCHIPPERKE             TAN  Neutered    MED   \n",
       "\n",
       "  Date Of Birth Impound Number Kennel Number Animal ID  ...    Intake Subtype  \\\n",
       "0    10/29/2009     K22-043412         TRUCK   A396382  ...             FIELD   \n",
       "1           NaN     K23-044095         TRUCK   A416206  ...             FIELD   \n",
       "2    03/10/2020     K23-044090          DS80   A399488  ...             FIELD   \n",
       "3    06/26/2011     K22-043405           VET   A414520  ...             FIELD   \n",
       "4    07/20/2013     K23-043813          DA27   A415428  ...  OVER THE COUNTER   \n",
       "\n",
       "      Outcome Type        Outcome Subtype Intake Condition Outcome Condition  \\\n",
       "0  RETURN TO OWNER              FLD_IDTAG          UNKNOWN           HEALTHY   \n",
       "1        EUTHANIZE             INJ SEVERE          UNKNOWN           HEALTHY   \n",
       "2  RETURN TO OWNER  OVER THE COUNTER_CALL          UNKNOWN           PENDING   \n",
       "3         DISPOSAL                    DOA          UNKNOWN              DEAD   \n",
       "4         TRANSFER              MUTTVILLE          UNKNOWN           HEALTHY   \n",
       "\n",
       "  Intake Jurisdiction Outcome Jurisdiction Outcome Zip Code  \\\n",
       "0          SANTA ROSA           SANTA ROSA          95404.0   \n",
       "1          SANTA ROSA                  NaN              NaN   \n",
       "2              COUNTY               COUNTY          95472.0   \n",
       "3              COUNTY           SANTA ROSA          95403.0   \n",
       "4          SANTA ROSA        OUT OF COUNTY          94103.0   \n",
       "\n",
       "                      Location Count  \n",
       "0  95404(38.43807, -122.71247)     1  \n",
       "1                          NaN     1  \n",
       "2  95472(38.40179, -122.82512)     1  \n",
       "3  95403(38.51311, -122.75502)     1  \n",
       "4  94103(37.77672, -122.40779)     1  \n",
       "\n",
       "[5 rows x 24 columns]"
      ]
     },
     "execution_count": 19,
     "metadata": {},
     "output_type": "execute_result"
    }
   ],
   "source": [
    "shelter_data.head()"
   ]
  },
  {
   "cell_type": "code",
   "execution_count": 20,
   "id": "b5c055c4-f474-41b8-aa87-66affdc61d4d",
   "metadata": {},
   "outputs": [
    {
     "data": {
      "text/plain": [
       "Index(['Name', 'Type', 'Breed', 'Color', 'Sex', 'Size', 'Date Of Birth',\n",
       "       'Impound Number', 'Kennel Number', 'Animal ID', 'Intake Date',\n",
       "       'Outcome Date', 'Days in Shelter', 'Intake Type', 'Intake Subtype',\n",
       "       'Outcome Type', 'Outcome Subtype', 'Intake Condition',\n",
       "       'Outcome Condition', 'Intake Jurisdiction', 'Outcome Jurisdiction',\n",
       "       'Outcome Zip Code', 'Location', 'Count'],\n",
       "      dtype='object')"
      ]
     },
     "execution_count": 20,
     "metadata": {},
     "output_type": "execute_result"
    }
   ],
   "source": [
    "shelter_data.columns"
   ]
  },
  {
   "cell_type": "markdown",
   "id": "a7565a3a-5e50-4fdf-ba88-dcc381b1163b",
   "metadata": {
    "user_expressions": []
   },
   "source": [
    "### Data Cleaning"
   ]
  },
  {
   "cell_type": "code",
   "execution_count": 21,
   "id": "3d087806-16b5-4937-8444-a2293d0867f3",
   "metadata": {},
   "outputs": [
    {
     "data": {
      "text/plain": [
       "Name                    6567\n",
       "Type                       0\n",
       "Breed                      0\n",
       "Color                      0\n",
       "Sex                        0\n",
       "Size                       0\n",
       "Date Of Birth           6206\n",
       "Impound Number             0\n",
       "Kennel Number             12\n",
       "Animal ID                  0\n",
       "Intake Date                0\n",
       "Outcome Date             159\n",
       "Days in Shelter            0\n",
       "Intake Type                0\n",
       "Intake Subtype             0\n",
       "Outcome Type             165\n",
       "Outcome Subtype          482\n",
       "Intake Condition           0\n",
       "Outcome Condition        508\n",
       "Intake Jurisdiction        0\n",
       "Outcome Jurisdiction    3508\n",
       "Outcome Zip Code        3565\n",
       "Location                3565\n",
       "Count                      0\n",
       "dtype: int64"
      ]
     },
     "execution_count": 21,
     "metadata": {},
     "output_type": "execute_result"
    }
   ],
   "source": [
    "shelter_data.dropna(subset=['Size'], inplace=True)\n",
    "shelter_data.isnull().sum()"
   ]
  },
  {
   "cell_type": "code",
   "execution_count": 22,
   "id": "9ef4d763-0b76-4b22-b7d5-e920d04ea3b0",
   "metadata": {},
   "outputs": [],
   "source": [
    "shelter_data.rename(columns={'Intake Subtype': 'Intake_Subtype',\n",
    "                            'Intake Type': 'Intake_Type',\n",
    "                            'Intake Condition': 'Intake_Condition'}, inplace=True)"
   ]
  },
  {
   "cell_type": "markdown",
   "id": "b477be00-0c39-4a3e-9c8f-a0d5b3c16e9e",
   "metadata": {
    "user_expressions": []
   },
   "source": [
    "## Data Assumptions?"
   ]
  },
  {
   "cell_type": "markdown",
   "id": "f29ddf16-cfd9-4c19-949c-e87376185871",
   "metadata": {
    "user_expressions": []
   },
   "source": [
    "## Methods"
   ]
  },
  {
   "cell_type": "markdown",
   "id": "4c0c49e7-185b-4b0f-a584-82a834bd02f6",
   "metadata": {
    "tags": [],
    "user_expressions": []
   },
   "source": [
    "### EDA"
   ]
  },
  {
   "cell_type": "markdown",
   "id": "7e1f9853-793f-4136-b01e-9430e01f7703",
   "metadata": {
    "user_expressions": []
   },
   "source": [
    "#### Explore the Number of Animals in the Shelter by Type"
   ]
  },
  {
   "cell_type": "code",
   "execution_count": 23,
   "id": "32c97a75-b569-47f4-9bf4-3359a3313257",
   "metadata": {},
   "outputs": [
    {
     "data": {
      "text/plain": [
       "Intake_Type      Type \n",
       "ADOPTION RETURN  DOG        292\n",
       "                 CAT        116\n",
       "                 OTHER        4\n",
       "BORN HERE        CAT         16\n",
       "                 OTHER        1\n",
       "CONFISCATE       DOG       1456\n",
       "                 CAT        245\n",
       "                 OTHER      197\n",
       "OS APPT          DOG          1\n",
       "OWNER SURRENDER  CAT       1595\n",
       "                 DOG       1414\n",
       "                 OTHER      143\n",
       "QUARANTINE       DOG        424\n",
       "                 OTHER      277\n",
       "                 CAT        118\n",
       "STRAY            DOG      10223\n",
       "                 CAT       6603\n",
       "                 OTHER     1417\n",
       "TRANSFER         DOG        258\n",
       "                 CAT        161\n",
       "                 OTHER       12\n",
       "Name: Type, dtype: int64"
      ]
     },
     "execution_count": 23,
     "metadata": {},
     "output_type": "execute_result"
    }
   ],
   "source": [
    "shelter_data.groupby('Intake_Type')['Type'].value_counts()"
   ]
  },
  {
   "cell_type": "markdown",
   "id": "08060db7-68e1-4f46-aeac-accea477f2bf",
   "metadata": {
    "user_expressions": []
   },
   "source": [
    "#### EDA: What are the Top Cat Breeds in the Shelter?"
   ]
  },
  {
   "cell_type": "code",
   "execution_count": 24,
   "id": "aade1f9b-8777-433a-a917-7f4f43b1cd6a",
   "metadata": {},
   "outputs": [
    {
     "data": {
      "image/png": "[encoded data removed]",
      "text/plain": [
       "<Figure size 640x480 with 1 Axes>"
      ]
     },
     "metadata": {},
     "output_type": "display_data"
    }
   ],
   "source": [
    "cat_data = shelter_data[shelter_data['Type'] == 'CAT']\n",
    "cat_breed_counts = cat_data['Breed'].value_counts(ascending=True).tail(5)\n",
    "plt.barh(cat_breed_counts.index, cat_breed_counts)\n",
    "plt.title('Top Cat Breeds in the Shelter', size=15)\n",
    "plt.xlabel('Count', size=15)\n",
    "plt.ylabel('Breed', size=15)\n",
    "plt.show()"
   ]
  },
  {
   "cell_type": "markdown",
   "id": "e7f1123f-e549-4be0-baa2-2a837b458cf7",
   "metadata": {
    "user_expressions": []
   },
   "source": [
    "#### EDA: What are the Top Dog Breeds in the Shelter?"
   ]
  },
  {
   "cell_type": "code",
   "execution_count": 25,
   "id": "a2315bfe-9ad5-477c-b278-0bbc2b8b0402",
   "metadata": {},
   "outputs": [
    {
     "data": {
      "image/png": "[encoded data removed]",
      "text/plain": [
       "<Figure size 640x480 with 1 Axes>"
      ]
     },
     "metadata": {},
     "output_type": "display_data"
    }
   ],
   "source": [
    "dog_data = shelter_data[shelter_data['Type'] == 'DOG']\n",
    "dog_breed_counts = dog_data['Breed'].value_counts(ascending=True).tail(5)\n",
    "plt.barh(dog_breed_counts.index, dog_breed_counts)\n",
    "plt.title('Top Dog Breeds in the Shelter', size=15)\n",
    "plt.xlabel('Count', size=15)\n",
    "plt.ylabel('Breed', size=15)\n",
    "plt.show()"
   ]
  },
  {
   "cell_type": "markdown",
   "id": "c9335a50-843f-4fa4-8bcc-af5e10a5f4ed",
   "metadata": {
    "user_expressions": []
   },
   "source": [
    "#### Trend line: which year has the most number of animal intakes?"
   ]
  },
  {
   "cell_type": "code",
   "execution_count": 26,
   "id": "b2308c15-8968-4d36-a671-2a16f9f09869",
   "metadata": {},
   "outputs": [
    {
     "data": {
      "image/png": "[encoded data removed]",
      "text/plain": [
       "<Figure size 640x480 with 1 Axes>"
      ]
     },
     "metadata": {},
     "output_type": "display_data"
    }
   ],
   "source": [
    "shelter_data['Intake Year'] = shelter_data['Intake Date'].apply(lambda x: x[-4:])\n",
    "\n",
    "# Filter the data to only include records from the year 2014 and later.\n",
    "shelter_data = shelter_data[shelter_data['Intake Year'] != '2013']\n",
    "intake_counts = shelter_data.groupby('Intake Year').size()\n",
    "intake_counts.plot(kind='line', title='Animal Intakes by Year')\n",
    "plt.scatter(x=intake_counts.index, y=intake_counts)\n",
    "plt.xticks(np.arange(len(intake_counts)), intake_counts.index)\n",
    "plt.xlabel('Intake Year', size=15)\n",
    "plt.ylabel('Count', size=15)\n",
    "plt.title('Trend Line of Animal Intakes by Year', size=15)\n",
    "plt.show()"
   ]
  },
  {
   "cell_type": "markdown",
   "id": "59ae21b9-1151-457f-ab25-0d7b2ad186d2",
   "metadata": {
    "tags": [],
    "user_expressions": []
   },
   "source": [
    "### Modeling"
   ]
  },
  {
   "cell_type": "markdown",
   "id": "def7f6d4-6559-43da-bdb1-e1b5e9199efd",
   "metadata": {
    "user_expressions": []
   },
   "source": [
    "#### Predict whether an Animal is adopted eventually"
   ]
  },
  {
   "cell_type": "code",
   "execution_count": 27,
   "id": "c49a594f-1421-455b-bb49-78573a040b5e",
   "metadata": {},
   "outputs": [
    {
     "data": {
      "text/plain": [
       "((17397, 26), (7456, 26))"
      ]
     },
     "execution_count": 27,
     "metadata": {},
     "output_type": "execute_result"
    }
   ],
   "source": [
    "# Create a new column named Adopted, and assign a value of 0 or 1 \n",
    "# to indicate whether each animal has been adopted or not.\n",
    "shelter_data['Adopted'] = (shelter_data['Outcome Type'] == 'ADOPTION').astype(int)\n",
    "\n",
    "#Split the data into test and train\n",
    "shelter_train, shelter_test = train_test_split(shelter_data, test_size=0.3, random_state=159)\n",
    "shelter_train.shape, shelter_test.shape"
   ]
  },
  {
   "cell_type": "code",
   "execution_count": 28,
   "id": "f9103886-34cf-4c8f-909d-a08e54ddec6d",
   "metadata": {},
   "outputs": [
    {
     "name": "stdout",
     "output_type": "stream",
     "text": [
      "Warning: Maximum number of iterations has been exceeded.\n",
      "         Current function value: 0.351088\n",
      "         Iterations: 35\n",
      "                           Logit Regression Results                           \n",
      "==============================================================================\n",
      "Dep. Variable:                Adopted   No. Observations:                17397\n",
      "Model:                          Logit   Df Residuals:                    17373\n",
      "Method:                           MLE   Df Model:                           23\n",
      "Date:                Sun, 07 May 2023   Pseudo R-squ.:                  0.4198\n",
      "Time:                        03:48:36   Log-Likelihood:                -6107.9\n",
      "converged:                      False   LL-Null:                       -10527.\n",
      "Covariance Type:            nonrobust   LLR p-value:                     0.000\n",
      "============================================================================================================\n",
      "                                               coef    std err          z      P>|z|      [0.025      0.975]\n",
      "------------------------------------------------------------------------------------------------------------\n",
      "Intercept                                   -0.1241      0.211     -0.589      0.556      -0.537       0.289\n",
      "Type[T.DOG]                                 -0.2335      0.070     -3.334      0.001      -0.371      -0.096\n",
      "Type[T.OTHER]                                2.2262      0.136     16.418      0.000       1.960       2.492\n",
      "Sex[T.Male]                                 -0.3298      0.170     -1.939      0.053      -0.663       0.004\n",
      "Sex[T.Neutered]                              3.5780      0.133     26.839      0.000       3.317       3.839\n",
      "Sex[T.Spayed]                                3.7717      0.134     28.046      0.000       3.508       4.035\n",
      "Sex[T.Unknown]                              -0.9605      0.202     -4.758      0.000      -1.356      -0.565\n",
      "Size[T.LARGE]                               -2.4246      0.112    -21.598      0.000      -2.645      -2.205\n",
      "Size[T.MED]                                 -1.9748      0.109    -18.180      0.000      -2.188      -1.762\n",
      "Size[T.PUPPY]                                0.0281      0.159      0.176      0.860      -0.284       0.340\n",
      "Size[T.SMALL]                               -1.6344      0.083    -19.802      0.000      -1.796      -1.473\n",
      "Size[T.TOY]                                 -1.4891      0.131    -11.333      0.000      -1.747      -1.232\n",
      "Size[T.X-LRG]                               -2.9262      0.288    -10.168      0.000      -3.490      -2.362\n",
      "Intake_Type[T.BORN HERE]                   -27.1539   6.18e+05  -4.39e-05      1.000   -1.21e+06    1.21e+06\n",
      "Intake_Type[T.CONFISCATE]                   -2.5505      0.187    -13.675      0.000      -2.916      -2.185\n",
      "Intake_Type[T.OS APPT]                     -13.3656   1386.096     -0.010      0.992   -2730.063    2703.332\n",
      "Intake_Type[T.OWNER SURRENDER]              -0.9363      0.167     -5.598      0.000      -1.264      -0.608\n",
      "Intake_Type[T.QUARANTINE]                   -3.2875      0.300    -10.961      0.000      -3.875      -2.700\n",
      "Intake_Type[T.STRAY]                        -1.8236      0.159    -11.502      0.000      -2.134      -1.513\n",
      "Intake_Type[T.TRANSFER]                     -1.3415      0.213     -6.308      0.000      -1.758      -0.925\n",
      "Intake_Condition[T.TREATABLE/MANAGEABLE]    -0.5788      0.091     -6.357      0.000      -0.757      -0.400\n",
      "Intake_Condition[T.TREATABLE/REHAB]          0.3698      0.078      4.753      0.000       0.217       0.522\n",
      "Intake_Condition[T.UNKNOWN]                 -1.3972      0.063    -22.022      0.000      -1.522      -1.273\n",
      "Intake_Condition[T.UNTREATABLE]             -4.1498      0.324    -12.796      0.000      -4.785      -3.514\n",
      "============================================================================================================\n"
     ]
    },
    {
     "name": "stderr",
     "output_type": "stream",
     "text": [
      "/srv/conda/envs/notebook/lib/python3.10/site-packages/statsmodels/base/model.py:604: ConvergenceWarning: Maximum Likelihood optimization failed to converge. Check mle_retvals\n",
      "  warnings.warn(\"Maximum Likelihood optimization failed to \"\n"
     ]
    }
   ],
   "source": [
    "import statsmodels.formula.api as smf\n",
    "logreg = smf.logit(formula = 'Adopted ~ Type + Sex + Size + Intake_Type + Intake_Condition',\n",
    "                       data = shelter_train).fit()\n",
    "print(logreg.summary())"
   ]
  },
  {
   "cell_type": "code",
   "execution_count": 29,
   "id": "1f4d7f49-046a-4523-8c9f-cdd9bbd683fe",
   "metadata": {},
   "outputs": [
    {
     "name": "stdout",
     "output_type": "stream",
     "text": [
      "Confusion Matrix : \n",
      " [[4851  442]\n",
      " [ 842 1321]]\n"
     ]
    }
   ],
   "source": [
    "# Predicting the probability of adopted\n",
    "y_prob = logreg.predict(shelter_test)\n",
    "\n",
    "# Predicting the label: 0 or 1?\n",
    "y_pred = pd.Series([1 if x > 1/2 else 0 for x in y_prob], index=y_prob.index)\n",
    "\n",
    "from sklearn.metrics import confusion_matrix\n",
    "y_test = shelter_test['Adopted']\n",
    "cm = confusion_matrix(y_test, y_pred)\n",
    "print (\"Confusion Matrix : \\n\", cm) "
   ]
  },
  {
   "cell_type": "code",
   "execution_count": 30,
   "id": "25e9e05b-16d2-426c-8926-1c8c610ae1ce",
   "metadata": {},
   "outputs": [
    {
     "name": "stdout",
     "output_type": "stream",
     "text": [
      "Accuracy is: 0.8278\n",
      "TPR is: 0.6107\n",
      "FPR is: 0.0835\n"
     ]
    }
   ],
   "source": [
    "TN, FP, FN, TP = cm.ravel()\n",
    "\n",
    "# What is the Accuracy?\n",
    "acc= (TN + TP) / sum(cm.ravel())\n",
    "print('Accuracy is: %.4f' %acc)\n",
    "\n",
    "\n",
    "# What is the True Positive Rate ?\n",
    "TPR_logit = TP/(TP+FN)\n",
    "print('TPR is: %.4f' % TPR_logit)\n",
    "\n",
    "# What is the False Positive rate ?\n",
    "FPR_logit = FP/(FP+TN)\n",
    "print('FPR is: %.4f' % FPR_logit)"
   ]
  },
  {
   "cell_type": "markdown",
   "id": "6d06d7d3-4098-476c-8dad-a88945570686",
   "metadata": {
    "user_expressions": []
   },
   "source": [
    "## Results"
   ]
  },
  {
   "cell_type": "markdown",
   "id": "de11811e-5650-4fd1-9ba0-c4e2e5df5c5b",
   "metadata": {
    "user_expressions": []
   },
   "source": [
    "## Conclusions"
   ]
  },
  {
   "cell_type": "markdown",
   "id": "4c9b6c56-2648-494d-9421-33dc39d55dbc",
   "metadata": {
    "user_expressions": []
   },
   "source": [
    "## Author Contributions"
   ]
  },
  {
   "cell_type": "code",
   "execution_count": null,
   "id": "faf30a88-87de-469a-a643-7929a0d7e978",
   "metadata": {},
   "outputs": [],
   "source": []
  }
 ],
 "metadata": {
  "kernelspec": {
   "display_name": "Python 3 (ipykernel)",
   "language": "python",
   "name": "python3"
  },
  "language_info": {
   "codemirror_mode": {
    "name": "ipython",
    "version": 3
   },
   "file_extension": ".py",
   "mimetype": "text/x-python",
   "name": "python",
   "nbconvert_exporter": "python",
   "pygments_lexer": "ipython3",
   "version": "3.10.8"
  }
 },
 "nbformat": 4,
 "nbformat_minor": 5
}
