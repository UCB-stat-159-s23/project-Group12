{
 "cells": [
  {
   "cell_type": "markdown",
   "id": "d72ee2d9-82aa-4237-bd0d-96b0c3236f13",
   "metadata": {
    "user_expressions": []
   },
   "source": [
    "# Analysis of Animal Shelter Data in Sonoma County, CA"
   ]
  },
  {
   "cell_type": "markdown",
   "id": "fcdfca93-a389-4bf5-ada9-75a988a2b0dc",
   "metadata": {
    "user_expressions": []
   },
   "source": [
    "## Goal of Analysis"
   ]
  },
  {
   "cell_type": "markdown",
   "id": "0f4a272a-f344-4c0a-a5bc-7aea1082b4a5",
   "metadata": {
    "user_expressions": []
   },
   "source": [
    "Our main goal is to shed insight on the outcomes of animals surrendered to Sonoma County Animal Services."
   ]
  },
  {
   "cell_type": "markdown",
   "id": "4b8dd5bb-a8ee-46de-a831-bfd324d52419",
   "metadata": {
    "user_expressions": []
   },
   "source": [
    "## About the Data"
   ]
  },
  {
   "cell_type": "code",
   "execution_count": 1,
   "id": "ba235a15-9aa5-4deb-a95a-0fb2ae96a2c1",
   "metadata": {},
   "outputs": [],
   "source": [
    "#!pip install catboost"
   ]
  },
  {
   "cell_type": "code",
   "execution_count": 12,
   "id": "0a89bdb2-5257-450f-8e01-c681f23df296",
   "metadata": {},
   "outputs": [],
   "source": [
    "import numpy as np\n",
    "import pandas as pd\n",
    "import matplotlib.pyplot as plt\n",
    "from sklearn.model_selection import train_test_split\n",
    "import statsmodels.api as sm\n",
    "import statsmodels.formula.api as smf\n",
    "from sklearn.metrics import confusion_matrix\n",
    "from statsmodels.stats.outliers_influence import variance_inflation_factor\n",
    "import random\n",
    "from sheltertools.utils import *\n",
    "from catboost import CatBoostRegressor\n",
    "from sklearn.model_selection import train_test_split\n",
    "from sklearn.model_selection import GridSearchCV\n",
    "from sklearn.metrics import mean_squared_error\n",
    "from sklearn.metrics import r2_score\n",
    "random.seed(159)"
   ]
  },
  {
   "cell_type": "code",
   "execution_count": 13,
   "id": "1c7f4362-ba8e-4195-875b-832802e979aa",
   "metadata": {},
   "outputs": [
    {
     "data": {
      "text/plain": [
       "(25008, 24)"
      ]
     },
     "execution_count": 13,
     "metadata": {},
     "output_type": "execute_result"
    }
   ],
   "source": [
    "shelter_data = pd.read_csv('./data/Animal_Shelter_Data.csv')\n",
    "shelter_data.shape"
   ]
  },
  {
   "cell_type": "code",
   "execution_count": 14,
   "id": "e5febec8-874c-44e3-9237-dfcb2592771b",
   "metadata": {},
   "outputs": [
    {
     "data": {
      "text/html": [
       "<div>\n",
       "<style scoped>\n",
       "    .dataframe tbody tr th:only-of-type {\n",
       "        vertical-align: middle;\n",
       "    }\n",
       "\n",
       "    .dataframe tbody tr th {\n",
       "        vertical-align: top;\n",
       "    }\n",
       "\n",
       "    .dataframe thead th {\n",
       "        text-align: right;\n",
       "    }\n",
       "</style>\n",
       "<table border=\"1\" class=\"dataframe\">\n",
       "  <thead>\n",
       "    <tr style=\"text-align: right;\">\n",
       "      <th></th>\n",
       "      <th>Name</th>\n",
       "      <th>Type</th>\n",
       "      <th>Breed</th>\n",
       "      <th>Color</th>\n",
       "      <th>Sex</th>\n",
       "      <th>Size</th>\n",
       "      <th>Date Of Birth</th>\n",
       "      <th>Impound Number</th>\n",
       "      <th>Kennel Number</th>\n",
       "      <th>Animal ID</th>\n",
       "      <th>...</th>\n",
       "      <th>Intake Subtype</th>\n",
       "      <th>Outcome Type</th>\n",
       "      <th>Outcome Subtype</th>\n",
       "      <th>Intake Condition</th>\n",
       "      <th>Outcome Condition</th>\n",
       "      <th>Intake Jurisdiction</th>\n",
       "      <th>Outcome Jurisdiction</th>\n",
       "      <th>Outcome Zip Code</th>\n",
       "      <th>Location</th>\n",
       "      <th>Count</th>\n",
       "    </tr>\n",
       "  </thead>\n",
       "  <tbody>\n",
       "    <tr>\n",
       "      <th>0</th>\n",
       "      <td>RAZOR</td>\n",
       "      <td>DOG</td>\n",
       "      <td>BOSTON TERRIER</td>\n",
       "      <td>BLACK/WHITE</td>\n",
       "      <td>Neutered</td>\n",
       "      <td>SMALL</td>\n",
       "      <td>10/29/2009</td>\n",
       "      <td>K22-043412</td>\n",
       "      <td>TRUCK</td>\n",
       "      <td>A396382</td>\n",
       "      <td>...</td>\n",
       "      <td>FIELD</td>\n",
       "      <td>RETURN TO OWNER</td>\n",
       "      <td>FLD_IDTAG</td>\n",
       "      <td>UNKNOWN</td>\n",
       "      <td>HEALTHY</td>\n",
       "      <td>SANTA ROSA</td>\n",
       "      <td>SANTA ROSA</td>\n",
       "      <td>95404.0</td>\n",
       "      <td>95404(38.43807, -122.71247)</td>\n",
       "      <td>1</td>\n",
       "    </tr>\n",
       "    <tr>\n",
       "      <th>1</th>\n",
       "      <td>NaN</td>\n",
       "      <td>OTHER</td>\n",
       "      <td>PIGEON</td>\n",
       "      <td>GRAY/WHITE</td>\n",
       "      <td>Unknown</td>\n",
       "      <td>SMALL</td>\n",
       "      <td>NaN</td>\n",
       "      <td>K23-044095</td>\n",
       "      <td>TRUCK</td>\n",
       "      <td>A416206</td>\n",
       "      <td>...</td>\n",
       "      <td>FIELD</td>\n",
       "      <td>EUTHANIZE</td>\n",
       "      <td>INJ SEVERE</td>\n",
       "      <td>UNKNOWN</td>\n",
       "      <td>HEALTHY</td>\n",
       "      <td>SANTA ROSA</td>\n",
       "      <td>NaN</td>\n",
       "      <td>NaN</td>\n",
       "      <td>NaN</td>\n",
       "      <td>1</td>\n",
       "    </tr>\n",
       "    <tr>\n",
       "      <th>2</th>\n",
       "      <td>MAX</td>\n",
       "      <td>DOG</td>\n",
       "      <td>BORDER COLLIE</td>\n",
       "      <td>BLACK/TRICOLOR</td>\n",
       "      <td>Neutered</td>\n",
       "      <td>MED</td>\n",
       "      <td>03/10/2020</td>\n",
       "      <td>K23-044090</td>\n",
       "      <td>DS80</td>\n",
       "      <td>A399488</td>\n",
       "      <td>...</td>\n",
       "      <td>FIELD</td>\n",
       "      <td>RETURN TO OWNER</td>\n",
       "      <td>OVER THE COUNTER_CALL</td>\n",
       "      <td>UNKNOWN</td>\n",
       "      <td>PENDING</td>\n",
       "      <td>COUNTY</td>\n",
       "      <td>COUNTY</td>\n",
       "      <td>95472.0</td>\n",
       "      <td>95472(38.40179, -122.82512)</td>\n",
       "      <td>1</td>\n",
       "    </tr>\n",
       "    <tr>\n",
       "      <th>3</th>\n",
       "      <td>NaN</td>\n",
       "      <td>CAT</td>\n",
       "      <td>DOMESTIC LH</td>\n",
       "      <td>GRAY/WHITE</td>\n",
       "      <td>Spayed</td>\n",
       "      <td>SMALL</td>\n",
       "      <td>06/26/2011</td>\n",
       "      <td>K22-043405</td>\n",
       "      <td>VET</td>\n",
       "      <td>A414520</td>\n",
       "      <td>...</td>\n",
       "      <td>FIELD</td>\n",
       "      <td>DISPOSAL</td>\n",
       "      <td>DOA</td>\n",
       "      <td>UNKNOWN</td>\n",
       "      <td>DEAD</td>\n",
       "      <td>COUNTY</td>\n",
       "      <td>SANTA ROSA</td>\n",
       "      <td>95403.0</td>\n",
       "      <td>95403(38.51311, -122.75502)</td>\n",
       "      <td>1</td>\n",
       "    </tr>\n",
       "    <tr>\n",
       "      <th>4</th>\n",
       "      <td>PUDGY</td>\n",
       "      <td>DOG</td>\n",
       "      <td>CHIHUAHUA SH/SCHIPPERKE</td>\n",
       "      <td>TAN</td>\n",
       "      <td>Neutered</td>\n",
       "      <td>MED</td>\n",
       "      <td>07/20/2013</td>\n",
       "      <td>K23-043813</td>\n",
       "      <td>DA27</td>\n",
       "      <td>A415428</td>\n",
       "      <td>...</td>\n",
       "      <td>OVER THE COUNTER</td>\n",
       "      <td>TRANSFER</td>\n",
       "      <td>MUTTVILLE</td>\n",
       "      <td>UNKNOWN</td>\n",
       "      <td>HEALTHY</td>\n",
       "      <td>SANTA ROSA</td>\n",
       "      <td>OUT OF COUNTY</td>\n",
       "      <td>94103.0</td>\n",
       "      <td>94103(37.77672, -122.40779)</td>\n",
       "      <td>1</td>\n",
       "    </tr>\n",
       "  </tbody>\n",
       "</table>\n",
       "<p>5 rows × 24 columns</p>\n",
       "</div>"
      ],
      "text/plain": [
       "    Name   Type                    Breed           Color       Sex   Size   \n",
       "0  RAZOR    DOG           BOSTON TERRIER     BLACK/WHITE  Neutered  SMALL  \\\n",
       "1    NaN  OTHER                   PIGEON      GRAY/WHITE   Unknown  SMALL   \n",
       "2    MAX    DOG            BORDER COLLIE  BLACK/TRICOLOR  Neutered    MED   \n",
       "3    NaN    CAT              DOMESTIC LH      GRAY/WHITE    Spayed  SMALL   \n",
       "4  PUDGY    DOG  CHIHUAHUA SH/SCHIPPERKE             TAN  Neutered    MED   \n",
       "\n",
       "  Date Of Birth Impound Number Kennel Number Animal ID  ...    Intake Subtype   \n",
       "0    10/29/2009     K22-043412         TRUCK   A396382  ...             FIELD  \\\n",
       "1           NaN     K23-044095         TRUCK   A416206  ...             FIELD   \n",
       "2    03/10/2020     K23-044090          DS80   A399488  ...             FIELD   \n",
       "3    06/26/2011     K22-043405           VET   A414520  ...             FIELD   \n",
       "4    07/20/2013     K23-043813          DA27   A415428  ...  OVER THE COUNTER   \n",
       "\n",
       "      Outcome Type        Outcome Subtype Intake Condition Outcome Condition   \n",
       "0  RETURN TO OWNER              FLD_IDTAG          UNKNOWN           HEALTHY  \\\n",
       "1        EUTHANIZE             INJ SEVERE          UNKNOWN           HEALTHY   \n",
       "2  RETURN TO OWNER  OVER THE COUNTER_CALL          UNKNOWN           PENDING   \n",
       "3         DISPOSAL                    DOA          UNKNOWN              DEAD   \n",
       "4         TRANSFER              MUTTVILLE          UNKNOWN           HEALTHY   \n",
       "\n",
       "  Intake Jurisdiction Outcome Jurisdiction Outcome Zip Code   \n",
       "0          SANTA ROSA           SANTA ROSA          95404.0  \\\n",
       "1          SANTA ROSA                  NaN              NaN   \n",
       "2              COUNTY               COUNTY          95472.0   \n",
       "3              COUNTY           SANTA ROSA          95403.0   \n",
       "4          SANTA ROSA        OUT OF COUNTY          94103.0   \n",
       "\n",
       "                      Location Count  \n",
       "0  95404(38.43807, -122.71247)     1  \n",
       "1                          NaN     1  \n",
       "2  95472(38.40179, -122.82512)     1  \n",
       "3  95403(38.51311, -122.75502)     1  \n",
       "4  94103(37.77672, -122.40779)     1  \n",
       "\n",
       "[5 rows x 24 columns]"
      ]
     },
     "execution_count": 14,
     "metadata": {},
     "output_type": "execute_result"
    }
   ],
   "source": [
    "shelter_data.head()"
   ]
  },
  {
   "cell_type": "code",
<<<<<<< HEAD
   "execution_count": 5,
=======
   "execution_count": 15,
>>>>>>> 88c0e82a42a6012bfd3c57505d6bfe8ee940a1f5
   "id": "b5c055c4-f474-41b8-aa87-66affdc61d4d",
   "metadata": {},
   "outputs": [
    {
     "data": {
      "text/plain": [
       "Index(['Name', 'Type', 'Breed', 'Color', 'Sex', 'Size', 'Date Of Birth',\n",
       "       'Impound Number', 'Kennel Number', 'Animal ID', 'Intake Date',\n",
       "       'Outcome Date', 'Days in Shelter', 'Intake Type', 'Intake Subtype',\n",
       "       'Outcome Type', 'Outcome Subtype', 'Intake Condition',\n",
       "       'Outcome Condition', 'Intake Jurisdiction', 'Outcome Jurisdiction',\n",
       "       'Outcome Zip Code', 'Location', 'Count'],\n",
       "      dtype='object')"
      ]
     },
<<<<<<< HEAD
     "execution_count": 5,
=======
     "execution_count": 15,
>>>>>>> 88c0e82a42a6012bfd3c57505d6bfe8ee940a1f5
     "metadata": {},
     "output_type": "execute_result"
    }
   ],
   "source": [
    "shelter_data.columns"
   ]
  },
  {
   "cell_type": "markdown",
   "id": "a7565a3a-5e50-4fdf-ba88-dcc381b1163b",
   "metadata": {
    "user_expressions": []
   },
   "source": [
    "### Data Cleaning"
   ]
  },
  {
   "cell_type": "code",
<<<<<<< HEAD
   "execution_count": 6,
=======
   "execution_count": 16,
>>>>>>> 88c0e82a42a6012bfd3c57505d6bfe8ee940a1f5
   "id": "3d087806-16b5-4937-8444-a2293d0867f3",
   "metadata": {},
   "outputs": [
    {
     "data": {
      "text/plain": [
       "Name                    6567\n",
       "Type                       0\n",
       "Breed                      0\n",
       "Color                      0\n",
       "Sex                        0\n",
       "Size                       0\n",
       "Date Of Birth           6206\n",
       "Impound Number             0\n",
       "Kennel Number             12\n",
       "Animal ID                  0\n",
       "Intake Date                0\n",
       "Outcome Date             159\n",
       "Days in Shelter            0\n",
       "Intake Type                0\n",
       "Intake Subtype             0\n",
       "Outcome Type             165\n",
       "Outcome Subtype          482\n",
       "Intake Condition           0\n",
       "Outcome Condition        508\n",
       "Intake Jurisdiction        0\n",
       "Outcome Jurisdiction    3508\n",
       "Outcome Zip Code        3565\n",
       "Location                3565\n",
       "Count                      0\n",
       "dtype: int64"
      ]
     },
<<<<<<< HEAD
     "execution_count": 6,
=======
     "execution_count": 16,
>>>>>>> 88c0e82a42a6012bfd3c57505d6bfe8ee940a1f5
     "metadata": {},
     "output_type": "execute_result"
    }
   ],
   "source": [
    "shelter_data.dropna(subset=['Size'], inplace=True)\n",
    "shelter_data.isnull().sum()"
   ]
  },
  {
   "cell_type": "code",
<<<<<<< HEAD
   "execution_count": 7,
=======
   "execution_count": 17,
>>>>>>> 88c0e82a42a6012bfd3c57505d6bfe8ee940a1f5
   "id": "9ef4d763-0b76-4b22-b7d5-e920d04ea3b0",
   "metadata": {},
   "outputs": [],
   "source": [
    "shelter_data.rename(columns={'Intake Subtype': 'Intake_Subtype',\n",
    "                            'Intake Type': 'Intake_Type',\n",
    "                            'Intake Condition': 'Intake_Condition'}, inplace=True)"
   ]
  },
  {
   "cell_type": "markdown",
   "id": "b477be00-0c39-4a3e-9c8f-a0d5b3c16e9e",
   "metadata": {
    "user_expressions": []
   },
   "source": [
    "## Data Assumptions?"
   ]
  },
  {
   "cell_type": "markdown",
   "id": "f29ddf16-cfd9-4c19-949c-e87376185871",
   "metadata": {
    "user_expressions": []
   },
   "source": [
    "## Methods"
   ]
  },
  {
   "cell_type": "markdown",
   "id": "4c0c49e7-185b-4b0f-a584-82a834bd02f6",
   "metadata": {
    "tags": [],
    "user_expressions": []
   },
   "source": [
    "### EDA"
   ]
  },
  {
   "cell_type": "markdown",
   "id": "7e1f9853-793f-4136-b01e-9430e01f7703",
   "metadata": {
    "user_expressions": []
   },
   "source": [
    "#### Explore the Number of Animals in the Shelter by Type"
   ]
  },
  {
   "cell_type": "code",
<<<<<<< HEAD
   "execution_count": 8,
=======
   "execution_count": 18,
>>>>>>> 88c0e82a42a6012bfd3c57505d6bfe8ee940a1f5
   "id": "32c97a75-b569-47f4-9bf4-3359a3313257",
   "metadata": {},
   "outputs": [
    {
     "data": {
      "text/plain": [
       "Intake_Type      Type \n",
       "ADOPTION RETURN  DOG        292\n",
       "                 CAT        116\n",
       "                 OTHER        4\n",
       "BORN HERE        CAT         16\n",
       "                 OTHER        1\n",
       "CONFISCATE       DOG       1456\n",
       "                 CAT        245\n",
       "                 OTHER      197\n",
       "OS APPT          DOG          1\n",
       "OWNER SURRENDER  CAT       1595\n",
       "                 DOG       1414\n",
       "                 OTHER      143\n",
       "QUARANTINE       DOG        424\n",
       "                 OTHER      277\n",
       "                 CAT        118\n",
       "STRAY            DOG      10223\n",
       "                 CAT       6603\n",
       "                 OTHER     1417\n",
       "TRANSFER         DOG        258\n",
       "                 CAT        161\n",
       "                 OTHER       12\n",
       "Name: Type, dtype: int64"
      ]
     },
<<<<<<< HEAD
     "execution_count": 8,
=======
     "execution_count": 18,
>>>>>>> 88c0e82a42a6012bfd3c57505d6bfe8ee940a1f5
     "metadata": {},
     "output_type": "execute_result"
    }
   ],
   "source": [
    "shelter_data.groupby('Intake_Type')['Type'].value_counts()"
   ]
  },
  {
   "cell_type": "markdown",
   "id": "08060db7-68e1-4f46-aeac-accea477f2bf",
   "metadata": {
    "user_expressions": []
   },
   "source": [
    "#### EDA: What are the Top Cat Breeds in the Shelter?"
   ]
  },
  {
   "cell_type": "code",
<<<<<<< HEAD
   "execution_count": 9,
=======
   "execution_count": 19,
>>>>>>> 88c0e82a42a6012bfd3c57505d6bfe8ee940a1f5
   "id": "aade1f9b-8777-433a-a917-7f4f43b1cd6a",
   "metadata": {},
   "outputs": [
    {
     "data": {
      "image/png": "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\n",
      "text/plain": [
       "<Figure size 640x480 with 1 Axes>"
      ]
     },
     "metadata": {},
     "output_type": "display_data"
    }
   ],
   "source": [
    "plot_top_breeds('CAT', shelter_data)"
   ]
  },
  {
   "cell_type": "markdown",
   "id": "e7f1123f-e549-4be0-baa2-2a837b458cf7",
   "metadata": {
    "user_expressions": []
   },
   "source": [
    "#### EDA: What are the Top Dog Breeds in the Shelter?"
   ]
  },
  {
   "cell_type": "code",
<<<<<<< HEAD
   "execution_count": 10,
=======
   "execution_count": 20,
>>>>>>> 88c0e82a42a6012bfd3c57505d6bfe8ee940a1f5
   "id": "a2315bfe-9ad5-477c-b278-0bbc2b8b0402",
   "metadata": {},
   "outputs": [
    {
     "data": {
      "image/png": "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\n",
      "text/plain": [
       "<Figure size 640x480 with 1 Axes>"
      ]
     },
     "metadata": {},
     "output_type": "display_data"
    }
   ],
   "source": [
    "plot_top_breeds('DOG', shelter_data)"
   ]
  },
  {
   "cell_type": "markdown",
   "id": "42a76229-5047-4ab9-84f4-a7131abee8e8",
   "metadata": {
    "user_expressions": []
   },
   "source": [
    "#### EDA: What are the most common names for different species in the shelter?"
   ]
  },
  {
   "cell_type": "code",
<<<<<<< HEAD
   "execution_count": 11,
=======
   "execution_count": 21,
>>>>>>> 88c0e82a42a6012bfd3c57505d6bfe8ee940a1f5
   "id": "50a22707-f766-40aa-bb77-ca122ef18690",
   "metadata": {},
   "outputs": [
    {
     "data": {
      "text/html": [
       "<div>\n",
       "<style scoped>\n",
       "    .dataframe tbody tr th:only-of-type {\n",
       "        vertical-align: middle;\n",
       "    }\n",
       "\n",
       "    .dataframe tbody tr th {\n",
       "        vertical-align: top;\n",
       "    }\n",
       "\n",
       "    .dataframe thead th {\n",
       "        text-align: right;\n",
       "    }\n",
       "</style>\n",
       "<table border=\"1\" class=\"dataframe\">\n",
       "  <thead>\n",
       "    <tr style=\"text-align: right;\">\n",
       "      <th></th>\n",
       "      <th>Type</th>\n",
       "      <th>Name</th>\n",
       "      <th>size</th>\n",
       "    </tr>\n",
       "  </thead>\n",
       "  <tbody>\n",
       "    <tr>\n",
       "      <th>4614</th>\n",
       "      <td>DOG</td>\n",
       "      <td>BUDDY</td>\n",
       "      <td>131</td>\n",
       "    </tr>\n",
       "    <tr>\n",
       "      <th>6004</th>\n",
       "      <td>DOG</td>\n",
       "      <td>LUNA</td>\n",
       "      <td>115</td>\n",
       "    </tr>\n",
       "    <tr>\n",
       "      <th>4402</th>\n",
       "      <td>DOG</td>\n",
       "      <td>BELLA</td>\n",
       "      <td>104</td>\n",
       "    </tr>\n",
       "    <tr>\n",
       "      <th>2291</th>\n",
       "      <td>CAT</td>\n",
       "      <td>MILO</td>\n",
       "      <td>21</td>\n",
       "    </tr>\n",
       "    <tr>\n",
       "      <th>2197</th>\n",
       "      <td>CAT</td>\n",
       "      <td>LUCY</td>\n",
       "      <td>19</td>\n",
       "    </tr>\n",
       "    <tr>\n",
       "      <th>758</th>\n",
       "      <td>CAT</td>\n",
       "      <td>*LUKE</td>\n",
       "      <td>17</td>\n",
       "    </tr>\n",
       "    <tr>\n",
       "      <th>7727</th>\n",
       "      <td>OTHER</td>\n",
       "      <td>*JESSICA</td>\n",
       "      <td>9</td>\n",
       "    </tr>\n",
       "    <tr>\n",
       "      <th>7864</th>\n",
       "      <td>OTHER</td>\n",
       "      <td>*ROGER</td>\n",
       "      <td>7</td>\n",
       "    </tr>\n",
       "    <tr>\n",
       "      <th>8036</th>\n",
       "      <td>OTHER</td>\n",
       "      <td>OREO</td>\n",
       "      <td>5</td>\n",
       "    </tr>\n",
       "  </tbody>\n",
       "</table>\n",
       "</div>"
      ],
      "text/plain": [
       "       Type      Name  size\n",
       "4614    DOG     BUDDY   131\n",
       "6004    DOG      LUNA   115\n",
       "4402    DOG     BELLA   104\n",
       "2291    CAT      MILO    21\n",
       "2197    CAT      LUCY    19\n",
       "758     CAT     *LUKE    17\n",
       "7727  OTHER  *JESSICA     9\n",
       "7864  OTHER    *ROGER     7\n",
       "8036  OTHER      OREO     5"
      ]
     },
<<<<<<< HEAD
     "execution_count": 11,
=======
     "execution_count": 21,
>>>>>>> 88c0e82a42a6012bfd3c57505d6bfe8ee940a1f5
     "metadata": {},
     "output_type": "execute_result"
    }
   ],
   "source": [
    "top_names = shelter_data.groupby([\"Type\",\"Name\"], as_index=False).size()\n",
    "top_names = top_names.sort_values(by='size', ascending=False).groupby([\"Type\"]).head(3)\n",
    "top_names"
   ]
  },
  {
   "cell_type": "markdown",
   "id": "aa896795-94d7-4d12-be3d-b321a3c871f7",
   "metadata": {
    "user_expressions": []
   },
   "source": [
    "From the table above, we can see that the top three most common names for dogs at the adoption centers are Buddy, Luna, and Bella. On the other hand, the top three most common names for adopted cats are Milo, Lucy, and Smokey."
   ]
  },
  {
   "cell_type": "markdown",
   "id": "c9335a50-843f-4fa4-8bcc-af5e10a5f4ed",
   "metadata": {
    "user_expressions": []
   },
   "source": [
    "#### Trend line: which year has the most number of animal intakes?"
   ]
  },
  {
   "cell_type": "code",
<<<<<<< HEAD
   "execution_count": 12,
   "id": "175bc563-3ba2-4e1d-9f59-68ada0c4a552",
   "metadata": {},
   "outputs": [],
   "source": [
    "# def plot_trend_line(shelter_data):\n",
    "#     \"\"\"\n",
    "#     which year has the most number of animal intakes?\n",
    "#     \"\"\"\n",
    "#     shelter_data['Intake Year'] = shelter_data['Intake Date'].apply(lambda x: x[-4:])\n",
    "#     # Filter the data to only include records from the year 2014 and later.\n",
    "#     shelter_data = shelter_data[shelter_data['Intake Year'] != '2013']\n",
    "#     intake_counts = shelter_data.groupby('Intake Year').size()\n",
    "#     intake_counts.plot(kind='line', title='Animal Intakes by Year')\n",
    "#     plt.scatter(x=intake_counts.index, y=intake_counts)\n",
    "#     plt.xticks(np.arange(len(intake_counts)), intake_counts.index)\n",
    "#     plt.xlabel('Intake Year', size=15)\n",
    "#     plt.ylabel('Count', size=15)\n",
    "#     plt.title('Trend Line of Animal Intakes by Year', size=15)\n",
    "#     plt.show()"
   ]
  },
  {
   "cell_type": "code",
   "execution_count": 13,
=======
   "execution_count": 22,
>>>>>>> 88c0e82a42a6012bfd3c57505d6bfe8ee940a1f5
   "id": "b2308c15-8968-4d36-a671-2a16f9f09869",
   "metadata": {},
   "outputs": [
    {
     "data": {
      "image/png": "iVBORw0KGgoAAAANSUhEUgAAAkoAAAHPCAYAAACstvVvAAAAOXRFWHRTb2Z0d2FyZQBNYXRwbG90bGliIHZlcnNpb24zLjYuMywgaHR0cHM6Ly9tYXRwbG90bGliLm9yZy/P9b71AAAACXBIWXMAAA9hAAAPYQGoP6dpAABxLklEQVR4nO3deVxU5f4H8M+ZAYZ9ZF8EQUFUBPddXHI3cc20TNKuaZpZpl29bT9tteWWld1suaWVpnYrzSVRckFRcEvcd3Fhk33YZJ3n9wfO5AijLAMzA5/368UrOeeZc74PTPDhPM95jiSEECAiIiKiSmTGLoCIiIjIVDEoEREREenBoERERESkB4MSERERkR4MSkRERER6MCgRERER6cGgRERERKQHgxIRERGRHgxKRERERHowKFGNSJJUow9/f39jl/xAAwcOhCRJuHbtWrXar169GpIkYfr06dVq7+/vD0mSal+giYmKikJYWBgcHBy03+eaKC4uhpOTEyRJwvDhww1en+b7s3TpUoMfu66WLl0KSZKwevXqar+mNl/jhnLt2jVIkoSBAwcau5T7mj59OiRJwt69exv0vPn5+fDz84MkSfjjjz/0tissLETLli0hSRK2bNnSgBVSdVgYuwAyL9OmTau0LSYmBleuXEHHjh3RqVMnnX2urq4NVBk1hBs3bmD8+PEoKSnBkCFD4O7uXuNjbNmyBTk5OQCAXbt2ISUlBV5eXgaulKoiSRL8/Pyq/UcB1Y29vT1WrlyJUaNGYc6cOThz5gzs7e0rtXvttddw7do1TJo0CaNHjzZCpXQ/DEpUI1X9JTx9+nRcuXIF48aNM8m/4o1t165dKC0tNXYZBvHnn3+ioKAAr7/+Ot58881aHePHH38EAHh5eSElJQXr1q3DggULDFbj+PHj0atXL4Z0MgkPP/wwHn/8caxbtw4vv/wyVqxYobP/6NGj+Oyzz+Dk5ITPPvvMSFXS/XDojaieBQQEoG3btsYuwyASExMBAK1atarV6zMzM7F9+3bY2dnhq6++AvB3cDIUpVKJtm3bMiiRyfj000/h4uKCL774AgcPHtRuLysrw8yZM1FeXo6PP/4YHh4eRqyS9GFQonqzd+9e7Vye1NRUPP300/Dx8YGFhQU++eQTbbtr167hmWeegb+/PxQKBdzc3DBx4kScPHmy0jHvnn9y48YNTJkyBW5ubrCxsUG3bt3uO77/9ddfIzQ0FNbW1mjevDnmzZsHlUpVH13XUdUcpbvndty+fRv/+te/4OfnB4VCgcDAQLz//vsQQlR5vPT0dLz00kto06YNrK2t4eTkhJEjR2Lfvn01rq2wsBBvvfUWQkJCYGNjA6VSif79+2P9+vU67TTfyyVLlgAAnnrqKe3cmZpcRVy/fj1KS0sxbtw4hIeHw8fHB/Hx8Thz5kyV7e+eW7Jv3z4MGjQIDg4OcHR0xKhRo3D27NlKr9E3R+nuY/35558YMGAAHBwc4O7ujpkzZ2rfC2lpaXjmmWfg7e0Na2tr9OjRo8q5LUVFRfj2228xduxYtGrVCjY2NmjWrFmVXz9Dq+n7R/M1AYDr16/rzCO8e35RfHw8Fi1ahK5du8LNzQ0KhQKtWrXCs88+i+Tk5BrVuHfvXjg6OsLR0RHR0dHa7fn5+XjzzTcRGhoKW1tbODo6YsCAAdi0aVOVxzl37hwiIiIQEBAAa2truLm5oVOnTpg/fz5SUlJqVBMAbN++HWFhYbC3t4eTkxMmTJiA8+fP67T58MMPIUkSXn31Vb3HeeihhyBJEmJiYh54Tjc3NyxfvhxqtRpPP/00SkpKAAD//ve/ER8fj8GDB+vMeTx16hSeeOIJNG/eHAqFAt7e3njqqaeqHDLNycnBihUrMHz4cO17wMXFBSNGjEBUVFSV9dw9L/Onn35Cr1694ODggGbNmj2wL02SIKqjadOmCQBiyZIlOtv37NkjAIiHH35Y+Pj4CE9PTzFx4kQRHh4uvvrqKyGEEPv37xeOjo4CgGjfvr2YOHGi6N27t5AkSdjY2Ijdu3frHHPVqlUCgJg2bZpwd3cXLVq0EOPGjRO9e/cWAIRMJhM7duyoVOPChQsFAKFQKMTIkSPFI488IpycnETnzp1Fr169BACRkJBQrf7eXUN1+Pn5iXv/V0tISBAARO/evUVYWJhwcnISw4cPF8OHDxfW1tYCgHj11VcrHevcuXOiefPmAoAICAgQ48ePF/379xdWVlZCJpOJtWvXVqsmIYTIzc0VXbt2FQCEm5ubmDhxohg5cqRQKBQCgHjhhRd0zjtt2jTRsWNHAUD07dtXTJs2TUybNk1s3Lix2ufs2bOnACC2b98uhBBi0aJFAoBYvHhxle01760FCxYIuVwuOnbsKB555BERFBQkAAgXFxeRkpKi8xrN9+fe96PmWM8//7yQyWSia9euYsKECcLHx0cAEAMGDBDp6emiVatWwtvbW4wbN05br0KhECdPntQ53rlz5wQA4eHhIQYMGCAmT54sBgwYICwtLas8vxBCLFmyRAAQq1atqvbXDECd3z/79+/X9t/Ozk77vZs2bZpYtmyZtt3kyZO1X+exY8eKcePGCX9/fwFAeHl5iaSkpCrrGDBggM72TZs2CWtra+Hm5iaOHj2q3Z6amiqCg4MFANG8eXMxZswYMWTIEGFnZycA6NQihBDHjh0TNjY2QpIk0bNnT/HYY4+JUaNGiXbt2gkAYs+ePdX6Gmr6/uyzzwpJkkT37t3FY489pq1FqVSK+Ph4bfv09HShUCiEl5eXKC0trXS8S5cuCUmSRNu2bat1fo3hw4cLAOL//u//xKVLl4S1tbWwtbUVV65c0bb55ZdfhJWVlQAgunbtKiZOnCg6d+6sfb+fPn1a55jbt28XAISvr68YPHiwmDx5svZnqCRJ4ttvv61Ux4ABAwQAMWvWLCGTyUS/fv3EY489Jvr27Vuj/jQVDEpUZw8KSgDE+PHjxe3bt3X2q1Qq4enpKSwtLcX//vc/nX1RUVHCyspKNG/eXBQXF2u3a34JAhDz5s3T+SH2ySefCACiX79+Osc6cOCAACCcnZ11fshkZGSIDh06aI9njKCkqTc9PV2778iRI8LCwkLY2tqKvLw87faysjIREhIiAIhPP/1UqNVq7b6//vpLuLi4CDs7O3Hr1q1q1fXcc88JAGLIkCE65zl37pxwd3cXAMS2bdt0XlObX/QaFy9e1AaLsrIyIYQQp06d0v6Qv7s/Gpr3lkwmEz/99JN2e1lZmXjkkUcEAPH666/rvOZBQUkul4tffvlFuz03N1f7dQ0ODhaTJ0/Wea++9tprAoB48skndY6XkZEhduzYIcrLy3W2X716Vfj7+wuZTFbpPWXooFST94/mWH5+fnrPtWvXLpGcnKyzrby8XLzxxhsCgHjqqaeqrOPuoLRq1Sohl8uFr6+vOH/+vE77kSNHCgBi0aJFoqSkRLv9ypUrIiAgQMjlcnHixAntds337Ndff61U69mzZyvVqo/mOADE119/rd2uVqvF4sWLBQDRpUsXnddMmTJFABCbNm2qdDzNaz766KNqnV8jISFB2NnZCUtLS234+fe//63df/XqVWFrayuUSqWIjo7Wee33338vAIju3bvrbL969ao4cOBApXP99ddfolmzZsLR0bHS+0ATlKytrcXevXtr1IemiEGJ6uxBQUmhUIjExMRKr1u+fLkAIF5++eUqjzt//vxKPyQ1vwRbtWql84NWCCFKS0uFk5OTsLS01AlXERERAoB45513Kp1jx44dRg1KMplMXLhwodJrRo8eXekv5o0bNwoA4vHHH6/yPJqgWJ0f3vn5+cLGxkbIZDJx8eLFSvs/++wzAUAMHz5cZ3tdgtLrr79e6UqVEEIbVu+9eijE3++tqVOnVtp37NixKq9mPCgo3Rt4hPi7v0qlUmRnZ+vsy8nJEZIk3Tdg3Oubb74RAMRnn32ms93QQakm7x/NsWrSj7s1b95cODs7V1mH5nvw0UcfCUmSRJs2bcSNGzd02h4/flwAEH369KkyFG/atEn7B5CGJljd+z2pKc33vk+fPpX2lZSUCF9fXwFAHDx4ULs9OjpaABDh4eE67UtLS4Wnp6ewsrLSCajVpfm5p7lipPmjQQghXnjhBQFAe8X9XuPGjRMAxLFjx6p1rldffVUAEJs3b9bZrglKc+fOrXH9TRHnKFG969KlC5o3b15pu2b8fNy4cVW+LiwsDABw5MiRSvsGDhwIS0tLnW0WFhZo1aoVSktLkZmZqd2umUMwadKkSscZNmwYnJ2dq9eReuDv74+goKBK2zXb7p6DUZev172OHTuG27dvo0ePHmjdunWl/REREQCAAwcO6J0rVVNr167VOfa951qzZo3e1w4bNqzStqq+RtUxdOjQSts0k9O7detWaZ6GUqmEi4uL3vPExMTg7bffxpw5c/DUU09h+vTp+N///gcAuHTpUo1qq6mavH+qKzMzE6tWrcLChQsxY8YMTJ8+HdOnT0dpaSmysrKQlZVV5eteffVVLFy4EJ07d8b+/fvh6+urs1/z/h07dmyV60JV9f7t2rUrAODJJ5/E4cOHoVara9yfuz322GOVtllaWuKRRx4BAJ35Rv3790dwcDC2b9+OpKQk7fYtW7YgNTUV48ePr9UNA88//7x20vYbb7wBuVyu3Xf316gq+v4fLy8vx86dO7F06VLMnj1b+z3bs2cPAP3vwzFjxtS4/qaIywNQvWvRokWV2zUTE3v27Hnf12dkZFTa5uPjU2VbzRolxcXF2m3JycmQJKnSD+6769P3w7++1aQfmq/X5MmTMXnyZL3HrOrrdS/NxFx9C4I2a9YMSqUSKpUKubm5UCqVDzzm/cTExODq1ato27at9pefxpQpU7B48WL88ssv+M9//gNra+tKr6/q61TV16g6qgrtdnZ2evdp9t/7dVWpVJgwYQJ2796t91x5eXk1qq2mavL+qY5169Zh1qxZyM/P19smLy+v0h8XBw4cQHR0NDw9PbFnzx44OjpWep3m/bt48WIsXrxY7/Hv/jr/85//RExMDLZs2YItW7ZAqVSiZ8+eCA8Px/Tp0+Hg4FCj/vn5+VW5XfP/wb0T1mfNmoX58+fju+++w+uvvw4A+OabbwAAM2fOrNG5NWQymfY9rnnfaWi+Rp6envc9xt1fo8TERISHh+PEiRN62+t7H+r72Uy6GJSo3lX1iw+o+CsIAB599FHY2trqfX1VQcpUVyquqZr0Q/P1Gjly5H0XeqzJUgTVOb8hvtaaJQCysrK0fxXfzdLSErm5udi8eXOVV/4M+f2+37Fqcp7Fixdj9+7d6N+/P958802EhISgWbNmkMvl2LlzJ4YPH26wq3H6GPLrcv36dUyfPh1CCHzyyScYNWoUmjdvDhsbGwBAnz59EBsbW2WfgoODAQAnT57EkiVLsHz58kptNO/ffv363Xd5ibuv0jg6OmL37t04cOAAtmzZgr1792LXrl3YuXMnli1bhv379yMgIKBO/Qag9/s0bdo0vPzyy/juu+/w2muvITExETt27ECrVq0waNCgOp/3XuXl5ZAkCU8++eR927Vv317776effhonTpzAhAkTsHjxYrRp0wYODg6QyWT4+uuv8cwzz+jtn76fzaSLQYmMxsfHBxcuXMBrr72GDh061Nt5vLy8cO3aNdy8eROBgYGV9t+4caPezm1ImqsHs2fPrvMlc29vbwBAQkJClftVKhVUKhXs7Oxq/Ff7vYqLi7VDUWlpaUhLS9Pb9scff6wyKJmijRs3Qi6XY/PmzZWuuF29etVIVdXeH3/8gZKSEixcuBAvvPBCpf3365OTkxN++eUXPPTQQ/jkk08gl8vx73//W6eN5v07ceJEPP/889WuS5IkhIWFaQN2eno6XnjhBaxbtw6vvPIKNmzYUO1jXb9+vcrtmp8Bmv8vNJo1a4bJkydj9erViIqKQmxsrPYW//r4Y83HxwdXrlzBZ599VuVVuXsVFBQgKioKHh4e+Pnnn3WG8QDzfB+aIs5RIqMZMmQIAOhdP8VQND9gNb+s7xYVFWW0YbeaMuTXq2vXrrCxscHhw4ernL+gmS8UFhZW518IW7duRXZ2Nrp37w5RcQNJpY/c3FxYW1tjx44d1Ro6NAXZ2dlwcHCocljy559/NkJFD2ZpaYmysrIq92VnZwNAlUPU+/btw61bt+57bFdXV+zatQvt27fHRx99hH/96186+w31/nVzc9OukXXq1KkavbaqUFVWVoZff/0VANC3b99K+5955hkAwFdffYXvvvsOFhYW1X7OY03V9GukUqmgVqvh5eVVKSSVlZVh48aNhi6xSWJQIqN55pln4ObmhnfffRerVq2qdHm4oKAAP/zwg3Y16LqcBwA+/vhjnDt3Trs9KysLixYtqtOxG9LEiRPRtm1brF69Gu+//36lx6KUlJTgt99+q9YvDzs7O/zjH/+AWq3G3LlzUVBQoN138eJFvP322wCAefPm1bluzbDb448/rreNg4MDHn74YZSWltb7Yo2GEhQUhJycnEq/fJcvX66dRGtqvL29cevWLe2z9u6mmQC+Zs0anfdDUlISZs+eXa3ju7u7Y/fu3WjXrh3ef/99vPbaa9p9vXr1wuDBg7Fnzx68+OKLleZBqdVq7Ny5U2dC9ZdfflnlVc/t27cDqPkcmwMHDuC7777Tfi6EwJIlS3Djxg107NgRffr0qfSaXr16oWPHjvjtt99w48YNhIeH19uzCRcuXAgbGxu8+OKLVS6em5WVhS+++AK3b98GUPH1ViqVOH36NA4cOKBtV15ejkWLFuHixYv1UmdTw6BERuPk5ISNGzdqf2m3bNkS4eHheOSRR9C9e3d4eHhg2rRpdb7CEBYWhvnz5yMjIwOdO3dGeHg4Hn30Ue3dXr169arVcbdt24ZevXrp/bjfhNjasLCwwMaNG+Hr66tdiXnEiBGYNGkSevfuDQ8PDzzyyCO4cuVKtY63bNkydO3aFVFRUWjVqhUmTZqEUaNGoWPHjkhNTcXzzz+PUaNG1anmrKwsbN++HTKZ7IFDapo7ku5395spefnllwFU1N2/f39MmTIF7du3x0svvYQXX3zRyNVVbcyYMSgrK0OXLl0wdepUPP300/jwww+1+9q3b4+jR48iMDAQEydORHh4OIKCguDk5FRliKiKJiy1adMG77zzjnY1d6DizscOHTrgk08+gZ+fHwYPHozHHnsM/fr1g6enJ4YPH46jR49q23/55Zdo1aoV2rdvj4kTJ+Kxxx5D586dMX/+fNjY2OgcuzrmzJmDp59+Gj179sSUKVMQGhqKd999Fw4ODli1apXe12n+2AJqP4m7Olq3bo01a9bg9u3bGDNmDNq2bYvx48dj3Lhx6Ny5M7y8vDB37lztJH0LCwssWrQIZWVlGDBgAIYNG4bHHnsMgYGB+PLLLzF37tx6q7UpYVAio+rbty9OnTql/Utq9+7d2LlzJ3JzcxEeHo4NGzZoJ4rWxccff4yVK1ciMDAQUVFROHDgACZNmoQ9e/ZAoVDU6pgZGRk4dOiQ3g99Qxx10bZtW8THx2Pp0qVwd3dHTEwMtm3bhvT0dPTv3x+rVq3SXr5/EAcHB0RHR+ONN96Aq6srNm/ejP3796Nbt2746aef8Omnn9a53vXr16OkpAT9+vXTe0eZRnh4OBwcHHDo0CGz+Ev4iSee0Ibl+Ph4bN++Hd7e3ti9e7fJ3na9bNkyPPfccygrK8OGDRvw7bffYtu2bQAAKysr7N+/H3PmzIG1tTW2bt2Kc+fOYd68eYiKiqq0HMf9aO5+CwoKwptvvom33noLAODh4YG4uDh8/PHHaN26NY4cOYJNmzYhMTERnTt3xn/+8x9MnTpVe5y33noL//jHPyBJEnbt2oUtW7agsLAQs2bNwsmTJ9G7d+8a9X/SpEnYvHkz5HI5fv/9dyQmJmLs2LGIi4tD586d9b5u8ODBACrmEA0fPrxG56ypCRMm4MSJE3jmmWdQWlqK7du3Y+/evSguLsYTTzyBrVu36gz3vvLKK/j+++/RoUMHHDhwAH/++Sc6duyIuLg4dOvWrV5rbSokUd+3ZRAREZmxd999F6+++iqWLFlSo2cbUuPAoERERKRHbm4u2rZti8zMTCQkJFS6M44aPy4PQEREdI9Vq1YhOjoa+/btQ0pKCl588UWGpCaKc5SIiIjuER0dje+//x75+fmYN28eli1bZuySyEg49EZERESkB68oEREREenBoERERESkBydz15FarUZycjIcHBwazYNaiYiIGjshBPLy8uDt7Q2ZTP91IwalOkpOTq7y2UhERERk+m7evKl9aHNVGJTqSPNk9Zs3b1brac9ERERkfLm5ufD19dX+HteHQamONMNtjo6ODEpERERm5kHTZjiZm4iIiEgPBiUiIiIiPRiUiIiIiPRgUCIiIiLSg0GJiIiISA8GJSIiIiI9GJSIiIiI9GBQIiIiItKDQYmIiIhID67MTVQN5WqBwwlZSMsrgruDNXq0dIZcxocgExE1dgxKRA8QeToFb2w5ixRVkXabl9IaS0YHY0SIlxErIyKi+sahN6L7iDydgjlr/tIJSQCQqirCnDV/IfJ0ipEqIyKihsCgZILK1QKxVzLxe3wSYq9kolwtjF1Sk1SuFnhjy1lU9dXXbHtjy1l+f4iIGjEOvZkYDvM0HCEEcgpLkZ5fjLTcYqTnFyE9T/PvYly6lV/pSpLO6wGkqIpwOCELvQNcGq5wIiJqMJIQgn8O10Fubi6USiVUKhUcHR3rdCzNMM+93xDNlOGVU7uYVVgy1gTo4rJyZOSXIC33TvDJK0Z6XvFdgagY6blFSM8vRml53d/+LnZW6Bvoik6+zdCpRTO093aEwkJugJ4QEVF9qe7vbwalOjJUUCpXC4S9v1vvFQwJgKfSGjGLB5nF3VaGvjImhEDu7TKk5emGn3s/T88vRk5haY2O7WRrCTcHBdwdrOHmoLjzbwVyCkvx+Z7LNa7VUi4h2MtRG5w6+TrB38UWkmT63zcioqaCQamBGCooxV7JxOPfxD2wnbOdFZQ2llBYyKCwlMPaQgZrSzmsLSv+q9B+XrFPceffirvbWdzZpv237O/P77S1kstq/Yu9JlfGSsrUyMgvvn/4ufNRUq6udg1Wcpk29GiCz9//ttZuc7G30nv1RxNeU1VFVc5TkgC4OyrwwSMdcDJRhfibOYi/mYPMgpJKbZvZWqKjT7O/w5NPMzjZWVW7P0REZFgMSg3EUEHp9/gkvLA+3nCF1ZFMAhR3hShNgHpQOLOSy/D9wWvIKy7Te2wrCxn8nG2RkV+M7Bpe/VHaWGpDj77w4+aggNLG0iBXcDShD4BOWNI3HCqEQGL2bRy/mYP4GzmIv5mN08m5KCmrHPL8XWwrgpNvM3Rq4YRgL0dYWfD+CiKihsCg1EAa+orSO+NCEOTpgKLSchSVqlFUWo7iMvWdz/X9+85/y/5uX3ynTVGpGkVlf//bGCzlEtzsNaHHuooQ9Pe/jTH3p67DiCVlapxPza244nSj4qrT1YyCSu2s5DIEe1cM2XVuURGgWjhzyI6IqD4wKDUQQ89Rut8wT33PURJCoKRcjaJSTZD6O0RVCl13glfxPeHsXEoeYi5nPPBczw4MwNhOzeF+5+qPzMTnXRl6YnpOYQlOJKq0V53ib+ZUeXXN2c4KHX2U6OTrpB2yU9pa1qUrREQEBqUGUx93vQHVG+YxRdW9MrZuZi/eUn8XIQRuZBUi/mYOjt+56nQ2ObfKeVmtXO20c506+zqhrZcDLOXVG7Ljo1iIiCowKDUQQwYlwPzXUTKFK2ONRXFZxRW6+BvZ2oni1zILK7VTWMgQ0lxZMVm8RTN09m0GHyebSkN25v7eIiIyJAalBmLooASY/1/9jeHKmKnKLihBfOLfc53ib+ZAdbvykJ2rvZX2LrvOLZyQnleEBT+faDRrdBER1RWDUgOpj6DUGPDqRcMQQuBaZmHFPCfNkF1Kbo0W0uRVPiJqihiUGgiDkn7mfmXMXBWVluNMcq72itOhq5lIyyt+4OuWhAfj0e6+sFfwyUZE1PgxKDUQBiUydTVdo6ulqx3aezuivbcSIc0r/uvMxTGJqJGp7u9v/ulI1Mi5O1hXq52LnRUyC0qQkFGAhIwCbD2Zot3nrbRG++ZKtPd2RIi3Eu2bO8LT0ZprPBFRo8egRNTI9WjpDC+ldbXuRMwpLMGZ5FycSc7F6WQVzibnIiGjAMmqIiSrihB19pb2dS52VrrhydsRLZxtTX5NLCKimuDQWx1x6I3MQV3uRMwrKsXZe8LTpbR8lKsr/+hwUFig3Z3gpBm2C3Czg0U113kiImoonKPUQBiUyFwY8k7EotJynE/Nw5lkFU4n5eJssgrnUvOqfKadwkKGtl6OCLlr3lOQhwOsLWv/OBreKEBEdcWg1EAYlMic1GfAKC1X43JafsWVpyTVnatQKhSUlFdqayGTEOhujxDN0F1zJdp5OVbrjjsuPUFEhsCg1EAYlIj0U6sFrmcV4nSSSjtsdzpJVeVz7SQJaOliV2nek9Ndd9xphhC5cCYR1RWDUgNhUCKqGSEEklVFOJOkwunkimG700m5SM0tqrJ982Y2CPZ2RHsvR3wfe63KkAVw4UwiqhkGpQbCoERkGBn5xTrDdqeTVbhexbPtHoQPXCai6uA6SkRkVlztFRgQ5IYBQW7abbl37rg7naTCjjOpOHIt+4HHScur+soUEVFt8J5dIjJZjtaW6NXKBU/3a4UFQ9tU6zXVXWCTiKg6GJSIyCxoFs683+wjFzsr9Gjp3GA1EVHjx6BERGZBLpOwZHQwAOgNSzm3S7Hu8A1w6iURGQqDEhGZjREhXlg5tQs8lbrDax6OCnTyVaJcLfDaptP45y8nUVRaef0mIqKa4l1vdcS73ogaXlULZ8ok4Mvoq/hwx3moBRDS3BErn+gKX2dbY5dLRCaour+/TfKK0sqVK9GhQwc4OjrC0dERvXv3xvbt27X7hRBYunQpvL29YWNjg4EDB+LMmTM6xyguLsa8efPg6uoKOzs7jBkzBomJiTptsrOzERERAaVSCaVSiYiICOTk5DREF4moDuQyCb0DXDC2U3P0DnCBXCZBkiTMGRiAH/7RE062ljidlIvRn8dg38V0Y5dLRGbMJIOSj48P3nvvPRw9ehRHjx7FoEGDMHbsWG0Y+uCDD/Dxxx/j888/x5EjR+Dp6YmhQ4ciLy9Pe4z58+dj48aNWL9+PWJiYpCfn4/w8HCUl/99OX7KlCmIj49HZGQkIiMjER8fj4iIiAbvLxEZTlhrV2x9vh86+CiRU1iKaasO4/Pdl6Cu4iG+REQPJMyEk5OT+O9//yvUarXw9PQU7733nnZfUVGRUCqV4ssvvxRCCJGTkyMsLS3F+vXrtW2SkpKETCYTkZGRQgghzp49KwCIuLg4bZvY2FgBQJw/f77adalUKgFAqFSqunaRiAzodkmZWPzLCeG3eKvwW7xVPP39EaG6XWLssojIRFT397dJXlG6W3l5OdavX4+CggL07t0bCQkJSE1NxbBhw7RtFAoFBgwYgIMHDwIAjh07htLSUp023t7eCAkJ0baJjY2FUqlEz549tW169eoFpVKpbUNE5svaUo73HumAZRNCYSWXIersLYz9/AAupOY9+MVERHeYbFA6deoU7O3toVAoMHv2bGzcuBHBwcFITU0FAHh4eOi09/Dw0O5LTU2FlZUVnJyc7tvG3d290nnd3d21bapSXFyM3NxcnQ8iMl2P92iBn2f3hrfSGgkZBRj3nwPYciLZ2GURkZkw2aDUpk0bxMfHIy4uDnPmzMG0adNw9uxZ7X5J0l1JRQhRadu97m1TVfsHHWfZsmXayd9KpRK+vr7V7RIRGUkn32bYMi8MfQJccLu0HPPWHcdbW8+itFxt7NKIyMSZbFCysrJCYGAgunXrhmXLlqFjx4749NNP4enpCQCVrvqkpaVprzJ5enqipKQE2dnZ921z69atSudNT0+vdLXqbi+//DJUKpX24+bNm3XqJxE1DBd7BX74Rw88M6AVAODbmARM/e8hpOcVG7kyIjJlJhuU7iWEQHFxMVq2bAlPT09ERUVp95WUlCA6Ohp9+vQBAHTt2hWWlpY6bVJSUnD69Gltm969e0OlUuHw4cPaNocOHYJKpdK2qYpCodAuW6D5ICLzYCGX4eWR7bDyiS6ws5LjUEIWwlfsx183HvywXSJqmiyMXUBVXnnlFYwcORK+vr7Iy8vD+vXrsXfvXkRGRkKSJMyfPx/vvvsuWrdujdatW+Pdd9+Fra0tpkyZAgBQKpWYMWMGFi5cCBcXFzg7O+Oll15CaGgohgwZAgBo164dRowYgZkzZ+Krr74CAMyaNQvh4eFo06Z6D98kIvM0MtQLrT3s8cyPx3AlvQCTv4rF/41uj6k9WzxwCJ+ImhaTDEq3bt1CREQEUlJSoFQq0aFDB0RGRmLo0KEAgEWLFuH27dt49tlnkZ2djZ49e2Lnzp1wcHDQHmP58uWwsLDApEmTcPv2bQwePBirV6+GXC7Xtlm7di2ef/557d1xY8aMweeff96wnSUiowh0d8Dvz4Xhn/87ge2nU/H6ptOIv5GDd8aHwNpS/uADEFGTwEeY1BEfYUJk3oQQ+GrfVXwQWfHok/bejvhyKh99QtTYmfUjTIiIGookSZg9IAA/zugJZzsrnEnORfiKGETz0SdEBAYlIiIAQN9AV2yZF4aOPkqobpdi+qrDWLGLjz4hauoYlIiI7mjezAYbnumNx3u0gBDAR1EXMevHo1DdLjV2aURkJAxKRER3sbaUY9mEUHzwSAdYWcjw57k0jP08ho8+IWqiGJSIiKowqbsvfpndG82b2eBaZiHG/ecANvPRJ0RNDoMSEZEeHXwqHn0SFuiK26XleH7dcby5hY8+IWpKGJSIiO7D2c4K3/+jB54dGAAA+O5AAp747yGk5RUZuTIiaggMSkREDyCXSVg0oi2+nNoV9goLHE7IwugVMTh2PcvYpRFRPWNQIiKqphEhnvj9ub5o7W6PW7nFeOzrOPwQew1ct5eo8WJQIiKqgQA3e2ya2xejQr1QWi7wf7+fwcKfT+B2SbmxSyOiesCgRERUQ3YKC3w+pTNefbgd5DIJvx1PwoSVB3Ejs9DYpRGRgTEoERHVgiRJmNm/FX6c0QMudlY4l5KL0Z/HYM+FNGOXRkQGxKBERFQHfQJcsfX5MHT0bQbV7VL8Y/URfPonH31C1FgwKBER1ZGX0gY/P9MLU3pWPPpk+Z8XMfMHPvqEqDFgUCIiMgCFhRzvjg/FBxMrHn2y63waxnweg3MpucYujYjqgEGJiMiAJnXzxa+z+6B5MxtczyzE+C8O4Pf4JGOXRUS1xKBERGRgoT5KbJ0Xhn6tXVFUqsYL6+OxdPMZPvqEyAwxKBER1QMnOyusfqoH5j5U8eiT1QevYco3cUjL5aNPiMwJgxIRUT2RyyT8c3hbfB3RFQ4KCxy5lo3wFTE4eq3i0SflaoHYK5n4PT4JsVcyUc475YhMjiS49n6d5ObmQqlUQqVSwdHR0djlEJGJupqej2d+PIZLafmwkEl4pEtzRF9MR2pusbaNl9IaS0YHY0SIlxErJWoaqvv7m1eUiIgaQCvNo086eKFMLbDhaKJOSAKAVFUR5qz5C5GnU4xUJRHdi0GJiKiB2Cks8OnkTnCwtqhyv+by/htbznIYjshEMCgRETWgI9eykVdUpne/AJCiKsLhhKyGK4qI9GJQIiJqQGl51bvrrbrtiKh+MSgRETUgdwdrg7YjovrFoERE1IB6tHSGl9Iakp79EirufuvR0rkhyyIiPRiUiIgakFwmYcnoYADQG5aWjA6GXKZvLxE1JAYlIqIGNiLECyundoGnUnd4zc5KjpVTu3AdJSITUvU9qkREVK9GhHhhaLAnDidkYefZVKw6cA3NbK0wvL2nsUsjorvwihIRkZHIZRJ6B7hg0fC2sLWSIynnNuJv5hi7LCK6C4MSEZGR2VjJMaSdBwBg20muyk1kShiUiIhMwKgOFfOStp1KgZqrchOZDAYlIiITMCDIDfYKC6SoinD8ZraxyyGiOxiUiIhMgLWlHEODK4bftpzg8BuRqWBQIiIyEeF3ht/+4PAbkclgUCIiMhFhrV3hYG2BtLxiHLnGh+ISmQIGJSIiE6GwkGNYcMU6SttOcfiNyBQwKBERmZDwjprht1SUc/iNyOgYlIiITEjfAFcobSyRkV+MQwmZxi6HqMljUCIiMiFWFjKMuPMYk61cfJLI6BiUiIhMjGbxycjTqSgrVxu5GqKmjUGJiMjE9AlwgZOtJbIKShB3lXe/ERkTgxIRkYmxkMswIqTiqtLWk8lGroaoaWNQIiIyQaM1w29nUlHK4Tcio2FQIiIyQT1aOsPV3go5haU4cDnD2OUQNVkMSkREJshCLsPIO8Nv23j3G5HRMCgREZkozd1vO86koqSMw29ExsCgRERkorr7O8PdQYHcojLEXE43djlETRKDEhGRiZLLJDwceufutxMcfiMyBgYlIiITFn5n+C3q7C0UlZYbuRqipodBiYjIhHVp4QRPR2vkFZdh30UOvxE1NAYlIiITJrtr+G3bKQ6/ETU0BiUiIhMX3rEiKP3J4TeiBsegRERk4jr7NkPzZjYoKCnH3gtpxi6HqElhUCIiMnGSJGnXVNrCxSeJGhSDEhGRGRh1Z57S7nNpKCwpM3I1RE2HSQalZcuWoXv37nBwcIC7uzvGjRuHCxcu6LSZPn06JEnS+ejVq5dOm+LiYsybNw+urq6ws7PDmDFjkJiYqNMmOzsbERERUCqVUCqViIiIQE5OTn13kYioRjr4KOHrbIPbpeXYc553vxE1FJMMStHR0Zg7dy7i4uIQFRWFsrIyDBs2DAUFBTrtRowYgZSUFO3HH3/8obN//vz52LhxI9avX4+YmBjk5+cjPDwc5eV/T4acMmUK4uPjERkZicjISMTHxyMiIqJB+klEVF2SJGFUqDcAYOvJZCNXQ9R0SEIIYewiHiQ9PR3u7u6Ijo5G//79AVRcUcrJycGmTZuqfI1KpYKbmxt+/PFHTJ48GQCQnJwMX19f/PHHHxg+fDjOnTuH4OBgxMXFoWfPngCAuLg49O7dG+fPn0ebNm0eWFtubi6USiVUKhUcHR0N02EioiqcTlIhfEUMFBYy/PX6UNgpLIxdEpHZqu7vb5O8onQvlUoFAHB2dtbZvnfvXri7uyMoKAgzZ85EWtrfd4McO3YMpaWlGDZsmHabt7c3QkJCcPDgQQBAbGwslEqlNiQBQK9evaBUKrVt7lVcXIzc3FydDyKihtDe2xH+LrYoLlPjz3O3jF0OUZNg8kFJCIEFCxYgLCwMISEh2u0jR47E2rVrsXv3bnz00Uc4cuQIBg0ahOLiYgBAamoqrKys4OTkpHM8Dw8PpKamatu4u7tXOqe7u7u2zb2WLVumnc+kVCrh6+trqK4SEd2XJEkI71Ax/LaNd78RNQiTD0rPPfccTp48iXXr1ulsnzx5MkaNGoWQkBCMHj0a27dvx8WLF7Ft27b7Hk8IAUmStJ/f/W99be728ssvQ6VSaT9u3rxZi14REdWOZpmAvRfTkVdUauRqiBo/kw5K8+bNw+bNm7Fnzx74+Pjct62Xlxf8/Pxw6dIlAICnpydKSkqQnZ2t0y4tLQ0eHh7aNrduVb58nZ6erm1zL4VCAUdHR50PIqKG0tbTAQFudijh8BtRgzDJoCSEwHPPPYfffvsNu3fvRsuWLR/4mszMTNy8eRNeXhV/bXXt2hWWlpaIiorStklJScHp06fRp08fAEDv3r2hUqlw+PBhbZtDhw5BpVJp2xARmZKKxSfv3P12gsNvRPXNJIPS3LlzsWbNGvz0009wcHBAamoqUlNTcfv2bQBAfn4+XnrpJcTGxuLatWvYu3cvRo8eDVdXV4wfPx4AoFQqMWPGDCxcuBC7du3C8ePHMXXqVISGhmLIkCEAgHbt2mHEiBGYOXMm4uLiEBcXh5kzZyI8PLxad7wRERlD+J3ht32X0qG6zeE3ovpkkkFp5cqVUKlUGDhwILy8vLQfGzZsAADI5XKcOnUKY8eORVBQEKZNm4agoCDExsbCwcFBe5zly5dj3LhxmDRpEvr27QtbW1ts2bIFcrlc22bt2rUIDQ3FsGHDMGzYMHTo0AE//vhjg/eZiKi6gjwcEORhj9JygZ1nqr7xhIgMwyzWUTJlXEeJiIzh0z8vYfmfFzGwjRtWP9XD2OUQmZ1GtY4SERHp0tz9FnMpA9kFJUauhqjxYlAiIjJDge72aOvpgDK1wM6zHH4jqi8MSkREZmp0R82z33j3G1F9YVAiIjJTo0Irht8OXslEZn6xkashapwYlIiIzJS/qx1CmjuiXC0QybvfiOoFgxIRkRkbFcpnvxHVJwYlIiIzpll8Mu5qJtLzOPxGZGgMSkREZszX2RYdfZRQCyDyNK8qERkagxIRkZkL78C734jqC4MSEZGZe/jO8Nvha1m4lVtk5GqIGhcGJSIiM9e8mQ26tGgGIYDtp3hViciQGJSIiBqBURx+I6oXDEpERI2AZvHJo9ezkaK6beRqiBoPBiUiokbAU2mN7v5OALimEpEhMSgRETUSmqtK2zhPichgGJSIiBqJh0O9IEnA8Rs5SMwuNHY5RI0CgxIRUSPh7miNHv7OAIA/eFWJyCAYlIiIGpHwjrz7jciQGJSIiBqREe09IZOAk4kq3Mjk8BtRXTEoERE1Im4OCvQOcAEAbD2VbORqiMwfgxIRUSMzKrRi+I3LBBDVHYMSEVEjMyLEE3KZhDPJuUjIKDB2OURmjUGJiKiRcbazQp87w2/bTnL4jaguGJSIiBqh0Xz2G5FBMCgRETVCw9p7wEIm4XxqHi6n5Ru7HCKzxaBERNQINbO1Qr/WrgA4qZuoLhiUiIgaqVHa4TfOUyKqLQYlIqJGamiwB6zkMlxKy8fFW3nGLofILDEoERE1UkobS/QPqhh+23qCV5WIaoNBiYioERvVwQsAsPVUCoQQRq6GyPwwKBERNWJD2nnAykKGq+kFOJfC4TeimmJQIiJqxBysLTEwyA0AsI3PfiOqMQYlIqJGLrzj34tPcviNqGYYlIiIGrnBbd1hbSnD9cxCnEnONXY5RGaFQYmIqJGzU1hgUFt3AMAWrqlEVCMMSkRETcCo0Irht20cfiOqkVoHpRs3biArK+uB7bKzs3Hjxo3anoaIiAxgUFt32FjKkZh9GycSVcYuh8hs1DootWzZEv/85z8f2G7RokVo1apVbU9DREQGYGMlx+B2FcNv2zj8RlRttQ5KQohqX77lZV4iIuML7/D38JtazZ/LjVW5WiD2SiZ+j09C7JVMlPN7XScW9X2CjIwM2NjY1PdpiIjoAQa2cYOdlRzJqiIcv5mDrn5Oxi6JDCzydAre2HIWKaoi7TYvpTWWjA7GiBAvI1ZmvmoUlPbt26fzeWpqaqVtGmVlZbhw4QIiIyMREhJS+wqJiMggrC3lGBrsgU3xydh2MoVBqZGJPJ2COWv+wr3Xj1JVRZiz5i+snNqFYakWJFGDcTGZTAZJkgBUDKdp/q2Pps3atWvx2GOP1a1SE5WbmwulUgmVSgVHR0djl0NEdF9RZ29h5g9H4elojYP/GgSZ7P4/x8k8lKsFwt7frXMl6W4SAE+lNWIWD4Kc33MA1f/9XaMrSk8++aQ2HH3//fcICAhA3759q2xrZWUFb29vjB49Gl26dKnJaYiIqJ70D3KFg8ICqblFOHYjG939nY1dEhnA4YQsvSEJAASAFFURDidkoXeAS8MV1gjUKCitXr1a++/vv/8eYWFh+O677wxdExER1ROFhRxD23vgt7+SsPVEMoNSI5GWpz8k1aYd/a3Wd72p1WqGJCIiMxTeoWKeyh+nU3lHVCPh7mBt0Hb0N67MTUTUxIQFusHR2gLpecU4nPDghYPJ9HX3d4KtlVzvfgkVd7/1aMkriDVVp+UBiouLsW7dOuzbtw8pKSkoLi6usp0kSdi1a1ddTkVERAZiZSHD8Pae+N+xRGw7lcw5K43AZ7svo7Ck/L5tlowO5kTuWqh1UEpKSsLgwYNx6dKlBy4o+aC744iIqGGFd/TG/44lYvupVCwd3R4Wcg4wmKtvYxLw2a5LAIDHuvsi+mK6zsRupY0F3n+kA5cGqKVaB6V//vOfuHjxIvr06YOFCxciKCgI9vb2hqyNiIjqSZ8AFzjZWiKzoASHErLQN9DV2CVRLfxyLBFvbT0LAFg4NAjzBrdGuVrgcEIWVh9MwI4zt9C/tRtDUh3UOijt2LEDLVq0wJ9//glra04OIyIyJ5ZyGUaEeGLd4ZvYejKZQckM7TiTisW/ngQAzAhriecGBQIA5DIJvQNcIJdJ2HHmFg5eyYRaLbhmVi3V+lprcXExunfvzpBERGSmRoVWPPst8nQqSsvVRq6GauLA5QzM++k4ytUCE7v64NWH21Wa5tLJtxlsreTILCjBhVt5RqrU/NU6KIWGhiIxMdGQtRARUQPq1coZLnZWyC4sxcErmcYuh6op/mYOZv5wFCXlagxv74H3JoRWebXIykKGnnfucjtwOaOhy2w0ah2UFi9ejCNHjiA6OtqQ9RARUQOxuDP8BgDbTiYbuRqqjku38jB91WEUlpSjb6ALPn2s830n4muGVGMYlGqt1nOUunTpgoULF2L06NFYsGABhg4dCh8fH713uLVo0aLWRRIRUf0I7+CNtYduIPJ0Kt4eFworC979ZqpuZhVi6reHkFNYio6+zfBVRDdYW+pfOwkAwlpXBKVDV7NQUqbm97cWah2U/P39IUkShBB466238NZbb+ltK0kSysrKansqIiKqJz1aOsPNQYH0vGIcuJyBh9q6G7skqkJaXhGmfnsIt3KLEeRhj9XTu8Ne8eBf4W08HOBqb4WM/BIcv5GNnq24ZlZN1Tpa9u/fH/3798eAAQO0/9b30a9fvxode9myZejevTscHBzg7u6OcePG4cKFCzpthBBYunQpvL29YWNjg4EDB+LMmTM6bYqLizFv3jy4urrCzs4OY8aMqTSvKjs7GxEREVAqlVAqlYiIiEBOTk6tviZEROZGLpPw8J3hty0cfjNJqsJSPPntYVzPLISPkw1+nNETTnZW1XqtJEna4TfOU6qdWl9R2rt3rwHL0BUdHY25c+eie/fuKCsrw6uvvophw4bh7NmzsLOzAwB88MEH+Pjjj7F69WoEBQXh7bffxtChQ3HhwgU4ODgAAObPn48tW7Zg/fr1cHFxwcKFCxEeHo5jx45BLq+4XDllyhQkJiYiMjISADBr1ixERERgy5Yt9dY/IiJTMqqDN76PvY6oM7dQXFYOhcX9h3Oo4RSWlOEf3x/B+dQ8uDkosPbpnvBwrNnd5n0DXfF7fDJiLmdgwbA29VRpIybMQFpamgAgoqOjhRBCqNVq4enpKd577z1tm6KiIqFUKsWXX34phBAiJydHWFpaivXr12vbJCUlCZlMJiIjI4UQQpw9e1YAEHFxcdo2sbGxAoA4f/58tWpTqVQCgFCpVHXuJxGRMZSXq0WPd6KE3+KtIupMqrHLoTuKS8tFxLeHhN/irSJ0SaQ4m1y73zOJ2YXCb/FW0erlbUJ1u8TAVZqv6v7+NotZXSqVCgDg7Fxxm2NCQgJSU1MxbNgwbRuFQoEBAwbg4MGDAIBjx46htLRUp423tzdCQkK0bWJjY6FUKtGzZ09tm169ekGpVGrbEBE1djKZhIdDK1Zu3srhN5NQrhZ4cUM89l1Mh42lHKue6oF2Xo61OlbzZjZo6WqHcrXAoat8CHJN1Xro7c0336x2W0mS8Prrr9fqPEIILFiwAGFhYQgJCQEApKamAgA8PDx02np4eOD69evaNlZWVnBycqrURvP61NRUuLtXnrjo7u6ubXOv4uJinYf/5ubm1qpfRESmJLyDF1YduIaos7dQVFr+wLupqP4IIfDaplPYdioFlnIJX0V0RVc/pwe/8D76BrogIaMABy5nYGiwx4NfQFq1DkpLly7V3vVWFc0yAUKIOgWl5557DidPnkRMTIzec2hoznU/97apqv39jrNs2TK88cYb1SmdiMhsdPZ1grfSGsmqIuy9kK5dX4ka3vuRF7Du8E3IJODTxzqjf5BbnY8ZFuiKNXE3OKG7FmodlFatWlXldrVajZs3b2LHjh2IjY3F3Llz0a1bt1qdY968edi8eTP27dsHHx8f7XZPz4r/gVNTU+Hl9feD/tLS0rRXmTw9PVFSUoLs7Gydq0ppaWno06ePts2tW7cqnTc9Pb3S1SqNl19+GQsWLNB+npubC19f31r1j4jIVGiG3/4bk4Btp1IYlIxk5d4r+DL6CgDg3fGh2iHRuurdyhWSBFxKy8et3KIaTwhv0upzotS7774r7OzsxMmTJ2v0OrVaLebOnSu8vb3FxYsXq9zv6ekp3n//fe224uLiKidzb9iwQdsmOTm5ysnchw4d0raJi4vjZG4iapKO38gWfou3inavbxeFxWXGLqfJWRt3Xfgt3ir8Fm8VX0VfNvjxx6zYL/wWbxW/Hrtp8GObI5OYzP3yyy/Dx8cHr7zySo1eN3fuXKxZswY//fQTHBwckJqaitTUVNy+fRtAxXDZ/Pnz8e6772Ljxo04ffo0pk+fDltbW0yZMgUAoFQqMWPGDCxcuBC7du3C8ePHMXXqVISGhmLIkCEAgHbt2mHEiBGYOXMm4uLiEBcXh5kzZyI8PBxt2vAWSiJqWjr6KOHjZIPCknLsuZBm7HKalC0nkvHqplMAgGcHBmBW/wCDn4OPM6mder/rLTQ0tMr5RfezcuVKqFQqDBw4EF5eXtqPDRs2aNssWrQI8+fPx7PPPotu3bohKSkJO3fu1K6hBADLly/HuHHjMGnSJPTt2xe2trbYsmWLdg0lAFi7di1CQ0MxbNgwDBs2DB06dMCPP/5Y944TEZkZSZIwqgPvfmtoey+kYcHP8RACmNKzBf45vH7+UA+7a+FJoWd+MVUmiXr+anXp0gWXLl1CXl5efZ7GaHJzc6FUKqFSqeDoWLtbN4mITMWpRBVGfx4Da0sZjr02FHbVeEwG1d7Ra1mY+u0hFJWqEd7BC58+1hly2f1vSqqtotJydHxjJ4rL1PhzQX8Eujs8+EWNWHV/f9fbFaWcnBwsXLgQ8fHx6NGjR32dhoiIDCikuSP8XGxRVKrGrvMcfqtPZ5Nz8dTqIygqVWNgGzd8PKlTvYUkALC2lKNHy4r1CGMucfitumr9p0KrVq307svPz0dmZiaEELCxscGyZctqexoiImpAkiRhVKgXvth7BdtOJmNMR29jl9QoJWQU4MnvDiOvqAzd/Jyw8omusLKo/zWg+wa6Yv+lDMRczsT0vi3r/XyNQa2D0rVr1/Tus7S0hK+vLwYMGIDFixcjODi4tqchIqIGFt7BG1/svYI9F9KRV1QKB2tLY5fUqKSqijD1v4eQkV+MYC9HfDu9O2ysGmaBz74BFfOU4q5moqxcDQu5WTygw6hqHZTUarUh6yAiIhPRzssBrVztcDWjALvOpWFc5+bGLqnRyCoowdRvDyEp5zZautrh+3/0gNKm4YJosLcjmtlaIqewFCcSVXVe8bspYJQkIiIdkiQhnHe/GVx+cRmeWnUYl9Py4elojR9n9ICbg6JBa5DLJPQJcAEArtJdTQYNSnl5ecjPzzfkIYmIyAhGdaiYm7TvYgZUt0uNXI35Kyotx8zvj+JEogpOtpZY83QP+DjZGqWWvnctE0APVuegFBkZiYcffhhKpRLNmjWDUqmEo6MjRo0ahcjISEPUSEREDSzIwx6B7vYoKVcj6mzlRz1R9ZWVqzFv3XHEXs2EvcIC3/+jh1Fvzdesp/TXjWwUlpQZrQ5zUaegtGDBAm0gysvLg6OjIxwdHZGfn4/t27dj1KhROs9FIyIi83D38Ns2Dr/VmlotsPjXU4g6ewtWFjJ882Q3dPBpZtSaWjjbwsfJBqXlAocTsoxaizmodVDasGEDPvnkE7i5ueGzzz5Ddna29iMnJwcrVqyAu7s7Pv30U/z888+GrJmIiBqAJijtv5QBVSGH32pKCIG3tp3Fr38lQi6T8J8pXdD7zvwgY5IkSWeVbrq/WgelL774AtbW1ti3bx+ee+45KJVK7T5HR0fMnTsX0dHRUCgU+OKLLwxSLBERNZxAdwe09XRAmVpgx5lUY5djdj7bdRmrDlwDAHw4sQOGBnsYt6C7/P3ct0wjV2L6ah2UTpw4gUGDBiEoKEhvm6CgIAwaNAjx8fG1PQ0RERnRqNA7d7+dSjFyJeZl9YEELP/zIgBg6ehgTOjiY+SKdGnufDuXkouM/GIjV2Paah2USkpKYGdn98B2dnZ2KCkpqe1piIjIiDQPyT1wOQNZBfxZXh0bjydi6ZazAIAXhwSZ5ArYLvYKBHtVPN/s4BVeVbqfWgelgIAAREdHo7CwUG+bwsJCREdHIyAgoLanISIiI2rlZo9gL0eUc/itWqLO3sJL/zsJAHiqrz+eHxxo5Ir0C2t9Z54Sn/t2X7UOSpMmTUJaWhomTJiAq1evVtp/5coVTJgwAenp6Zg8eXKdiiQiIuMJ78jFJ6sj9kom5v70F8rVAhO6NMfro4IhSfX3kNu60gy/xVzOgBDCyNWYrlo/wuSll17C77//jp07d6JNmzbo0aMH/P39IUkSEhIScPjwYZSXl6Nbt25YuHChIWsmIqIGFB7qjQ8iLyD2SiYy8ovhat+wq0mbg5OJOZj5w1GUlKkxNNgDHzzSATKZ6YYkAOjR0hmWcglJObdxPbMQ/q4Pnk7TFNX6ipKNjQ327t2LuXPnwsrKCrGxsVi3bh1++uknxMbGwsrKCnPnzsXu3bthY2NjyJqJiKgBtXCxRQcfJdQC2H6aw2/3upyWh2nfHUZ+cRl6t3LBisc7m8XDZm2tLNClRcWz3mK4TIBedfpO2tvbY8WKFUhPT0d0dDTWrVuHdevWITo6Gunp6VixYgXs7e0NVSsRERmJ5u43Lj6pKzG7EBHfHkZ2YSk6+ijxzbRusLaUG7usatOsp3TwCoOSPjUaetu9ezcSExPRrVs3BAcHa7fb2tqiX79+Om3Pnj2Lo0ePwtfXFw899JBhqiUiIqMY1cELy7afx6GELKTlFsHd0drYJRldel4xIr49jBRVEVq722PVUz1gr6j1jBaj6NvaFR9FXcTBK5koVwvITXy40Biq/R29efMmRo0aBV9fXxw7duyB7X19fTF+/HgkJibi0qVL8Pb2rlOhRERkPD5Otujk2wzxN3Ow/XQqpvXxN3ZJRqW6XYpp3x1GQkYBmjezwY8zesLZzsrYZdVYh+ZKOCgskFNYirPJuQj1UT74RU1MtYfe/vvf/6KkpAQffPABHBwe/DA/BwcHfPjhh7h9+za+/fbbOhVJRETGp3mkSVO/++12STme/v4IzqbkwtVegbVP94Sn0jyvsFnIZeh1191vVFm1g1JUVBTc3Nwwbty4ah98zJgx8PDwwPbt22tTGxERmZCH78xTOnItG6mqIiNXYxwlZWrMWXsMR65lw8HaAj/8o4fZ3y3G577dX7WD0vnz59G9e/can6Bbt264cOFCjV9HRESmxbuZDbr6Vdwlta0JPtKkXC2w4Od47L2QDmtLGVZN745gb0djl1Vnmue+Hb6WhaLSciNXY3qqHZQKCgp0HnxbXUqlEvn5+TV+HRERmR7N8FtTu/tNCIH/+/00tp5MgaVcwlcR3dDN39nYZRlEgJsdPB2tUVKmxrHr2cYux+RUOyg5OTnh1q1bNT7BrVu34OTkVOPXERGR6Xk41AuSBPx1IwdJObeNXU6D+ffOC1h76AYkCVg+uRMGBLkZuySDkSRJe1WJ85Qqq3ZQCg4ORlxcHG7frv7/GIWFhYiNjdVZSoCIiMyXh6M1ut+5kvLHyaYx/Pb1viv4z54rAIB3xoUivEPju4u7b2DFhG7OU6qs2kFp9OjRKCgowNtvv13tg7/99tu4ffs2Ro8eXaviiIjI9GjvfmsC85TWH76Bd/84DwBYPKItpvRsYeSK6ofmitKpJBVyCkuMXI1pqXZQeuaZZ+Dp6Yn33nsPb7/9NtRqtd62arUab731Ft577z14eHjgmWeeMUixRERkfCNCPCGTgBM3c3Azq9DY5RhMuVog9komfo9PQuyVTGw9kYxXNp4CAMweEIA5AwOMXGH98XC0Rmt3ewhR8XBf+lu1F5y0tbXFb7/9hsGDB2PJkiX45ptv8Oijj6JLly5wc6sYq01PT8dff/2F//3vf0hMTIS1tTV+/fVX2Nra1lsHiIioYbk7WKNnSxfEXs3EtlMpmD3A/ANE5OkUvLHlLFKqWPbg8R6+WDyijRGqalh9A11xKS0fMZczMPLOUhBUw0eY9OrVC7GxsZg6dSpOnz6N5cuXV2ojhAAAtG/fHmvWrEHHjh0NUykREZmM8I5eiL2aia0nk80+KEWeTsGcNX9B6NnfL9AVktT4H+0RFuiK1Qev4SCvKOmo8UNpOnTogJMnT2LHjh3Ytm0bjh8/jszMTAgh4Orqik6dOmHUqFEYMWJEfdRLREQmYER7T/zf72dwOikX1zIKzHbRxXK1wBtbzuoNSQDw1rZzGB7i1eifg9azlTPkMgkJGQVIzC6EjxNHg4BaBCWN4cOHY/jw4YashYiIzISLvQJ9Alyw/1IGtp1KwdyHAo1dUrUIIZCeX4zrmYVIyCjAgcsZVQ633S1FVYTDCVnofedRH42Vg7UlOvk2w7Hr2Th4OROTujMoAXUISkRE1LSNCvXC/ksZ2HrStIKSEAIZ+SW4llmAaxkFd/5biGuZBbieWYj84rIaHzMtr2k8sqVvoCuOXc9GzOUMTOrua+xyTAKDEhER1crw9p54bdNpnEvJxZX0fAS42TfYuYUQyCwowbWMAiRkVASghDvB6EFhSJKA5s1s0NLVDtaWckSdffBiyu4O5vnQ25oKC3TFZ7su4cDlDKjVArJGPtxYHQxKRERUK052Vugb6Iroi+n4cu8VhLV2hbuDNXq0dDbIfB5NGLqeWYCEjMK/rw5lFuB6RiHyHhCGvJUVYcjf1Rb+LnYVH6528HW2gcJCDqBijlLY+7uRqiqqcp6SBMBTWdGnpqCTbzPYWsmRWVCCC7fy0M7L/J9lV1cMSkREVGt+LhXzWP53LBH/O5YIAPBSWmPJ6GCMCHnwLeZCCGQVlOgMj2muEF3LKKhWGNIEoZaudvBzsUNLV1v4Ottqw9D9yGUSlowOxpw1f0ECdMKSJuotGR3c6Cdya1hZyNCjpTP2XkjHgcsZDEpgUCIiolqKPJ2CH2KvV9qeqirCnDV/YeXULhgR4gUhBLILS5GQoRkaK0BC5t9XiPKKHhyG/Fxs4e9qh5Z3rgr5u1SEIWvLB4ehBxkR4oWVU7tUWkfJswaBrzEJC3TF3gvpiLmcgaf7tTJ2OUbHoERERDWmua2+KpqrMvM3xKP1nisPDEMA4K20hv9dV4Q0w2QtDBSGHmREiBeGBnvicEIW0vKKDDqEaG40jzM5dDULJWVqWFlU+yEejRKDEhER1djhhKwH3lZfVKrGqSSV9nMvpbU2APlrrhA1YBh6ELlMavRLAFRHGw8HuNpbISO/BMdvZKNnq6b9NWFQIiKiGqvu7fL/CPPH5G4t4OdiGmGIHkwmk9AnwBWbTyTjwOWMJh+Umvb1NCIiqpXq3i4/tJ0n2ng6MCSZmbA7w28xlzOMXInxMSgREVGN9WjpDC+lNfTN4JFQMdTWVG6rb2z6tq4ISicSVcgrKjVyNcbFoERERDWmua0eQKWw1BRvq29sNAtylqsFDl3NMnY5RsWgREREtaK5rd5TqTsM56m01i4NQOarb2DF3KSmPvzGydxERFRrvK2+8QoLdMWauBs4wKBERERUe7ytvnHq3coVkgRcSsvHrdwieDg2jefd3YtDb0RERFSJ0tYSoc2VANCkryoxKBEREVGV+nKZAAYlIiIiqppmPaUDlzMghHhA68aJQYmIiIiq1NXPCQoLGW7lFuNKer6xyzEKBiUiIiKqkrWlHN39KxYNjbnUNIffGJSIiIhIr7/nKWUauRLjYFAiIiIivTTzlA5dzURZudrI1TQ8BiUiIiLSK9jbEc1sLZFXXIaTSSpjl9PgGJSIiIhIL7lMQp87C4oeaILzlBiUiIiI6L6a8npKDEpERER0X5p5Sn/dyEZhSZmRq2lYJhmU9u3bh9GjR8Pb2xuSJGHTpk06+6dPnw5JknQ+evXqpdOmuLgY8+bNg6urK+zs7DBmzBgkJibqtMnOzkZERASUSiWUSiUiIiKQk5NTz70jIiIyLy2cbdG8mQ1KywUOJ2QZu5wGZZJBqaCgAB07dsTnn3+ut82IESOQkpKi/fjjjz909s+fPx8bN27E+vXrERMTg/z8fISHh6O8vFzbZsqUKYiPj0dkZCQiIyMRHx+PiIiIeusXERGROZIkSWeV7qbEwtgFVGXkyJEYOXLkfdsoFAp4enpWuU+lUuHbb7/Fjz/+iCFDhgAA1qxZA19fX/z5558YPnw4zp07h8jISMTFxaFnz54AgG+++Qa9e/fGhQsX0KZNG8N2ioiIyIz1be2KDUdvNrn1lEzyilJ17N27F+7u7ggKCsLMmTORlpam3Xfs2DGUlpZi2LBh2m3e3t4ICQnBwYMHAQCxsbFQKpXakAQAvXr1glKp1LapSnFxMXJzc3U+iIiIGjvNnW/nUnKRkV9s5GoajlkGpZEjR2Lt2rXYvXs3PvroIxw5cgSDBg1CcXHFNy41NRVWVlZwcnLSeZ2HhwdSU1O1bdzd3Ssd293dXdumKsuWLdPOaVIqlfD19TVgz4iIiEyTq70C7bwcAQAHrzSdq0pmGZQmT56MUaNGISQkBKNHj8b27dtx8eJFbNu27b6vE0JAkiTt53f/W1+be7388stQqVTaj5s3b9a+I0RERGYkLLDpradklkHpXl5eXvDz88OlS5cAAJ6enigpKUF2drZOu7S0NHh4eGjb3Lp1q9Kx0tPTtW2qolAo4OjoqPNBRETUFNy9npIQwsjVNIxGEZQyMzNx8+ZNeHl5AQC6du0KS0tLREVFadukpKTg9OnT6NOnDwCgd+/eUKlUOHz4sLbNoUOHoFKptG2IiIjobz1aOsNSLiEp5zZuZBUau5wGYZJ3veXn5+Py5cvazxMSEhAfHw9nZ2c4Oztj6dKleOSRR+Dl5YVr167hlVdegaurK8aPHw8AUCqVmDFjBhYuXAgXFxc4OzvjpZdeQmhoqPYuuHbt2mHEiBGYOXMmvvrqKwDArFmzEB4ezjveiIiIqmBrZYEuLZxwKCELMZcz4OdiZ+yS6p1JXlE6evQoOnfujM6dOwMAFixYgM6dO+P//u//IJfLcerUKYwdOxZBQUGYNm0agoKCEBsbCwcHB+0xli9fjnHjxmHSpEno27cvbG1tsWXLFsjlcm2btWvXIjQ0FMOGDcOwYcPQoUMH/Pjjjw3eXyIiInPR1NZTkkRTGWSsJ7m5uVAqlVCpVJyvREREjd5fN7Ix4YuDaGZriWOvDYVcpv8GKFNW3d/fJnlFiYiIiExTh+ZKOCgskFNYirPJjX8tQQYlIiIiqjYLuQw9W1UsExDTBIbfGJSIiIioRrTrKTEoEREREekKa10xofvwtSwUlZY/oLV5Y1AiIiKiGglws4eHowIlZWocu5794BeYMQYlIiIiqhFJknRW6W7MGJSIiIioxprKekoMSkRERFRjmitKp5JUyCksMXI19YdBiYiIiGrMw9Eard3tIQQQdzXT2OXUGwYlIiIiqpWmME+JQYmIiIhqpa92nhKvKBERERHp6NnKGXKZhISMAiRmFxq7nHrBoERERES14mhtiY4+SgDAwUZ6VYlBiYiIiGotrJHPU2JQIiIiolrre9d6Smq1MHI1hsegRERERLXWuYUTbCzlyCwowYVbecYux+AYlIiIiKjWrCxk6NnKGUDjXKWbQYmIiIjqpDHPU2JQIiIiojrRzFM6dDULJWVqI1djWAxKREREVCdtPBzgam+F26XlOH4j29jlGBSDEhEREdWJTCahT8Cdu9+uNK71lBiUiIiIqM76BroAaHwTuhmUiIiIqM4085Tib+Ygr6jUyNUYDoMSERER1ZmPky38XWxRrhY4dDXL2OUYDIMSERERGUTfRrhMAIMSERERGUTYXY8zaSwYlIiIiMggege4QJKAS2n5uJVbZOxyDIJBiYiIiAyima0VQpsrATSeq0oMSkRERGQwjW2eEoMSERERGczd85SEEEaupu4YlIiIiMhguvo5QWEhw63cYlxJzzd2OXXGoEREREQGY20pR3d/ZwDAgcvm/zgTBiUiIiIyqD53HmfSGOYpMSgRERGRQWnmKcVdyURZudrI1dQNgxIREREZVHtvJZQ2lsgrLsPJJJWxy6kTBiUiIiIyKLlMQp+AiuG3A5fMe/iNQYmIiIgMrrGsp8SgRERERAanmaf0141sFJaUGbma2mNQIiIiIoPzc7FF82Y2KC0XOJyQZexyao1BiYiIiAxOkiSdVbrNFYMSERER1Yu+rTXzlMx34UkGJSIiIqoXmjvfzqXkIiO/2MjV1A6DEhEREdULV3sF2nk5AgAOXjHPq0oMSkRERFRv+t65qnTQTOcpMSgRERFRvdHMU9p/KQNCCCNXU3MMSkRERFRvevg7w1IuISnnNm5kFRq7nBpjUCIiIqJ6Y6ewQOcWTgDMc5VuBiUiIiKqV+a8nhKDEhEREdUrzXPfDl7JRLnavOYpMSgRERFRveroo4S9wgI5haU4m5xr7HJqhEGJiIiI6pWFXIZerSqWCTC3eUoMSkRERFTvwgIrgpK5zVNiUCIiIqJ6F3ZnPaXD17JQVFpu5Gqqj0GJiIiI6l2Amz08HBUoKVPj2PVsY5dTbQxKREREVO8kSULfgIqrSuY0T8kkg9K+ffswevRoeHt7Q5IkbNq0SWe/EAJLly6Ft7c3bGxsMHDgQJw5c0anTXFxMebNmwdXV1fY2dlhzJgxSExM1GmTnZ2NiIgIKJVKKJVKREREICcnp557R0RE1DRplwlgUKqbgoICdOzYEZ9//nmV+z/44AN8/PHH+Pzzz3HkyBF4enpi6NChyMvL07aZP38+Nm7ciPXr1yMmJgb5+fkIDw9Hefnf46JTpkxBfHw8IiMjERkZifj4eERERNR7/4iIiJoiTVA6maSCqrDUyNVUkzBxAMTGjRu1n6vVauHp6Snee+897baioiKhVCrFl19+KYQQIicnR1haWor169dr2yQlJQmZTCYiIyOFEEKcPXtWABBxcXHaNrGxsQKAOH/+fLXrU6lUAoBQqVS17SIREVGTMfijvcJv8Vax/VSyUeuo7u9vk7yidD8JCQlITU3FsGHDtNsUCgUGDBiAgwcPAgCOHTuG0tJSnTbe3t4ICQnRtomNjYVSqUTPnj21bXr16gWlUqltU5Xi4mLk5ubqfBAREVH1aB5nYi7zlMwuKKWmpgIAPDw8dLZ7eHho96WmpsLKygpOTk73bePu7l7p+O7u7to2VVm2bJl2TpNSqYSvr2+d+kNERNSU9NU+9y3TyJVUj9kFJQ1JknQ+F0JU2nave9tU1f5Bx3n55ZehUqm0Hzdv3qxh5URERE1Xz1bOkMskJGQUIDG70NjlPJDZBSVPT08AqHTVJy0tTXuVydPTEyUlJcjOzr5vm1u3blU6fnp6eqWrVXdTKBRwdHTU+SAiIqLqcbS2REcfJQDgoBlcVTK7oNSyZUt4enoiKipKu62kpATR0dHo06cPAKBr166wtLTUaZOSkoLTp09r2/Tu3RsqlQqHDx/Wtjl06BBUKpW2DRERERmeOc1TsjB2AVXJz8/H5cuXtZ8nJCQgPj4ezs7OaNGiBebPn493330XrVu3RuvWrfHuu+/C1tYWU6ZMAQAolUrMmDEDCxcuhIuLC5ydnfHSSy8hNDQUQ4YMAQC0a9cOI0aMwMyZM/HVV18BAGbNmoXw8HC0adOm4TtNRETURPQNdMVnuy/jwOUMqNUCMtn9p84Yk0kGpaNHj+Khhx7Sfr5gwQIAwLRp07B69WosWrQIt2/fxrPPPovs7Gz07NkTO3fuhIODg/Y1y5cvh4WFBSZNmoTbt29j8ODBWL16NeRyubbN2rVr8fzzz2vvjhszZozetZuIiIjIMDq3cIKNpRyZBSW4cCsP7bxMdxqLJIQQxi7CnOXm5kKpVEKlUnG+EhERUTVN++4woi+m47VR7fB0v1YNfv7q/v42uzlKREREZP7CtMsEmPY8JQYlIiIianCa9ZQOJWShpExt5Gr0Y1AiIiKiBtfW0wEudlYoLClH/M0cY5ejF4MSERERNTiZTEIfM1gmgEGJiIiIjCIs0AWAac9TYlAiIiIio9DMU4q/mYO8olIjV1M1BiUiIiIyCh8nW/i72KJcLXDoapaxy6kSgxIREREZTV8Tn6fEoERERERGY+rrKTEoERERkdH0DnCBJAGX0vJxK7fI2OVUwqBERERERtPM1goh3koApnlViUGJiIiIjMqU5ykxKBEREZFRaeYpHbycCSGEkavRxaBERERERtXN3wlWFjKk5hbhSnqBscvRwaBERERERmVtKUd3fycApjdPiUGJiIiIjM5U5ykxKBEREZHRaeYpxV3JRFm52sjV/I1BiYiIiIyuvbcSShtL5BWX4WSSytjlaDEoERERkdHJZRL6BLgAAA5cMp3hNwYlIiIiMgmmOE+JQYmIiIhMgiYo/XUjG4UlZUaupgKDEhEREZkEfxdbNG9mg9JygcMJWcYuBwCDEhEREZkISZLQN/DOPCUTGX5jUCIiIiKT8fc8pUwjV1KBQYmIiIhMRp+AiqB0LiUXmfnFRq6GQYmIiIhMiJuDAm09HQAAB68Y/6oSgxIRERGZFM0q3aYwT4lBiYiIiExK39YVQWn/pQwIIYxaC4MSERERmZQe/s6wlEtIyrmN72ISEHslE+Vq4wQmC6OclYiIiEiP/ZfSId3591vbzgEAvJTWWDI6GCNCvBq0Fl5RIiIiIpMReToFc9b8hZJy3StIqaoizFnzFyJPpzRoPQxKREREZBLK1QJvbDmLqgbZNNve2HK2QYfhGJSIiIjIJBxOyEKKqkjvfgEgRVXUoI83YVAiIiIik5CWpz8k1aadITAoERERkUlwd7A2aDtDYFAiIiIik9CjpTO8lNbaO97uJaHi7rceLZ0brCYGJSIiIjIJcpmEJaODAaBSWNJ8vmR0MOQyfVHK8BiUiIiIyGSMCPHCyqld4KnUHV7zVFpj5dQuDb6OEhecJCIiIpMyIsQLQ4M9cTghC2l5RXB3qBhua8grSRoMSkRERGRy5DIJvQNcjF0Gh96IiIiI9GFQIiIiItKDQYmIiIhIDwYlIiIiIj0YlIiIiIj0YFAiIiIi0oNBiYiIiEgPBiUiIiIiPRiUiIiIiPTgytx1JIQAAOTm5hq5EiIiIqouze9tze9xfRiU6igvLw8A4Ovra+RKiIiIqKby8vKgVCr17pfEg6IU3ZdarUZycjIcHBwgSYZ7WF9ubi58fX1x8+ZNODo6Guy4Da2x9ANoPH1hP0wL+2Fa2A/TUp/9EEIgLy8P3t7ekMn0z0TiFaU6kslk8PHxqbfjOzo6mvWbXKOx9ANoPH1hP0wL+2Fa2A/TUl/9uN+VJA1O5iYiIiLSg0GJiIiISA8GJROlUCiwZMkSKBQKY5dSJ42lH0Dj6Qv7YVrYD9PCfpgWU+gHJ3MTERER6cErSkRERER6MCgRERER6cGgRERERKQHgxIRERGRHgxK9WjZsmXo3r07HBwc4O7ujnHjxuHChQs6bYQQWLp0Kby9vWFjY4OBAwfizJkzOm2+/vprDBw4EI6OjpAkCTk5OXrPWVxcjE6dOkGSJMTHx5tdP/z9/SFJks7Hv/71L7PrBwBs27YNPXv2hI2NDVxdXTFhwgSz6sfevXsrfS80H0eOHDGbfgDAxYsXMXbsWLi6usLR0RF9+/bFnj176tyHhu7HX3/9haFDh6JZs2ZwcXHBrFmzkJ+fbzL9yMrKwrx589CmTRvY2tqiRYsWeP7556FSqXSOk52djYiICCiVSiiVSkRERNz355qp9uOdd95Bnz59YGtri2bNmhmk/obux7Vr1zBjxgy0bNkSNjY2CAgIwJIlS1BSUmJW/QCAMWPGoEWLFrC2toaXlxciIiKQnJxc5z4wKNWj6OhozJ07F3FxcYiKikJZWRmGDRuGgoICbZsPPvgAH3/8MT7//HMcOXIEnp6eGDp0qPYZcgBQWFiIESNG4JVXXnngORctWgRvb2+z7sebb76JlJQU7cdrr71mdv349ddfERERgaeeegonTpzAgQMHMGXKFLPqR58+fXS+DykpKXj66afh7++Pbt26mU0/AGDUqFEoKyvD7t27cezYMXTq1Anh4eFITU01m34kJydjyJAhCAwMxKFDhxAZGYkzZ85g+vTpde6DofqRnJyM5ORk/Pvf/8apU6ewevVqREZGYsaMGTrnmjJlCuLj4xEZGYnIyEjEx8cjIiLC7PpRUlKCRx99FHPmzDFI7cbox/nz56FWq/HVV1/hzJkzWL58Ob788stq/b4xpX4AwEMPPYSff/4ZFy5cwK+//oorV65g4sSJde+EoAaTlpYmAIjo6GghhBBqtVp4enqK9957T9umqKhIKJVK8eWXX1Z6/Z49ewQAkZ2dXeXx//jjD9G2bVtx5swZAUAcP368PrpRr/3w8/MTy5cvr5e671Vf/SgtLRXNmzcX//3vf+u1fo36fl9plJSUCHd3d/Hmm28atH6N+upHenq6ACD27dun3ZabmysAiD///NNs+vHVV18Jd3d3UV5ert12/PhxAUBcunTJ5Pqh8fPPPwsrKytRWloqhBDi7NmzAoCIi4vTtomNjRUAxPnz582mH3dbtWqVUCqVBq/9bg3RD40PPvhAtGzZ0nDF36Uh+/H7778LSZJESUlJnWrmFaUGpLlM6OzsDABISEhAamoqhg0bpm2jUCgwYMAAHDx4sEbHvnXrFmbOnIkff/wRtra2hiu6CvXZDwB4//334eLigk6dOuGdd94x2CXge9VXP/766y8kJSVBJpOhc+fO8PLywsiRIysNtRhKfX8/NDZv3oyMjAyDXcG4V331w8XFBe3atcMPP/yAgoIClJWV4auvvoKHhwe6du1q2E6g/vpRXFwMKysrnYd32tjYAABiYmIMUboOQ/VDpVLB0dERFhYVjxaNjY2FUqlEz549tW169eoFpVJZp/dnQ/ejoTVkP1QqlfY8htZQ/cjKysLatWvRp08fWFpa1qlmBqUGIoTAggULEBYWhpCQEADQXvb38PDQaevh4VGjIQEhBKZPn47Zs2cbZEjkQeeqr34AwAsvvID169djz549eO655/DJJ5/g2WefNUzxd6nPfly9ehUAsHTpUrz22mvYunUrnJycMGDAAGRlZRmoBxXq+/txt2+//RbDhw+Hr69v7QvWoz77IUkSoqKicPz4cTg4OMDa2hrLly9HZGSkweeV1Gc/Bg0ahNTUVHz44YcoKSlBdna2dngkJSXFQD2oYKh+ZGZm4q233sIzzzyj3Zaamgp3d/dKbd3d3Q0yFHq3+uxHQ2rIfly5cgUrVqzA7NmzDVT93xqiH4sXL4adnR1cXFxw48YN/P7773Wum0GpgTz33HM4efIk1q1bV2mfJEk6nwshKm27nxUrViA3Nxcvv/xynet8kPrsBwC8+OKLGDBgADp06ICnn34aX375Jb799ltkZmbWqe571Wc/1Go1AODVV1/FI488gq5du2LVqlWQJAn/+9//6lb4Per7+6GRmJiIHTt2VJoTYCj12Q8hBJ599lm4u7tj//79OHz4MMaOHYvw8HCDB4z67Ef79u3x/fff46OPPoKtrS08PT3RqlUreHh4QC6X17n2uxmiH7m5uRg1ahSCg4OxZMmS+x7jfsepi/ruR0NpqH4kJydjxIgRePTRR/H0008bpvi7NEQ//vnPf+L48ePYuXMn5HI5nnzySYg6PoCEQakBzJs3D5s3b8aePXvg4+Oj3e7p6QkAlVJzWlpapXR9P7t370ZcXBwUCgUsLCwQGBgIAOjWrRumTZtmgB5UqO9+VKVXr14AgMuXL9fpOHer7354eXkBAIKDg7XbFAoFWrVqhRs3btSldB0N+f1YtWoVXFxcMGbMmNoXrEdD/P+xdetWrF+/Hn379kWXLl3wxRdfwMbGBt9//71hOoGG+X5MmTIFqampSEpKQmZmJpYuXYr09HS0bNmy7h24wxD9yMvLw4gRI2Bvb4+NGzfqDH14enri1q1blc6bnp5e558XDdmPhtJQ/UhOTsZDDz2E3r174+uvvzbbfri6uiIoKAhDhw7F+vXr8ccffyAuLq5OtTMo1SMhBJ577jn89ttv2L17d6UfZi1btoSnpyeioqK020pKShAdHY0+ffpU+zyfffYZTpw4gfj4eMTHx+OPP/4AAGzYsAHvvPOO2fSjKsePHwfwd/ioi4bqR9euXaFQKHRugS0tLcW1a9fg5+dnNv24+3yrVq3Ck08+adBfFA3Vj8LCQgDQmduj+Vxz9a8ujPH/h4eHB+zt7bFhwwZYW1tj6NChdeoDYLh+5ObmYtiwYbCyssLmzZthbW2tc5zevXtDpVLh8OHD2m2HDh2CSqWq88+LhuxHfWvIfiQlJWHgwIHo0qULVq1aVen/FXPpR1XnBirm99W1E1RP5syZI5RKpdi7d69ISUnRfhQWFmrbvPfee0KpVIrffvtNnDp1Sjz++OPCy8tL5ObmatukpKSI48ePi2+++UZ7987x48dFZmZmledNSEgw6F1vDdWPgwcPio8//lgcP35cXL16VWzYsEF4e3uLMWPGmFU/hBDihRdeEM2bNxc7duwQ58+fFzNmzBDu7u4iKyvLrPohhBB//vmnACDOnj1b59qN0Y/09HTh4uIiJkyYIOLj48WFCxfESy+9JCwtLUV8fLzZ9EMIIVasWCGOHTsmLly4ID7//HNhY2MjPv300zr3wVD9yM3NFT179hShoaHi8uXLOscpKyvTHmfEiBGiQ4cOIjY2VsTGxorQ0FARHh5udv24fv26OH78uHjjjTeEvb29OH78uDh+/LjIy8szm34kJSWJwMBAMWjQIJGYmKjTxhAaqh+HDh0SK1asEMePHxfXrl0Tu3fvFmFhYSIgIEAUFRXVqQ8MSvUIQJUfq1at0rZRq9ViyZIlwtPTUygUCtG/f39x6tQpneMsWbLkgce5m6GDUkP149ixY6Jnz55CqVQKa2tr0aZNG7FkyRJRUFBgVv0QouJW+oULFwp3d3fh4OAghgwZIk6fPm12/RBCiMcff1z06dPHILUbqx9HjhwRw4YNE87OzsLBwUH06tVL/PHHH2bXj4iICOHs7CysrKxEhw4dxA8//GCQPhiqH5qlDar6SEhI0LbLzMwUTzzxhHBwcBAODg7iiSeeeODyFKbYj2nTplXZZs+ePWbTj1WrVultYwgN1Y+TJ0+Khx56SDg7OwuFQiH8/f3F7NmzRWJiYp37IN3pCBERERHdg3OUiIiIiPRgUCIiIiLSg0GJiIiISA8GJSIiIiI9GJSIiIiI9GBQIiIiItKDQYmIiIhIDwYlIqoTSZIM/jBTQ7l27RokScLAgQMb7JyJiYlQKpWwsrLCyZMn9bZLSUlBs2bNYGlpqX1UDxGZHgYlIjIZkiTB39/f2GXUiY+PD5YtW4bS0lLMmDED5eXlVbabO3cuVCoVFixYgM6dOzdwlURUXQxKREQGNmfOHPTt2xdHjx7FJ598Umn/pk2bsHHjRgQEBGDp0qUNXh8RVR+DEhGRgUmShP/+979QKBT4v//7P1y9elW7T6VSYe7cuQCAr7/+GjY2NsYqk4iqgUGJiAzu7rlBt2/fxr/+9S/4+flBoVAgMDAQ77//Pu5+zOTq1au185yuX7+unfd07/yi+Ph4LFq0CF27doWbmxsUCgVatWqFZ599FsnJyTWqce/evXB0dISjoyOio6O12/Pz8/Hmm28iNDQUtra2cHR0xIABA7Bp06YaHb9t27Z49dVXUVhYiFmzZmm3L168GMnJyZgxYwYGDRqk3R4TE4Px48fD3d0dCoUC/v7+eP7555Genl7p2CkpKfjggw8wYMAANG/eHFZWVvD09MSECRNw5MiRKuvx9/eHJEkQQmDFihXo2LEjbG1t0alTpxr1i6jJqfNjdYmoSUMVTxpPSEgQAETv3r1FWFiYcHJyEsOHDxfDhw8X1tbWAoB49dVXte3379+vfRK7nZ2dmDZtmvZj2bJl2naTJ08WcrlcdOzYUYwdO1aMGzdO+Pv7CwDCy8tLJCUlVVnHgAEDdLZv2rRJWFtbCzc3N3H06FHt9tTUVBEcHCwAiObNm4sxY8aIIUOGCDs7OwFAp5bqKCkpESEhIQKA+O6778S+ffuEJEnC09NTZGdna9t9+umnQpIkIZfLRe/evcXEiRNF27ZtBQDRsmVLkZycrHPclStXCgAiMDBQDB8+XDz66KOic+fOAoCwtLQUO3bsqFSLn5+fACBmzZolLC0txZAhQ8TkyZPF+PHja9QnoqaGQYmI6uR+QQmA6Nevn0hPT9fuO3LkiLCwsBC2trYiLy+v0rH8/Pz0nmvXrl2VQkN5ebl44403BADx1FNPVVnH3UFp1apVQi6XC19fX3H+/Hmd9iNHjhQAxKJFi0RJSYl2+5UrV0RAQICQy+XixIkT9/163CsuLk7IZDLh5OQkWrduLQCIX375Rbs/NjZWyGQy4efnp3NstVot3nzzTQFATJw4UeeYJ0+erLKOyMhIYWVlJQICAoRardbZpwlKrq6u4vTp0zXqA1FTxqBERHVyv6Akk8nEhQsXKr1m9OjRAoDYs2dPpWPdLyjdT/PmzYWzs3OVdWiC0kcffSQkSRJt2rQRN27c0Gl7/PhxAUD06dOnUsgQouIqFAAxb968Gtf2wgsvaL9O48aN09k3duxYAaDKq0BqtVp07txZyGQynbB5P0888YQAIE6ePKmzXROUPvzwwxrXT9SUWdTnsB4RNW3+/v4ICgqqtF2zLSUlpcbHzMzMxObNm3H69Gnk5ORob78vLS1FVlYWsrKy4OzsXOl1r776Kt5991106dIFkZGRcHNz09kfFRUFABg7dmyV60KFhYUBgN45QPfzzjvv4NNPPwUAvP3229rtarUau3btgoODAwYPHlzpdZIkoW/fvjh+/DiOHTuG4cOHa/cVFxcjMjIShw8fRnp6OkpKSgAAp06dAgBcunQJoaGhlY45ZsyYGtdP1JQxKBFRvfHx8alyu729PYCKX/Y1sW7dOsyaNQv5+fl62+Tl5VUKSgcOHEB0dDQ8PT2xZ88eODo6VnrdtWvXAFRMtl68eLHe42dkZNSoZgCws7Or8t+ZmZnavlhY3P/H8d3nPXXqFMaMGaOtuSp5eXlVbm/RokV1SiaiOxiUiKjeGHLF7uvXr2P69OkQQuCTTz7BqFGj0Lx5c+3t9X369EFsbKzO3XQawcHBAICTJ09iyZIlWL58eaU2mitT/fr1Q6tWrfTW4erqaoju6JzTwcEBEyZMuG9bPz8/AIAQApMmTcK1a9cwe/ZszJ49G61atYK9vT0kScIrr7yCZcuWVfl1AABra2uD1U/UFDAoEZFZ+OOPP1BSUoKFCxfihRdeqLT/7rWK7uXk5IRffvkFDz30ED755BPI5XL8+9//1mmjufo1ceJEPP/884YtXg9XV1coFApYWlpi9erV1XrN+fPncf78eXTr1g0rV66stP9+Xwciqjmuo0REJsPS0hJlZWVV7svOzgYA+Pr6Vtq3b98+3Lp1677HdnV1xa5du9C+fXt89NFH+Ne//qWzf8iQIQBQ4/WS6sLCwgIDBw5EVlYW9u3bV63XaL4OVQ1rZmdna+daEZFhMCgRkcnw9vbGrVu3kJOTU2mfZgL4mjVrUFBQoN2elJSE2bNnV+v47u7u2L17N9q1a4f3338fr732mnZfr169MHjwYOzZswcvvvhipXlQarUaO3fuRExMTC16pt8rr7wCmUyGadOmVXns5ORk/Oc//9F+HhgYCJlMht27d+PSpUva7UVFRZg9ezaysrIMWh9RU8egREQmY8yYMSgrK0OXLl0wdepUPP300/jwww+1+9q3b4+jR48iMDAQEydORHh4OIKCguDk5IQ+ffpU6xyasNSmTRu88847WLJkiXbf2rVr0aFDB3zyySfw8/PD4MGD8dhjj6Ffv37w9PTE8OHDcfToUYP2uX///vj0009x8+ZN9OvXDx07dtT2LTQ0FC1atMCrr76qU/+MGTOQm5uLjh07Ijw8HI8++ij8/f2xe/duTJ8+3aD1ETV1DEpEZDKWLVuG5557DmVlZdiwYQO+/fZbbNu2DQBgZWWF/fv3Y86cObC2tsbWrVtx7tw5zJs3D1FRUbC0tKz2eTR3vwUFBeHNN9/EW2+9BQDw8PBAXFwcPv74Y7Ru3RpHjhzBpk2bkJiYiM6dO+M///kPpk6davB+P/fcczh06BCeeOIJZGdnY/PmzYiNjYVMJsPs2bPx+++/67RfuXIlPvroI7Rs2RK7du3C/v37MWTIEBw9elQ76ZuIDEMS+m6NICIiImrieEWJiIiISA8GJSIiIiI9GJSIiIiI9GBQIiIiItKDQYmIiIhIDwYlIiIiIj0YlIiIiIj0YFAiIiIi0oNBiYiIiEgPBiUiIiIiPRiUiIiIiPRgUCIiIiLSg0GJiIiISI//BwOsgsmq3f4pAAAAAElFTkSuQmCC\n",
      "text/plain": [
       "<Figure size 640x480 with 1 Axes>"
      ]
     },
     "metadata": {},
     "output_type": "display_data"
    }
   ],
   "source": [
    "plot_trend_line(shelter_data)"
   ]
  },
  {
   "cell_type": "markdown",
   "id": "54868352-9d32-4805-88bd-07eb1313826a",
   "metadata": {
    "user_expressions": []
   },
   "source": [
    "#### EDA: Outcomes By Species"
   ]
  },
  {
   "cell_type": "code",
<<<<<<< HEAD
   "execution_count": 14,
=======
   "execution_count": 23,
>>>>>>> 88c0e82a42a6012bfd3c57505d6bfe8ee940a1f5
   "id": "fa8102d8-8763-4d80-9fe4-6bc03ad0dfa0",
   "metadata": {},
   "outputs": [
    {
     "data": {
      "text/html": [
       "<div>\n",
       "<style scoped>\n",
       "    .dataframe tbody tr th:only-of-type {\n",
       "        vertical-align: middle;\n",
       "    }\n",
       "\n",
       "    .dataframe tbody tr th {\n",
       "        vertical-align: top;\n",
       "    }\n",
       "\n",
       "    .dataframe thead th {\n",
       "        text-align: right;\n",
       "    }\n",
       "</style>\n",
       "<table border=\"1\" class=\"dataframe\">\n",
       "  <thead>\n",
       "    <tr style=\"text-align: right;\">\n",
       "      <th></th>\n",
       "      <th>Type</th>\n",
       "      <th>Outcome Type</th>\n",
       "    </tr>\n",
       "  </thead>\n",
       "  <tbody>\n",
       "    <tr>\n",
       "      <th>0</th>\n",
       "      <td>DOG</td>\n",
       "      <td>RETURN TO OWNER</td>\n",
       "    </tr>\n",
       "    <tr>\n",
       "      <th>1</th>\n",
       "      <td>OTHER</td>\n",
       "      <td>EUTHANIZE</td>\n",
       "    </tr>\n",
       "    <tr>\n",
       "      <th>2</th>\n",
       "      <td>DOG</td>\n",
       "      <td>RETURN TO OWNER</td>\n",
       "    </tr>\n",
       "    <tr>\n",
       "      <th>3</th>\n",
       "      <td>CAT</td>\n",
       "      <td>DISPOSAL</td>\n",
       "    </tr>\n",
       "    <tr>\n",
       "      <th>4</th>\n",
       "      <td>DOG</td>\n",
       "      <td>TRANSFER</td>\n",
       "    </tr>\n",
       "    <tr>\n",
       "      <th>...</th>\n",
       "      <td>...</td>\n",
       "      <td>...</td>\n",
       "    </tr>\n",
       "    <tr>\n",
       "      <th>25003</th>\n",
       "      <td>CAT</td>\n",
       "      <td>ADOPTION</td>\n",
       "    </tr>\n",
       "    <tr>\n",
       "      <th>25004</th>\n",
       "      <td>OTHER</td>\n",
       "      <td>TRANSFER</td>\n",
       "    </tr>\n",
       "    <tr>\n",
       "      <th>25005</th>\n",
       "      <td>DOG</td>\n",
       "      <td>EUTHANIZE</td>\n",
       "    </tr>\n",
       "    <tr>\n",
       "      <th>25006</th>\n",
       "      <td>DOG</td>\n",
       "      <td>TRANSFER</td>\n",
       "    </tr>\n",
       "    <tr>\n",
       "      <th>25007</th>\n",
       "      <td>OTHER</td>\n",
       "      <td>RETURN TO OWNER</td>\n",
       "    </tr>\n",
       "  </tbody>\n",
       "</table>\n",
       "<p>24973 rows × 2 columns</p>\n",
       "</div>"
      ],
      "text/plain": [
       "        Type     Outcome Type\n",
       "0        DOG  RETURN TO OWNER\n",
       "1      OTHER        EUTHANIZE\n",
       "2        DOG  RETURN TO OWNER\n",
       "3        CAT         DISPOSAL\n",
       "4        DOG         TRANSFER\n",
       "...      ...              ...\n",
       "25003    CAT         ADOPTION\n",
       "25004  OTHER         TRANSFER\n",
       "25005    DOG        EUTHANIZE\n",
       "25006    DOG         TRANSFER\n",
       "25007  OTHER  RETURN TO OWNER\n",
       "\n",
       "[24973 rows x 2 columns]"
      ]
     },
<<<<<<< HEAD
     "execution_count": 14,
=======
     "execution_count": 23,
>>>>>>> 88c0e82a42a6012bfd3c57505d6bfe8ee940a1f5
     "metadata": {},
     "output_type": "execute_result"
    }
   ],
   "source": [
    "# Select species and outcome type\n",
    "outcome_data = shelter_data.loc[:,[\"Type\", \"Outcome Type\"]]\n",
    "outcome_data"
   ]
  },
  {
   "cell_type": "code",
<<<<<<< HEAD
   "execution_count": 15,
=======
   "execution_count": 24,
>>>>>>> 88c0e82a42a6012bfd3c57505d6bfe8ee940a1f5
   "id": "4c6151e9-5c0c-4df8-9ab5-d7d962ede0a0",
   "metadata": {},
   "outputs": [
    {
     "data": {
      "text/plain": [
       "Type            0\n",
       "Outcome Type    0\n",
       "dtype: int64"
      ]
     },
<<<<<<< HEAD
     "execution_count": 15,
=======
     "execution_count": 24,
>>>>>>> 88c0e82a42a6012bfd3c57505d6bfe8ee940a1f5
     "metadata": {},
     "output_type": "execute_result"
    }
   ],
   "source": [
    "# Drop NA\n",
    "outcome_data.dropna(subset=['Outcome Type'], inplace=True)\n",
    "outcome_data.isnull().sum()"
   ]
  },
  {
   "cell_type": "code",
<<<<<<< HEAD
   "execution_count": 16,
=======
   "execution_count": 25,
>>>>>>> 88c0e82a42a6012bfd3c57505d6bfe8ee940a1f5
   "id": "f90caa09-aeec-400b-aca8-c1fee9fcb298",
   "metadata": {},
   "outputs": [
    {
     "data": {
      "text/html": [
       "<div>\n",
       "<style scoped>\n",
       "    .dataframe tbody tr th:only-of-type {\n",
       "        vertical-align: middle;\n",
       "    }\n",
       "\n",
       "    .dataframe tbody tr th {\n",
       "        vertical-align: top;\n",
       "    }\n",
       "\n",
       "    .dataframe thead th {\n",
       "        text-align: right;\n",
       "    }\n",
       "</style>\n",
       "<table border=\"1\" class=\"dataframe\">\n",
       "  <thead>\n",
       "    <tr style=\"text-align: right;\">\n",
       "      <th></th>\n",
       "      <th></th>\n",
       "      <th>percent</th>\n",
       "    </tr>\n",
       "    <tr>\n",
       "      <th>Type</th>\n",
       "      <th>Outcome Type</th>\n",
       "      <th></th>\n",
       "    </tr>\n",
       "  </thead>\n",
       "  <tbody>\n",
       "    <tr>\n",
       "      <th rowspan=\"7\" valign=\"top\">OTHER</th>\n",
       "      <th>TRANSFER</th>\n",
       "      <td>42.793682</td>\n",
       "    </tr>\n",
       "    <tr>\n",
       "      <th>EUTHANIZE</th>\n",
       "      <td>21.816387</td>\n",
       "    </tr>\n",
       "    <tr>\n",
       "      <th>ADOPTION</th>\n",
       "      <td>21.273445</td>\n",
       "    </tr>\n",
       "    <tr>\n",
       "      <th>RETURN TO OWNER</th>\n",
       "      <td>9.871668</td>\n",
       "    </tr>\n",
       "    <tr>\n",
       "      <th>DIED</th>\n",
       "      <td>2.270484</td>\n",
       "    </tr>\n",
       "    <tr>\n",
       "      <th>DISPOSAL</th>\n",
       "      <td>1.727542</td>\n",
       "    </tr>\n",
       "    <tr>\n",
       "      <th>ESCAPED/STOLEN</th>\n",
       "      <td>0.246792</td>\n",
       "    </tr>\n",
       "    <tr>\n",
       "      <th rowspan=\"8\" valign=\"top\">DOG</th>\n",
       "      <th>RETURN TO OWNER</th>\n",
       "      <td>50.250609</td>\n",
       "    </tr>\n",
       "    <tr>\n",
       "      <th>ADOPTION</th>\n",
       "      <td>23.600172</td>\n",
       "    </tr>\n",
       "    <tr>\n",
       "      <th>TRANSFER</th>\n",
       "      <td>14.556781</td>\n",
       "    </tr>\n",
       "    <tr>\n",
       "      <th>EUTHANIZE</th>\n",
       "      <td>10.826292</td>\n",
       "    </tr>\n",
       "    <tr>\n",
       "      <th>RTOS</th>\n",
       "      <td>0.264929</td>\n",
       "    </tr>\n",
       "    <tr>\n",
       "      <th>DISPOSAL</th>\n",
       "      <td>0.250609</td>\n",
       "    </tr>\n",
       "    <tr>\n",
       "      <th>DIED</th>\n",
       "      <td>0.214807</td>\n",
       "    </tr>\n",
       "    <tr>\n",
       "      <th>ESCAPED/STOLEN</th>\n",
       "      <td>0.035801</td>\n",
       "    </tr>\n",
       "    <tr>\n",
       "      <th rowspan=\"8\" valign=\"top\">CAT</th>\n",
       "      <th>ADOPTION</th>\n",
       "      <td>40.948276</td>\n",
       "    </tr>\n",
       "    <tr>\n",
       "      <th>TRANSFER</th>\n",
       "      <td>26.576679</td>\n",
       "    </tr>\n",
       "    <tr>\n",
       "      <th>EUTHANIZE</th>\n",
       "      <td>16.254537</td>\n",
       "    </tr>\n",
       "    <tr>\n",
       "      <th>RETURN TO OWNER</th>\n",
       "      <td>13.214610</td>\n",
       "    </tr>\n",
       "    <tr>\n",
       "      <th>DISPOSAL</th>\n",
       "      <td>1.780853</td>\n",
       "    </tr>\n",
       "    <tr>\n",
       "      <th>DIED</th>\n",
       "      <td>1.020871</td>\n",
       "    </tr>\n",
       "    <tr>\n",
       "      <th>RTOS</th>\n",
       "      <td>0.124773</td>\n",
       "    </tr>\n",
       "    <tr>\n",
       "      <th>ESCAPED/STOLEN</th>\n",
       "      <td>0.079401</td>\n",
       "    </tr>\n",
       "  </tbody>\n",
       "</table>\n",
       "</div>"
      ],
      "text/plain": [
       "                         percent\n",
       "Type  Outcome Type              \n",
       "OTHER TRANSFER         42.793682\n",
       "      EUTHANIZE        21.816387\n",
       "      ADOPTION         21.273445\n",
       "      RETURN TO OWNER   9.871668\n",
       "      DIED              2.270484\n",
       "      DISPOSAL          1.727542\n",
       "      ESCAPED/STOLEN    0.246792\n",
       "DOG   RETURN TO OWNER  50.250609\n",
       "      ADOPTION         23.600172\n",
       "      TRANSFER         14.556781\n",
       "      EUTHANIZE        10.826292\n",
       "      RTOS              0.264929\n",
       "      DISPOSAL          0.250609\n",
       "      DIED              0.214807\n",
       "      ESCAPED/STOLEN    0.035801\n",
       "CAT   ADOPTION         40.948276\n",
       "      TRANSFER         26.576679\n",
       "      EUTHANIZE        16.254537\n",
       "      RETURN TO OWNER  13.214610\n",
       "      DISPOSAL          1.780853\n",
       "      DIED              1.020871\n",
       "      RTOS              0.124773\n",
       "      ESCAPED/STOLEN    0.079401"
      ]
     },
<<<<<<< HEAD
     "execution_count": 16,
=======
     "execution_count": 25,
>>>>>>> 88c0e82a42a6012bfd3c57505d6bfe8ee940a1f5
     "metadata": {},
     "output_type": "execute_result"
    }
   ],
   "source": [
    "# Calculate the proportion of species within each outcome type\n",
    "top_outcome = outcome_data.groupby([ \"Type\",\"Outcome Type\"],as_index=False).size()\n",
    "top_outcome = top_outcome.groupby([ \"Type\",\"Outcome Type\"], group_keys=False).agg({\"size\":\"sum\"}).groupby(\n",
    "    level=0,group_keys=False).apply(lambda x: 100*x/x.sum()).sort_values(\n",
    "    by=[\"Type\",\"size\", \"Outcome Type\"], ascending=[False, False, True])\n",
    "top_outcome =top_outcome.rename(columns={\"size\":\"percent\"})\n",
    "top_outcome"
   ]
  },
  {
   "cell_type": "code",
<<<<<<< HEAD
   "execution_count": 17,
=======
   "execution_count": 26,
>>>>>>> 88c0e82a42a6012bfd3c57505d6bfe8ee940a1f5
   "id": "b1e89a14-e0a9-4df1-88a0-50faa095a36e",
   "metadata": {},
   "outputs": [
    {
     "data": {
      "image/png": "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\n",
      "text/plain": [
       "<Figure size 640x480 with 1 Axes>"
      ]
     },
     "metadata": {},
     "output_type": "display_data"
    }
   ],
   "source": [
    "# Create bar plot to visualize most common outcome type within each species\n",
    "ax = top_outcome.pivot_table(index=\"Type\", columns=\"Outcome Type\").plot(kind='bar')\n",
    "ax.legend(loc='center left', bbox_to_anchor=(1, 0.5))\n",
    "ax.set_ylabel(\"% of Outcome Type\")\n",
    "ax.set_title(\"Proportion of Outcome Within Each Species\");"
   ]
  },
  {
   "cell_type": "markdown",
   "id": "65b7946d-62d2-472b-9d15-4900a5be2ef1",
   "metadata": {
    "user_expressions": []
   },
   "source": [
    "Adoption was the most common outcome for cats at 41%. Half of the dogs in the shelter are being returned to owner, whereas most of the other species (43%) are being transferred. "
   ]
  },
  {
   "cell_type": "markdown",
   "id": "e97f255f-364b-4a2b-aeda-aa704c475fc2",
   "metadata": {
    "user_expressions": []
   },
   "source": [
    "#### Performance of Shelter based on Adoption rate, Transfer rate, Return-to-owner rate, and Euthanasia Rate"
   ]
  },
  {
   "cell_type": "code",
<<<<<<< HEAD
   "execution_count": 18,
=======
   "execution_count": 27,
>>>>>>> 88c0e82a42a6012bfd3c57505d6bfe8ee940a1f5
   "id": "9627eb41-9e4b-4973-9605-3d097fc7cfdc",
   "metadata": {},
   "outputs": [
    {
     "data": {
      "text/html": [
       "<div>\n",
       "<style scoped>\n",
       "    .dataframe tbody tr th:only-of-type {\n",
       "        vertical-align: middle;\n",
       "    }\n",
       "\n",
       "    .dataframe tbody tr th {\n",
       "        vertical-align: top;\n",
       "    }\n",
       "\n",
       "    .dataframe thead tr th {\n",
       "        text-align: left;\n",
       "    }\n",
       "\n",
       "    .dataframe thead tr:last-of-type th {\n",
       "        text-align: right;\n",
       "    }\n",
       "</style>\n",
       "<table border=\"1\" class=\"dataframe\">\n",
       "  <thead>\n",
       "    <tr>\n",
       "      <th></th>\n",
       "      <th colspan=\"8\" halign=\"left\">percent</th>\n",
       "    </tr>\n",
       "    <tr>\n",
       "      <th>Outcome Type</th>\n",
       "      <th>ADOPTION</th>\n",
       "      <th>DIED</th>\n",
       "      <th>DISPOSAL</th>\n",
       "      <th>ESCAPED/STOLEN</th>\n",
       "      <th>EUTHANIZE</th>\n",
       "      <th>RETURN TO OWNER</th>\n",
       "      <th>RTOS</th>\n",
       "      <th>TRANSFER</th>\n",
       "    </tr>\n",
       "    <tr>\n",
       "      <th>Type</th>\n",
       "      <th></th>\n",
       "      <th></th>\n",
       "      <th></th>\n",
       "      <th></th>\n",
       "      <th></th>\n",
       "      <th></th>\n",
       "      <th></th>\n",
       "      <th></th>\n",
       "    </tr>\n",
       "  </thead>\n",
       "  <tbody>\n",
       "    <tr>\n",
       "      <th>CAT</th>\n",
       "      <td>40.948276</td>\n",
       "      <td>1.020871</td>\n",
       "      <td>1.780853</td>\n",
       "      <td>0.079401</td>\n",
       "      <td>16.254537</td>\n",
       "      <td>13.214610</td>\n",
       "      <td>0.124773</td>\n",
       "      <td>26.576679</td>\n",
       "    </tr>\n",
       "    <tr>\n",
       "      <th>DOG</th>\n",
       "      <td>23.600172</td>\n",
       "      <td>0.214807</td>\n",
       "      <td>0.250609</td>\n",
       "      <td>0.035801</td>\n",
       "      <td>10.826292</td>\n",
       "      <td>50.250609</td>\n",
       "      <td>0.264929</td>\n",
       "      <td>14.556781</td>\n",
       "    </tr>\n",
       "    <tr>\n",
       "      <th>OTHER</th>\n",
       "      <td>21.273445</td>\n",
       "      <td>2.270484</td>\n",
       "      <td>1.727542</td>\n",
       "      <td>0.246792</td>\n",
       "      <td>21.816387</td>\n",
       "      <td>9.871668</td>\n",
       "      <td>NaN</td>\n",
       "      <td>42.793682</td>\n",
       "    </tr>\n",
       "  </tbody>\n",
       "</table>\n",
       "</div>"
      ],
      "text/plain": [
       "                percent                                                \\\n",
       "Outcome Type   ADOPTION      DIED  DISPOSAL ESCAPED/STOLEN  EUTHANIZE   \n",
       "Type                                                                    \n",
       "CAT           40.948276  1.020871  1.780853       0.079401  16.254537   \n",
       "DOG           23.600172  0.214807  0.250609       0.035801  10.826292   \n",
       "OTHER         21.273445  2.270484  1.727542       0.246792  21.816387   \n",
       "\n",
       "                                                   \n",
       "Outcome Type RETURN TO OWNER      RTOS   TRANSFER  \n",
       "Type                                               \n",
       "CAT                13.214610  0.124773  26.576679  \n",
       "DOG                50.250609  0.264929  14.556781  \n",
       "OTHER               9.871668       NaN  42.793682  "
      ]
     },
<<<<<<< HEAD
     "execution_count": 18,
=======
     "execution_count": 27,
>>>>>>> 88c0e82a42a6012bfd3c57505d6bfe8ee940a1f5
     "metadata": {},
     "output_type": "execute_result"
    }
   ],
   "source": [
    "# Display the overall rates for each species and outcome type throughout all years\n",
    "rates_df = top_outcome.pivot_table(index=\"Type\", columns=\"Outcome Type\")\n",
    "rates_df"
   ]
  },
  {
   "cell_type": "code",
<<<<<<< HEAD
   "execution_count": 19,
=======
   "execution_count": 28,
>>>>>>> 88c0e82a42a6012bfd3c57505d6bfe8ee940a1f5
   "id": "73d4ca85-2adc-4346-8191-82fbf35743c9",
   "metadata": {},
   "outputs": [
    {
     "data": {
      "text/html": [
       "<div>\n",
       "<style scoped>\n",
       "    .dataframe tbody tr th:only-of-type {\n",
       "        vertical-align: middle;\n",
       "    }\n",
       "\n",
       "    .dataframe tbody tr th {\n",
       "        vertical-align: top;\n",
       "    }\n",
       "\n",
       "    .dataframe thead th {\n",
       "        text-align: right;\n",
       "    }\n",
       "</style>\n",
       "<table border=\"1\" class=\"dataframe\">\n",
       "  <thead>\n",
       "    <tr style=\"text-align: right;\">\n",
       "      <th></th>\n",
       "      <th>Outcome Date</th>\n",
       "      <th>Outcome Type</th>\n",
       "      <th>year</th>\n",
       "    </tr>\n",
       "  </thead>\n",
       "  <tbody>\n",
       "    <tr>\n",
       "      <th>0</th>\n",
       "      <td>2022-12-26</td>\n",
       "      <td>RETURN TO OWNER</td>\n",
       "      <td>2022.0</td>\n",
       "    </tr>\n",
       "    <tr>\n",
       "      <th>1</th>\n",
       "      <td>2023-03-15</td>\n",
       "      <td>EUTHANIZE</td>\n",
       "      <td>2023.0</td>\n",
       "    </tr>\n",
       "    <tr>\n",
       "      <th>2</th>\n",
       "      <td>2023-03-15</td>\n",
       "      <td>RETURN TO OWNER</td>\n",
       "      <td>2023.0</td>\n",
       "    </tr>\n",
       "    <tr>\n",
       "      <th>3</th>\n",
       "      <td>2022-12-27</td>\n",
       "      <td>DISPOSAL</td>\n",
       "      <td>2022.0</td>\n",
       "    </tr>\n",
       "    <tr>\n",
       "      <th>4</th>\n",
       "      <td>2023-03-15</td>\n",
       "      <td>TRANSFER</td>\n",
       "      <td>2023.0</td>\n",
       "    </tr>\n",
       "    <tr>\n",
       "      <th>...</th>\n",
       "      <td>...</td>\n",
       "      <td>...</td>\n",
       "      <td>...</td>\n",
       "    </tr>\n",
       "    <tr>\n",
       "      <th>25003</th>\n",
       "      <td>2019-10-23</td>\n",
       "      <td>ADOPTION</td>\n",
       "      <td>2019.0</td>\n",
       "    </tr>\n",
       "    <tr>\n",
       "      <th>25004</th>\n",
       "      <td>2018-10-10</td>\n",
       "      <td>TRANSFER</td>\n",
       "      <td>2018.0</td>\n",
       "    </tr>\n",
       "    <tr>\n",
       "      <th>25005</th>\n",
       "      <td>2014-10-02</td>\n",
       "      <td>EUTHANIZE</td>\n",
       "      <td>2014.0</td>\n",
       "    </tr>\n",
       "    <tr>\n",
       "      <th>25006</th>\n",
       "      <td>2020-08-20</td>\n",
       "      <td>TRANSFER</td>\n",
       "      <td>2020.0</td>\n",
       "    </tr>\n",
       "    <tr>\n",
       "      <th>25007</th>\n",
       "      <td>2018-03-13</td>\n",
       "      <td>RETURN TO OWNER</td>\n",
       "      <td>2018.0</td>\n",
       "    </tr>\n",
       "  </tbody>\n",
       "</table>\n",
       "<p>24973 rows × 3 columns</p>\n",
       "</div>"
      ],
      "text/plain": [
       "      Outcome Date     Outcome Type    year\n",
       "0       2022-12-26  RETURN TO OWNER  2022.0\n",
       "1       2023-03-15        EUTHANIZE  2023.0\n",
       "2       2023-03-15  RETURN TO OWNER  2023.0\n",
       "3       2022-12-27         DISPOSAL  2022.0\n",
       "4       2023-03-15         TRANSFER  2023.0\n",
       "...            ...              ...     ...\n",
       "25003   2019-10-23         ADOPTION  2019.0\n",
       "25004   2018-10-10         TRANSFER  2018.0\n",
       "25005   2014-10-02        EUTHANIZE  2014.0\n",
       "25006   2020-08-20         TRANSFER  2020.0\n",
       "25007   2018-03-13  RETURN TO OWNER  2018.0\n",
       "\n",
       "[24973 rows x 3 columns]"
      ]
     },
<<<<<<< HEAD
     "execution_count": 19,
=======
     "execution_count": 28,
>>>>>>> 88c0e82a42a6012bfd3c57505d6bfe8ee940a1f5
     "metadata": {},
     "output_type": "execute_result"
    }
   ],
   "source": [
    "# Add year column to the dataframe using Outcome Date\n",
    "outcome_data2 = shelter_data.loc[:,[\"Outcome Date\",\"Outcome Type\"]]\n",
    "outcome_data2[\"Outcome Date\"] = pd.to_datetime(outcome_data2['Outcome Date'])\n",
    "outcome_data2[\"year\"] = pd.DatetimeIndex(outcome_data2['Outcome Date']).year\n",
    "outcome_data2"
   ]
  },
  {
   "cell_type": "code",
<<<<<<< HEAD
   "execution_count": 20,
=======
   "execution_count": 29,
>>>>>>> 88c0e82a42a6012bfd3c57505d6bfe8ee940a1f5
   "id": "9548f7e3-48b9-4bd9-a075-d4750d4a64ac",
   "metadata": {},
   "outputs": [
    {
     "data": {
      "text/html": [
       "<div>\n",
       "<style scoped>\n",
       "    .dataframe tbody tr th:only-of-type {\n",
       "        vertical-align: middle;\n",
       "    }\n",
       "\n",
       "    .dataframe tbody tr th {\n",
       "        vertical-align: top;\n",
       "    }\n",
       "\n",
       "    .dataframe thead th {\n",
       "        text-align: right;\n",
       "    }\n",
       "</style>\n",
       "<table border=\"1\" class=\"dataframe\">\n",
       "  <thead>\n",
       "    <tr style=\"text-align: right;\">\n",
       "      <th></th>\n",
       "      <th>year</th>\n",
       "      <th>Outcome Type</th>\n",
       "      <th>percent</th>\n",
       "    </tr>\n",
       "  </thead>\n",
       "  <tbody>\n",
       "    <tr>\n",
       "      <th>0</th>\n",
       "      <td>2014.0</td>\n",
       "      <td>ADOPTION</td>\n",
       "      <td>37.661113</td>\n",
       "    </tr>\n",
       "    <tr>\n",
       "      <th>1</th>\n",
       "      <td>2014.0</td>\n",
       "      <td>RETURN TO OWNER</td>\n",
       "      <td>33.511474</td>\n",
       "    </tr>\n",
       "    <tr>\n",
       "      <th>2</th>\n",
       "      <td>2014.0</td>\n",
       "      <td>TRANSFER</td>\n",
       "      <td>14.052185</td>\n",
       "    </tr>\n",
       "    <tr>\n",
       "      <th>3</th>\n",
       "      <td>2014.0</td>\n",
       "      <td>EUTHANIZE</td>\n",
       "      <td>13.297705</td>\n",
       "    </tr>\n",
       "    <tr>\n",
       "      <th>4</th>\n",
       "      <td>2014.0</td>\n",
       "      <td>DIED</td>\n",
       "      <td>0.911663</td>\n",
       "    </tr>\n",
       "    <tr>\n",
       "      <th>...</th>\n",
       "      <td>...</td>\n",
       "      <td>...</td>\n",
       "      <td>...</td>\n",
       "    </tr>\n",
       "    <tr>\n",
       "      <th>66</th>\n",
       "      <td>2023.0</td>\n",
       "      <td>EUTHANIZE</td>\n",
       "      <td>13.112392</td>\n",
       "    </tr>\n",
       "    <tr>\n",
       "      <th>67</th>\n",
       "      <td>2023.0</td>\n",
       "      <td>DIED</td>\n",
       "      <td>1.008646</td>\n",
       "    </tr>\n",
       "    <tr>\n",
       "      <th>68</th>\n",
       "      <td>2023.0</td>\n",
       "      <td>DISPOSAL</td>\n",
       "      <td>1.008646</td>\n",
       "    </tr>\n",
       "    <tr>\n",
       "      <th>69</th>\n",
       "      <td>2023.0</td>\n",
       "      <td>RTOS</td>\n",
       "      <td>0.576369</td>\n",
       "    </tr>\n",
       "    <tr>\n",
       "      <th>70</th>\n",
       "      <td>2023.0</td>\n",
       "      <td>ESCAPED/STOLEN</td>\n",
       "      <td>0.288184</td>\n",
       "    </tr>\n",
       "  </tbody>\n",
       "</table>\n",
       "<p>71 rows × 3 columns</p>\n",
       "</div>"
      ],
      "text/plain": [
       "      year     Outcome Type    percent\n",
       "0   2014.0         ADOPTION  37.661113\n",
       "1   2014.0  RETURN TO OWNER  33.511474\n",
       "2   2014.0         TRANSFER  14.052185\n",
       "3   2014.0        EUTHANIZE  13.297705\n",
       "4   2014.0             DIED   0.911663\n",
       "..     ...              ...        ...\n",
       "66  2023.0        EUTHANIZE  13.112392\n",
       "67  2023.0             DIED   1.008646\n",
       "68  2023.0         DISPOSAL   1.008646\n",
       "69  2023.0             RTOS   0.576369\n",
       "70  2023.0   ESCAPED/STOLEN   0.288184\n",
       "\n",
       "[71 rows x 3 columns]"
      ]
     },
<<<<<<< HEAD
     "execution_count": 20,
=======
     "execution_count": 29,
>>>>>>> 88c0e82a42a6012bfd3c57505d6bfe8ee940a1f5
     "metadata": {},
     "output_type": "execute_result"
    }
   ],
   "source": [
    "# Calculate the proportion of outcome type in each year\n",
    "yearly_rate = outcome_data2.groupby([ \"year\",\"Outcome Type\"],as_index=False).size()\n",
    "yearly_rate = yearly_rate.groupby([\"year\",\"Outcome Type\"], group_keys=False).agg({\"size\":\"sum\"}).groupby(\n",
    "    level=0,group_keys=False).apply(lambda x: 100*x/x.sum()).sort_values(\n",
    "    by=[\"year\",\"size\", \"Outcome Type\"], ascending=[True, False, True]).reset_index()\n",
    "yearly_rate =yearly_rate.rename(columns={\"size\":\"percent\"})\n",
    "yearly_rate"
   ]
  },
  {
   "cell_type": "code",
<<<<<<< HEAD
   "execution_count": 21,
=======
   "execution_count": 30,
   "id": "d72feff2-4847-434d-925a-d3468859cb28",
   "metadata": {},
   "outputs": [],
   "source": [
    "# Function to plot trend line for rates given Outcome Type\n",
    "def trend_proportion(Outcome):\n",
    "    outcome_type = yearly_rate[yearly_rate[\"Outcome Type\"]==Outcome]\n",
    "    ax = outcome_type.plot(x=\"year\",y=\"percent\")\n",
    "    ax.set_ylabel(\"% out of total intakes\")\n",
    "    ax.set_title(\"Proportion of \"+Outcome+\" by year\")\n",
    "    "
   ]
  },
  {
   "cell_type": "code",
   "execution_count": 31,
>>>>>>> 88c0e82a42a6012bfd3c57505d6bfe8ee940a1f5
   "id": "2d6880e5-4cc6-48df-ad75-9d7fef5b6679",
   "metadata": {},
   "outputs": [
    {
     "data": {
      "image/png": "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\n",
      "text/plain": [
       "<Figure size 640x480 with 1 Axes>"
      ]
     },
     "metadata": {},
     "output_type": "display_data"
    },
    {
     "data": {
      "image/png": "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\n",
      "text/plain": [
       "<Figure size 640x480 with 1 Axes>"
      ]
     },
     "metadata": {},
     "output_type": "display_data"
    },
    {
     "data": {
      "image/png": "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\n",
      "text/plain": [
       "<Figure size 640x480 with 1 Axes>"
      ]
     },
     "metadata": {},
     "output_type": "display_data"
    },
    {
     "data": {
      "image/png": "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\n",
      "text/plain": [
       "<Figure size 640x480 with 1 Axes>"
      ]
     },
     "metadata": {},
     "output_type": "display_data"
    }
   ],
   "source": [
    "# Visualize rates\n",
    "adoption = trend_proportion(\"ADOPTION\", yearly_rate)\n",
    "euthanize = trend_proportion(\"EUTHANIZE\", yearly_rate)\n",
    "transferred = trend_proportion(\"TRANSFER\", yearly_rate)\n",
    "rto = trend_proportion(\"RETURN TO OWNER\", yearly_rate)"
   ]
  },
  {
   "cell_type": "markdown",
   "id": "f80e2098-5afd-4fb3-aefe-311d50e9e81c",
   "metadata": {
    "user_expressions": []
   },
   "source": [
    "It appears that as the adoption rate declines throughout the years, the shelter chooses to transfer than animals rather than euthanizing. "
   ]
  },
  {
   "cell_type": "markdown",
   "id": "59ae21b9-1151-457f-ab25-0d7b2ad186d2",
   "metadata": {
    "tags": [],
    "user_expressions": []
   },
   "source": [
    "### Modeling"
   ]
  },
  {
   "cell_type": "markdown",
   "id": "def7f6d4-6559-43da-bdb1-e1b5e9199efd",
   "metadata": {
    "user_expressions": []
   },
   "source": [
    "#### Predict whether an Animal is adopted eventually"
   ]
  },
  {
   "cell_type": "code",
<<<<<<< HEAD
   "execution_count": 22,
=======
   "execution_count": 32,
>>>>>>> 88c0e82a42a6012bfd3c57505d6bfe8ee940a1f5
   "id": "c49a594f-1421-455b-bb49-78573a040b5e",
   "metadata": {},
   "outputs": [
    {
     "data": {
      "text/plain": [
       "((17481, 26), (7492, 26))"
      ]
     },
<<<<<<< HEAD
     "execution_count": 22,
=======
     "execution_count": 32,
>>>>>>> 88c0e82a42a6012bfd3c57505d6bfe8ee940a1f5
     "metadata": {},
     "output_type": "execute_result"
    }
   ],
   "source": [
    "# Create a new column named Adopted, and assign a value of 0 or 1 \n",
    "# to indicate whether each animal has been adopted or not.\n",
    "shelter_data['Adopted'] = (shelter_data['Outcome Type'] == 'ADOPTION').astype(int)\n",
    "\n",
    "#Split the data into test and train\n",
    "shelter_train, shelter_test = train_test_split(shelter_data, test_size=0.3, random_state=159)\n",
    "shelter_train.shape, shelter_test.shape"
   ]
  },
  {
   "cell_type": "code",
<<<<<<< HEAD
   "execution_count": 23,
=======
   "execution_count": 33,
>>>>>>> 88c0e82a42a6012bfd3c57505d6bfe8ee940a1f5
   "id": "f9103886-34cf-4c8f-909d-a08e54ddec6d",
   "metadata": {},
   "outputs": [
    {
     "name": "stdout",
     "output_type": "stream",
     "text": [
      "Warning: Maximum number of iterations has been exceeded.\n",
      "         Current function value: 0.357273\n",
      "         Iterations: 35\n",
      "                           Logit Regression Results                           \n",
      "==============================================================================\n",
      "Dep. Variable:                Adopted   No. Observations:                17481\n",
      "Model:                          Logit   Df Residuals:                    17457\n",
      "Method:                           MLE   Df Model:                           23\n",
<<<<<<< HEAD
      "Date:                Mon, 08 May 2023   Pseudo R-squ.:                  0.4094\n",
      "Time:                        07:23:45   Log-Likelihood:                -6245.5\n",
      "converged:                      False   LL-Null:                       -10575.\n",
=======
      "Date:                Sun, 07 May 2023   Pseudo R-squ.:                  0.4198\n",
      "Time:                        23:54:46   Log-Likelihood:                -6107.9\n",
      "converged:                      False   LL-Null:                       -10527.\n",
>>>>>>> 88c0e82a42a6012bfd3c57505d6bfe8ee940a1f5
      "Covariance Type:            nonrobust   LLR p-value:                     0.000\n",
      "============================================================================================================\n",
      "                                               coef    std err          z      P>|z|      [0.025      0.975]\n",
      "------------------------------------------------------------------------------------------------------------\n",
      "Intercept                                   -0.2155      0.201     -1.072      0.284      -0.610       0.179\n",
      "Type[T.DOG]                                 -0.2597      0.069     -3.740      0.000      -0.396      -0.124\n",
      "Type[T.OTHER]                                2.1649      0.132     16.347      0.000       1.905       2.424\n",
      "Sex[T.Male]                                 -0.3421      0.166     -2.064      0.039      -0.667      -0.017\n",
      "Sex[T.Neutered]                              3.4818      0.131     26.629      0.000       3.225       3.738\n",
      "Sex[T.Spayed]                                3.6436      0.132     27.655      0.000       3.385       3.902\n",
      "Sex[T.Unknown]                              -0.8231      0.192     -4.298      0.000      -1.198      -0.448\n",
      "Size[T.LARGE]                               -2.3318      0.111    -21.093      0.000      -2.549      -2.115\n",
      "Size[T.MED]                                 -1.9292      0.107    -17.972      0.000      -2.140      -1.719\n",
      "Size[T.PUPPY]                                0.0186      0.154      0.121      0.904      -0.284       0.321\n",
      "Size[T.SMALL]                               -1.5469      0.081    -19.133      0.000      -1.705      -1.388\n",
      "Size[T.TOY]                                 -1.3876      0.129    -10.746      0.000      -1.641      -1.134\n",
      "Size[T.X-LRG]                               -2.8595      0.287     -9.963      0.000      -3.422      -2.297\n",
      "Intake_Type[T.BORN HERE]                   -18.5356   8192.129     -0.002      0.998   -1.61e+04     1.6e+04\n",
      "Intake_Type[T.CONFISCATE]                   -2.4406      0.175    -13.907      0.000      -2.785      -2.097\n",
      "Intake_Type[T.OS APPT]                     -15.0138   3346.556     -0.004      0.996   -6574.143    6544.115\n",
      "Intake_Type[T.OWNER SURRENDER]              -0.8415      0.157     -5.360      0.000      -1.149      -0.534\n",
      "Intake_Type[T.QUARANTINE]                   -3.2438      0.300    -10.818      0.000      -3.832      -2.656\n",
      "Intake_Type[T.STRAY]                        -1.6970      0.148    -11.465      0.000      -1.987      -1.407\n",
      "Intake_Type[T.TRANSFER]                     -1.0886      0.205     -5.298      0.000      -1.491      -0.686\n",
      "Intake_Condition[T.TREATABLE/MANAGEABLE]    -0.5956      0.091     -6.543      0.000      -0.774      -0.417\n",
      "Intake_Condition[T.TREATABLE/REHAB]          0.3818      0.077      4.954      0.000       0.231       0.533\n",
      "Intake_Condition[T.UNKNOWN]                 -1.3646      0.063    -21.801      0.000      -1.487      -1.242\n",
      "Intake_Condition[T.UNTREATABLE]             -4.3279      0.360    -12.012      0.000      -5.034      -3.622\n",
      "============================================================================================================\n"
     ]
    },
    {
     "name": "stderr",
     "output_type": "stream",
     "text": [
      "/srv/conda/envs/notebook/lib/python3.10/site-packages/statsmodels/base/model.py:604: ConvergenceWarning: Maximum Likelihood optimization failed to converge. Check mle_retvals\n",
      "  warnings.warn(\"Maximum Likelihood optimization failed to \"\n"
     ]
    }
   ],
   "source": [
    "import statsmodels.formula.api as smf\n",
    "logreg = smf.logit(formula = 'Adopted ~ Type + Sex + Size + Intake_Type + Intake_Condition',\n",
    "                       data = shelter_train).fit()\n",
    "print(logreg.summary())"
   ]
  },
  {
   "cell_type": "code",
<<<<<<< HEAD
   "execution_count": 24,
=======
   "execution_count": 34,
>>>>>>> 88c0e82a42a6012bfd3c57505d6bfe8ee940a1f5
   "id": "1f4d7f49-046a-4523-8c9f-cdd9bbd683fe",
   "metadata": {},
   "outputs": [
    {
     "name": "stdout",
     "output_type": "stream",
     "text": [
      "Confusion Matrix : \n",
      " [[4820  460]\n",
      " [ 809 1403]]\n"
     ]
    }
   ],
   "source": [
    "# Predicting the probability of adopted\n",
    "y_prob = logreg.predict(shelter_test)\n",
    "\n",
    "# Predicting the label: 0 or 1?\n",
    "y_pred = pd.Series([1 if x > 1/2 else 0 for x in y_prob], index=y_prob.index)\n",
    "\n",
    "y_test = shelter_test['Adopted']\n",
    "cm = confusion_matrix(y_test, y_pred)\n",
    "print (\"Confusion Matrix : \\n\", cm) "
   ]
  },
  {
   "cell_type": "code",
<<<<<<< HEAD
   "execution_count": 25,
=======
   "execution_count": 35,
>>>>>>> 88c0e82a42a6012bfd3c57505d6bfe8ee940a1f5
   "id": "25e9e05b-16d2-426c-8926-1c8c610ae1ce",
   "metadata": {},
   "outputs": [
    {
     "name": "stdout",
     "output_type": "stream",
     "text": [
      "Accuracy is: 0.8306\n",
      "TPR is: 0.6343\n",
      "FPR is: 0.0871\n"
     ]
    }
   ],
   "source": [
    "TN, FP, FN, TP = cm.ravel()\n",
    "\n",
    "# What is the Accuracy?\n",
    "acc= (TN + TP) / sum(cm.ravel())\n",
    "print('Accuracy is: %.4f' %acc)\n",
    "\n",
    "\n",
    "# What is the True Positive Rate ?\n",
    "TPR_logit = TP/(TP+FN)\n",
    "print('TPR is: %.4f' % TPR_logit)\n",
    "\n",
    "# What is the False Positive rate ?\n",
    "FPR_logit = FP/(FP+TN)\n",
    "print('FPR is: %.4f' % FPR_logit)"
   ]
  },
  {
   "cell_type": "markdown",
   "id": "a67d7dff-98dd-4aeb-9a82-1dd544e08ad4",
   "metadata": {
    "user_expressions": []
   },
   "source": [
    "### Predicting Days Before Adoption"
   ]
  },
  {
   "cell_type": "code",
<<<<<<< HEAD
   "execution_count": 26,
=======
   "execution_count": 36,
>>>>>>> 88c0e82a42a6012bfd3c57505d6bfe8ee940a1f5
   "id": "ce6e09dd-89ba-49f4-928b-50f01d4a6384",
   "metadata": {},
   "outputs": [],
   "source": [
    "### filtering on animals that are ultimately adopted\n",
    "adopted_all = shelter_data[shelter_data['Outcome Type'] == 'ADOPTION']\n",
    "\n",
    "### keeping only relevant columns\n",
    "adopted = adopted_all[['Type', 'Breed', 'Color', 'Sex', 'Size', 'Date Of Birth', 'Intake Date','Days in Shelter', \n",
    "                       'Intake_Type', 'Intake_Subtype', 'Intake_Condition', 'Intake Jurisdiction', 'Location',\n",
    "                      'Intake Year']]\n",
    "adopted = adopted.reset_index(drop=True)\n",
    "\n",
    "### creating a feature for animal age at intake time\n",
    "adopted = adopted[~adopted['Date Of Birth'].isna()]\n",
    "adopted = adopted.reset_index(drop=True)\n",
    "adopted['age'] = (pd.to_datetime(adopted['Intake Date'], format='%m/%d/%Y') - pd.to_datetime(adopted['Date Of Birth'], \n",
    "                                                                                            format='%m/%d/%Y')).dt.days\n",
    "adopted = adopted.drop(columns=['Intake Date', 'Date Of Birth'])\n",
    "adopted = adopted.fillna('nan')"
   ]
  },
  {
   "cell_type": "code",
<<<<<<< HEAD
   "execution_count": 27,
=======
   "execution_count": 37,
>>>>>>> 88c0e82a42a6012bfd3c57505d6bfe8ee940a1f5
   "id": "c30c6a88-4553-41d2-98cd-664a39a159fb",
   "metadata": {},
   "outputs": [
    {
     "data": {
      "text/plain": [
       "Index(['Name', 'Type', 'Breed', 'Color', 'Sex', 'Size', 'Date Of Birth',\n",
       "       'Impound Number', 'Kennel Number', 'Animal ID', 'Intake Date',\n",
       "       'Outcome Date', 'Days in Shelter', 'Intake_Type', 'Intake_Subtype',\n",
       "       'Outcome Type', 'Outcome Subtype', 'Intake_Condition',\n",
       "       'Outcome Condition', 'Intake Jurisdiction', 'Outcome Jurisdiction',\n",
       "       'Outcome Zip Code', 'Location', 'Count', 'Intake Year', 'Adopted'],\n",
       "      dtype='object')"
      ]
     },
<<<<<<< HEAD
     "execution_count": 27,
=======
     "execution_count": 37,
>>>>>>> 88c0e82a42a6012bfd3c57505d6bfe8ee940a1f5
     "metadata": {},
     "output_type": "execute_result"
    }
   ],
   "source": [
    "adopted_all.columns"
   ]
  },
  {
   "cell_type": "code",
<<<<<<< HEAD
   "execution_count": 28,
=======
   "execution_count": 38,
>>>>>>> 88c0e82a42a6012bfd3c57505d6bfe8ee940a1f5
   "id": "9feb6b71-0696-442f-aff4-07e15faa894b",
   "metadata": {},
   "outputs": [],
   "source": [
    "adopted['log_days'] = np.log1p(adopted['Days in Shelter'])"
   ]
  },
  {
   "cell_type": "code",
<<<<<<< HEAD
   "execution_count": 29,
=======
   "execution_count": 39,
>>>>>>> 88c0e82a42a6012bfd3c57505d6bfe8ee940a1f5
   "id": "c496f4a7-40b3-421f-a115-5af15797383b",
   "metadata": {},
   "outputs": [],
   "source": [
    "adopted_filtered = adopted[adopted['Days in Shelter']< 200]"
   ]
  },
  {
   "cell_type": "code",
<<<<<<< HEAD
   "execution_count": 30,
=======
   "execution_count": 40,
>>>>>>> 88c0e82a42a6012bfd3c57505d6bfe8ee940a1f5
   "id": "e384777d-6c48-4839-8e33-b8d0f42c6c9e",
   "metadata": {},
   "outputs": [],
   "source": [
    "### test train split\n",
    "# from catboost import CatBoostRegressor\n",
    "# from sklearn.model_selection import train_test_split\n",
    "# from sklearn.model_selection import GridSearchCV\n",
    "\n",
    "X_train, X_test, y_train, y_test = train_test_split(adopted_filtered.drop(['Days in Shelter', 'log_days'], axis=1), \n",
    "                                                    adopted_filtered['log_days'], test_size=0.2, random_state=42)"
   ]
  },
  {
   "cell_type": "code",
   "execution_count": 31,
   "id": "4525eb42-66ce-4396-bbd6-b9abc86a7967",
   "metadata": {},
   "outputs": [
    {
     "name": "stdout",
     "output_type": "stream",
     "text": [
      "0:\tlearn: 0.6458547\ttotal: 74.1ms\tremaining: 1m 51s\n",
      "500:\tlearn: 0.3103670\ttotal: 11.7s\tremaining: 23.4s\n",
      "1000:\tlearn: 0.2503310\ttotal: 23.6s\tremaining: 11.8s\n",
      "1499:\tlearn: 0.2160745\ttotal: 36s\tremaining: 0us\n"
     ]
    }
   ],
   "source": [
    "model = CatBoostRegressor(cat_features=[0, 1, 2, 3, 4, 5, 6, 7, 8, 9, 10], loss_function='MAE', verbose=500,\n",
    "                         depth=9, iterations=1500, learning_rate=0.05)\n",
    "model.fit(X_train, y_train)\n",
    "predictions = model.predict(X_test)"
   ]
  },
  {
   "cell_type": "code",
   "execution_count": 32,
   "id": "36e6fa69-21eb-4625-9366-ea01a4bb361e",
   "metadata": {},
   "outputs": [
    {
     "data": {
      "image/png": "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\n",
      "text/plain": [
       "<Figure size 640x480 with 1 Axes>"
      ]
     },
     "metadata": {},
     "output_type": "display_data"
    }
   ],
   "source": [
    "x = np.linspace(0, 8, 100)\n",
    "y = x\n",
    "\n",
    "plt.plot(x, y, color='red');\n",
    "plt.scatter(x=y_test, y=predictions);\n",
    "plt.show()"
   ]
  },
  {
   "cell_type": "code",
   "execution_count": 33,
   "id": "7d60880c-cd62-409a-9018-18b772997f29",
   "metadata": {},
   "outputs": [
    {
     "name": "stdout",
     "output_type": "stream",
     "text": [
      "Testing performance\n",
      "RMSE: 22.60\n",
      "R2: 0.36\n"
     ]
    }
   ],
   "source": [
    "# from sklearn.metrics import mean_squared_error\n",
    "# from sklearn.metrics import r2_score\n",
    "\n",
    "unlog_pred = np.expm1(predictions)\n",
    "unlog_actual = np.expm1(y_test)\n",
    "\n",
    "rmse = mean_squared_error(unlog_actual, unlog_pred, squared=False)\n",
    "r2 = r2_score(unlog_actual, unlog_pred)\n",
    "\n",
    "print(\"Testing performance\")\n",
    "print('RMSE: {:.2f}'.format(rmse))\n",
    "print('R2: {:.2f}'.format(r2))"
   ]
  },
  {
   "cell_type": "code",
   "execution_count": 34,
   "id": "53244de1-6df5-412b-80cb-ce86e04e5611",
   "metadata": {},
   "outputs": [
    {
     "data": {
      "image/png": "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\n",
      "text/plain": [
       "<Figure size 640x480 with 1 Axes>"
      ]
     },
     "metadata": {},
     "output_type": "display_data"
    }
   ],
   "source": [
    "sorted_feature_importance = model.feature_importances_.argsort()\n",
    "plt.barh(X_train.columns[sorted_feature_importance], \n",
    "        model.feature_importances_[sorted_feature_importance], \n",
    "        color='turquoise')\n",
    "plt.xlabel(\"CatBoost Feature Importance\");"
   ]
  },
  {
   "cell_type": "markdown",
   "id": "6d06d7d3-4098-476c-8dad-a88945570686",
   "metadata": {
    "user_expressions": []
   },
   "source": [
    "## Results"
   ]
  },
  {
   "cell_type": "markdown",
   "id": "de11811e-5650-4fd1-9ba0-c4e2e5df5c5b",
   "metadata": {
    "user_expressions": []
   },
   "source": [
    "## Conclusions"
   ]
  },
  {
   "cell_type": "markdown",
   "id": "4c9b6c56-2648-494d-9421-33dc39d55dbc",
   "metadata": {
    "user_expressions": []
   },
   "source": [
    "## Author Contributions"
   ]
  },
  {
   "cell_type": "code",
   "execution_count": null,
   "id": "4c4c19a6-38a6-47c7-a8a9-fc1e059d03c9",
   "metadata": {},
   "outputs": [],
   "source": []
  }
 ],
 "metadata": {
  "kernelspec": {
   "display_name": "Python 3 (ipykernel)",
   "language": "python",
   "name": "python3"
  },
  "language_info": {
   "codemirror_mode": {
    "name": "ipython",
    "version": 3
   },
   "file_extension": ".py",
   "mimetype": "text/x-python",
   "name": "python",
   "nbconvert_exporter": "python",
   "pygments_lexer": "ipython3",
   "version": "3.10.8"
  }
 },
 "nbformat": 4,
 "nbformat_minor": 5
}
